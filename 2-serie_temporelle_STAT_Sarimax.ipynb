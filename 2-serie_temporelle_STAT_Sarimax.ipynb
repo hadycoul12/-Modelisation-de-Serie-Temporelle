{
 "cells": [
  {
   "cell_type": "code",
   "execution_count": 1,
   "id": "6d1d5028",
   "metadata": {
    "ExecuteTime": {
     "end_time": "2025-03-14T12:58:26.390393Z",
     "start_time": "2025-03-14T12:58:26.335220Z"
    }
   },
   "outputs": [
    {
     "data": {
      "text/html": [
       "<div id=\"my_id_menu_nb\">run previous cell, wait for 2 seconds</div>\n",
       "<script>\n",
       "function repeat_indent_string(n){\n",
       "    var a = \"\" ;\n",
       "    for ( ; n > 0 ; --n)\n",
       "        a += \"    \";\n",
       "    return a;\n",
       "}\n",
       "// look up into all sections and builds an automated menu //\n",
       "var update_menu_string = function(begin, lfirst, llast, sformat, send, keep_item, begin_format, end_format) {\n",
       "    var anchors = document.getElementsByClassName(\"section\");\n",
       "    if (anchors.length == 0) {\n",
       "        anchors = document.getElementsByClassName(\"text_cell_render rendered_html\");\n",
       "    }\n",
       "    var i,t;\n",
       "    var text_menu = begin;\n",
       "    var text_memo = \"<pre>\\nlength:\" + anchors.length + \"\\n\";\n",
       "    var ind = \"\";\n",
       "    var memo_level = 1;\n",
       "    var href;\n",
       "    var tags = [];\n",
       "    var main_item = 0;\n",
       "    var format_open = 0;\n",
       "    for (i = 0; i <= llast; i++)\n",
       "        tags.push(\"h\" + i);\n",
       "\n",
       "    for (i = 0; i < anchors.length; i++) {\n",
       "        text_memo += \"**\" + anchors[i].id + \"--\\n\";\n",
       "\n",
       "        var child = null;\n",
       "        for(t = 0; t < tags.length; t++) {\n",
       "            var r = anchors[i].getElementsByTagName(tags[t]);\n",
       "            if (r.length > 0) {\n",
       "child = r[0];\n",
       "break;\n",
       "            }\n",
       "        }\n",
       "        if (child == null) {\n",
       "            text_memo += \"null\\n\";\n",
       "            continue;\n",
       "        }\n",
       "        if (anchors[i].hasAttribute(\"id\")) {\n",
       "            // when converted in RST\n",
       "            href = anchors[i].id;\n",
       "            text_memo += \"#1-\" + href;\n",
       "            // passer à child suivant (le chercher)\n",
       "        }\n",
       "        else if (child.hasAttribute(\"id\")) {\n",
       "            // in a notebook\n",
       "            href = child.id;\n",
       "            text_memo += \"#2-\" + href;\n",
       "        }\n",
       "        else {\n",
       "            text_memo += \"#3-\" + \"*\" + \"\\n\";\n",
       "            continue;\n",
       "        }\n",
       "        var title = child.textContent;\n",
       "        var level = parseInt(child.tagName.substring(1,2));\n",
       "\n",
       "        text_memo += \"--\" + level + \"?\" + lfirst + \"--\" + title + \"\\n\";\n",
       "\n",
       "        if ((level < lfirst) || (level > llast)) {\n",
       "            continue ;\n",
       "        }\n",
       "        if (title.endsWith('¶')) {\n",
       "            title = title.substring(0,title.length-1).replace(\"<\", \"&lt;\")\n",
       "         .replace(\">\", \"&gt;\").replace(\"&\", \"&amp;\");\n",
       "        }\n",
       "        if (title.length == 0) {\n",
       "            continue;\n",
       "        }\n",
       "\n",
       "        while (level < memo_level) {\n",
       "            text_menu += end_format + \"</ul>\\n\";\n",
       "            format_open -= 1;\n",
       "            memo_level -= 1;\n",
       "        }\n",
       "        if (level == lfirst) {\n",
       "            main_item += 1;\n",
       "        }\n",
       "        if (keep_item != -1 && main_item != keep_item + 1) {\n",
       "            // alert(main_item + \" - \" + level + \" - \" + keep_item);\n",
       "            continue;\n",
       "        }\n",
       "        while (level > memo_level) {\n",
       "            text_menu += \"<ul>\\n\";\n",
       "            memo_level += 1;\n",
       "        }\n",
       "        text_menu += repeat_indent_string(level-2);\n",
       "        text_menu += begin_format + sformat.replace(\"__HREF__\", href).replace(\"__TITLE__\", title);\n",
       "        format_open += 1;\n",
       "    }\n",
       "    while (1 < memo_level) {\n",
       "        text_menu += end_format + \"</ul>\\n\";\n",
       "        memo_level -= 1;\n",
       "        format_open -= 1;\n",
       "    }\n",
       "    text_menu += send;\n",
       "    //text_menu += \"\\n\" + text_memo;\n",
       "\n",
       "    while (format_open > 0) {\n",
       "        text_menu += end_format;\n",
       "        format_open -= 1;\n",
       "    }\n",
       "    return text_menu;\n",
       "};\n",
       "var update_menu = function() {\n",
       "    var sbegin = \"\";\n",
       "    var sformat = '<a href=\"#__HREF__\">__TITLE__</a>';\n",
       "    var send = \"\";\n",
       "    var begin_format = '<li>';\n",
       "    var end_format = '</li>';\n",
       "    var keep_item = -1;\n",
       "    var text_menu = update_menu_string(sbegin, 2, 4, sformat, send, keep_item,\n",
       "       begin_format, end_format);\n",
       "    var menu = document.getElementById(\"my_id_menu_nb\");\n",
       "    menu.innerHTML=text_menu;\n",
       "};\n",
       "window.setTimeout(update_menu,2000);\n",
       "            </script>"
      ],
      "text/plain": [
       "<IPython.core.display.HTML object>"
      ]
     },
     "execution_count": 1,
     "metadata": {},
     "output_type": "execute_result"
    }
   ],
   "source": [
    "from jyquickhelper import add_notebook_menu\n",
    "add_notebook_menu()"
   ]
  },
  {
   "cell_type": "code",
   "execution_count": 2,
   "id": "69fbfd64",
   "metadata": {
    "ExecuteTime": {
     "end_time": "2025-03-14T12:58:36.265933Z",
     "start_time": "2025-03-14T12:58:27.095043Z"
    }
   },
   "outputs": [
    {
     "name": "stderr",
     "output_type": "stream",
     "text": [
      "C:\\Users\\sambe\\anaconda3\\lib\\site-packages\\pandas\\core\\computation\\expressions.py:21: UserWarning: Pandas requires version '2.8.4' or newer of 'numexpr' (version '2.8.1' currently installed).\n",
      "  from pandas.core.computation.check import NUMEXPR_INSTALLED\n",
      "C:\\Users\\sambe\\anaconda3\\lib\\site-packages\\pandas\\core\\arrays\\masked.py:60: UserWarning: Pandas requires version '1.3.6' or newer of 'bottleneck' (version '1.3.4' currently installed).\n",
      "  from pandas.core import (\n"
     ]
    }
   ],
   "source": [
    "#ANNALYSE DE DONNEES AVEC PYTHON\n",
    "import pandas as pd\n",
    "import matplotlib.pylab as plt\n",
    "%matplotlib inline\n",
    "import numpy as np\n",
    "import seaborn as sns\n",
    "import scipy.stats as st\n",
    "\n",
    "#SERIE TEMPORELLE AVEC statsmodels\n",
    "from   statsmodels.tsa.seasonal import seasonal_decompose\n",
    "from   statsmodels.tsa.stattools import acf, pacf\n",
    "import statsmodels.formula.api as smf\n",
    "import statsmodels.tsa.api as smt\n",
    "import statsmodels.api as sm\n",
    "from   statsmodels.tsa.statespace.sarimax import *\n",
    "\n",
    "from pandas.tseries.offsets import MonthEnd\n",
    "\n",
    "#CALCUL DE METRICS OU PRECISON DU MODEL\n",
    "from sklearn.metrics import mean_absolute_error, mean_squared_error\n",
    "\n",
    "#GESTION DES AVERTISSEMENTS\n",
    "import warnings\n",
    "warnings.filterwarnings('ignore')"
   ]
  },
  {
   "cell_type": "markdown",
   "id": "223cb4b0",
   "metadata": {},
   "source": [
    "## Base de donnees\n"
   ]
  },
  {
   "cell_type": "markdown",
   "id": "502f4c41",
   "metadata": {},
   "source": [
    "Vous téléchargerez les données mensuelles de consommation totale d'électricité en énergie à partir de cette page:\n",
    "\n",
    "https://www.rte-france.com/eco2mix/telecharger-les-indicateurs\n",
    "\n",
    "Les données météo que vous utiliserez pour corriger les données de l'effet température sont présentes ici : \n",
    "\n",
    "https://cegibat.grdf.fr/simulateur/calcul-dju"
   ]
  },
  {
   "cell_type": "code",
   "execution_count": 3,
   "id": "529f1ca3-9703-47e6-a9ef-79c9f8914b20",
   "metadata": {
    "ExecuteTime": {
     "end_time": "2025-03-14T12:58:36.416121Z",
     "start_time": "2025-03-14T12:58:36.266895Z"
    }
   },
   "outputs": [
    {
     "data": {
      "text/html": [
       "<div>\n",
       "<style scoped>\n",
       "    .dataframe tbody tr th:only-of-type {\n",
       "        vertical-align: middle;\n",
       "    }\n",
       "\n",
       "    .dataframe tbody tr th {\n",
       "        vertical-align: top;\n",
       "    }\n",
       "\n",
       "    .dataframe thead th {\n",
       "        text-align: right;\n",
       "    }\n",
       "</style>\n",
       "<table border=\"1\" class=\"dataframe\">\n",
       "  <thead>\n",
       "    <tr style=\"text-align: right;\">\n",
       "      <th></th>\n",
       "      <th>Mois</th>\n",
       "      <th>Qualité</th>\n",
       "      <th>Territoire</th>\n",
       "      <th>Production totale</th>\n",
       "      <th>Production nucléaire</th>\n",
       "      <th>Production thermique totale</th>\n",
       "      <th>Production thermique charbon</th>\n",
       "      <th>Production thermique fioul</th>\n",
       "      <th>Production thermique gaz</th>\n",
       "      <th>Production hydraulique</th>\n",
       "      <th>...</th>\n",
       "      <th>Production bioénergies</th>\n",
       "      <th>Consommation totale</th>\n",
       "      <th>Solde exportateur</th>\n",
       "      <th>Echanges export</th>\n",
       "      <th>Echanges import</th>\n",
       "      <th>Echanges avec le Royaume-Uni</th>\n",
       "      <th>Echanges avec l'Espagne</th>\n",
       "      <th>Echanges avec l'Italie</th>\n",
       "      <th>Echanges avec la Suisse</th>\n",
       "      <th>Echanges avec l'Allemagne et la Belgique</th>\n",
       "    </tr>\n",
       "  </thead>\n",
       "  <tbody>\n",
       "    <tr>\n",
       "      <th>0</th>\n",
       "      <td>2012-01</td>\n",
       "      <td>Données définitives</td>\n",
       "      <td>France</td>\n",
       "      <td>57177</td>\n",
       "      <td>42811.0</td>\n",
       "      <td>5399</td>\n",
       "      <td>741.0</td>\n",
       "      <td>691</td>\n",
       "      <td>3967</td>\n",
       "      <td>6741</td>\n",
       "      <td>...</td>\n",
       "      <td>514</td>\n",
       "      <td>51086</td>\n",
       "      <td>5371.0</td>\n",
       "      <td>7043.0</td>\n",
       "      <td>1672.0</td>\n",
       "      <td>929.0</td>\n",
       "      <td>724.0</td>\n",
       "      <td>1581.0</td>\n",
       "      <td>2195.0</td>\n",
       "      <td>-59.0</td>\n",
       "    </tr>\n",
       "    <tr>\n",
       "      <th>1</th>\n",
       "      <td>2012-02</td>\n",
       "      <td>Données définitives</td>\n",
       "      <td>France</td>\n",
       "      <td>54419</td>\n",
       "      <td>38661.0</td>\n",
       "      <td>8721</td>\n",
       "      <td>2511.0</td>\n",
       "      <td>1309</td>\n",
       "      <td>4901</td>\n",
       "      <td>5244</td>\n",
       "      <td>...</td>\n",
       "      <td>454</td>\n",
       "      <td>54476</td>\n",
       "      <td>-715.0</td>\n",
       "      <td>4504.0</td>\n",
       "      <td>5220.0</td>\n",
       "      <td>-798.0</td>\n",
       "      <td>-309.0</td>\n",
       "      <td>1244.0</td>\n",
       "      <td>1579.0</td>\n",
       "      <td>-2430.0</td>\n",
       "    </tr>\n",
       "    <tr>\n",
       "      <th>2</th>\n",
       "      <td>2012-03</td>\n",
       "      <td>Données définitives</td>\n",
       "      <td>France</td>\n",
       "      <td>48583</td>\n",
       "      <td>37549.0</td>\n",
       "      <td>5276</td>\n",
       "      <td>1435.0</td>\n",
       "      <td>666</td>\n",
       "      <td>3175</td>\n",
       "      <td>3894</td>\n",
       "      <td>...</td>\n",
       "      <td>531</td>\n",
       "      <td>43156</td>\n",
       "      <td>4888.0</td>\n",
       "      <td>7042.0</td>\n",
       "      <td>2153.0</td>\n",
       "      <td>583.0</td>\n",
       "      <td>330.0</td>\n",
       "      <td>1742.0</td>\n",
       "      <td>2235.0</td>\n",
       "      <td>-1.0</td>\n",
       "    </tr>\n",
       "    <tr>\n",
       "      <th>3</th>\n",
       "      <td>2012-04</td>\n",
       "      <td>Données définitives</td>\n",
       "      <td>France</td>\n",
       "      <td>44192</td>\n",
       "      <td>33100.0</td>\n",
       "      <td>3484</td>\n",
       "      <td>1655.0</td>\n",
       "      <td>486</td>\n",
       "      <td>1343</td>\n",
       "      <td>5302</td>\n",
       "      <td>...</td>\n",
       "      <td>405</td>\n",
       "      <td>40176</td>\n",
       "      <td>3447.0</td>\n",
       "      <td>5762.0</td>\n",
       "      <td>2314.0</td>\n",
       "      <td>547.0</td>\n",
       "      <td>-9.0</td>\n",
       "      <td>1271.0</td>\n",
       "      <td>1670.0</td>\n",
       "      <td>-31.0</td>\n",
       "    </tr>\n",
       "    <tr>\n",
       "      <th>4</th>\n",
       "      <td>2012-05</td>\n",
       "      <td>Données définitives</td>\n",
       "      <td>France</td>\n",
       "      <td>40433</td>\n",
       "      <td>29058.0</td>\n",
       "      <td>1772</td>\n",
       "      <td>854.0</td>\n",
       "      <td>368</td>\n",
       "      <td>549</td>\n",
       "      <td>7706</td>\n",
       "      <td>...</td>\n",
       "      <td>469</td>\n",
       "      <td>35257</td>\n",
       "      <td>4425.0</td>\n",
       "      <td>6391.0</td>\n",
       "      <td>1965.0</td>\n",
       "      <td>693.0</td>\n",
       "      <td>251.0</td>\n",
       "      <td>1341.0</td>\n",
       "      <td>1060.0</td>\n",
       "      <td>1079.0</td>\n",
       "    </tr>\n",
       "    <tr>\n",
       "      <th>...</th>\n",
       "      <td>...</td>\n",
       "      <td>...</td>\n",
       "      <td>...</td>\n",
       "      <td>...</td>\n",
       "      <td>...</td>\n",
       "      <td>...</td>\n",
       "      <td>...</td>\n",
       "      <td>...</td>\n",
       "      <td>...</td>\n",
       "      <td>...</td>\n",
       "      <td>...</td>\n",
       "      <td>...</td>\n",
       "      <td>...</td>\n",
       "      <td>...</td>\n",
       "      <td>...</td>\n",
       "      <td>...</td>\n",
       "      <td>...</td>\n",
       "      <td>...</td>\n",
       "      <td>...</td>\n",
       "      <td>...</td>\n",
       "      <td>...</td>\n",
       "    </tr>\n",
       "    <tr>\n",
       "      <th>1344</th>\n",
       "      <td>2021-07</td>\n",
       "      <td>Données consolidées</td>\n",
       "      <td>France</td>\n",
       "      <td>40555</td>\n",
       "      <td>28449.0</td>\n",
       "      <td>1605</td>\n",
       "      <td>54.0</td>\n",
       "      <td>159</td>\n",
       "      <td>1392</td>\n",
       "      <td>5626</td>\n",
       "      <td>...</td>\n",
       "      <td>892</td>\n",
       "      <td>32959</td>\n",
       "      <td>7268.0</td>\n",
       "      <td>9252.0</td>\n",
       "      <td>2080.0</td>\n",
       "      <td>1907.0</td>\n",
       "      <td>1316.0</td>\n",
       "      <td>2090.0</td>\n",
       "      <td>1353.0</td>\n",
       "      <td>NaN</td>\n",
       "    </tr>\n",
       "    <tr>\n",
       "      <th>1357</th>\n",
       "      <td>2021-08</td>\n",
       "      <td>Données consolidées</td>\n",
       "      <td>France</td>\n",
       "      <td>39162</td>\n",
       "      <td>29010.0</td>\n",
       "      <td>957</td>\n",
       "      <td>70.0</td>\n",
       "      <td>166</td>\n",
       "      <td>720</td>\n",
       "      <td>4408</td>\n",
       "      <td>...</td>\n",
       "      <td>857</td>\n",
       "      <td>31184</td>\n",
       "      <td>7600.0</td>\n",
       "      <td>9266.0</td>\n",
       "      <td>1698.0</td>\n",
       "      <td>1878.0</td>\n",
       "      <td>1837.0</td>\n",
       "      <td>2090.0</td>\n",
       "      <td>1393.0</td>\n",
       "      <td>NaN</td>\n",
       "    </tr>\n",
       "    <tr>\n",
       "      <th>1370</th>\n",
       "      <td>2021-09</td>\n",
       "      <td>Données consolidées</td>\n",
       "      <td>France</td>\n",
       "      <td>38505</td>\n",
       "      <td>29001.0</td>\n",
       "      <td>2197</td>\n",
       "      <td>498.0</td>\n",
       "      <td>146</td>\n",
       "      <td>1552</td>\n",
       "      <td>3417</td>\n",
       "      <td>...</td>\n",
       "      <td>815</td>\n",
       "      <td>32350</td>\n",
       "      <td>5764.0</td>\n",
       "      <td>2118.0</td>\n",
       "      <td>6126.0</td>\n",
       "      <td>1114.0</td>\n",
       "      <td>1433.0</td>\n",
       "      <td>2126.0</td>\n",
       "      <td>1468.0</td>\n",
       "      <td>NaN</td>\n",
       "    </tr>\n",
       "    <tr>\n",
       "      <th>1383</th>\n",
       "      <td>2021-10</td>\n",
       "      <td>Données consolidées</td>\n",
       "      <td>France</td>\n",
       "      <td>41695</td>\n",
       "      <td>30658.0</td>\n",
       "      <td>3621</td>\n",
       "      <td>600.0</td>\n",
       "      <td>180</td>\n",
       "      <td>2840</td>\n",
       "      <td>3092</td>\n",
       "      <td>...</td>\n",
       "      <td>812</td>\n",
       "      <td>36762</td>\n",
       "      <td>4291.0</td>\n",
       "      <td>2745.0</td>\n",
       "      <td>4155.0</td>\n",
       "      <td>464.0</td>\n",
       "      <td>861.0</td>\n",
       "      <td>2141.0</td>\n",
       "      <td>1873.0</td>\n",
       "      <td>NaN</td>\n",
       "    </tr>\n",
       "    <tr>\n",
       "      <th>1396</th>\n",
       "      <td>2021-11</td>\n",
       "      <td>Données consolidées</td>\n",
       "      <td>France</td>\n",
       "      <td>44284</td>\n",
       "      <td>30370.0</td>\n",
       "      <td>5726</td>\n",
       "      <td>566.0</td>\n",
       "      <td>192</td>\n",
       "      <td>4966</td>\n",
       "      <td>4026</td>\n",
       "      <td>...</td>\n",
       "      <td>825</td>\n",
       "      <td>44458</td>\n",
       "      <td>-812.0</td>\n",
       "      <td>6062.0</td>\n",
       "      <td>-1111.0</td>\n",
       "      <td>-160.0</td>\n",
       "      <td>-841.0</td>\n",
       "      <td>1045.0</td>\n",
       "      <td>1513.0</td>\n",
       "      <td>NaN</td>\n",
       "    </tr>\n",
       "  </tbody>\n",
       "</table>\n",
       "<p>119 rows × 22 columns</p>\n",
       "</div>"
      ],
      "text/plain": [
       "         Mois              Qualité Territoire  Production totale  \\\n",
       "0     2012-01  Données définitives     France              57177   \n",
       "1     2012-02  Données définitives     France              54419   \n",
       "2     2012-03  Données définitives     France              48583   \n",
       "3     2012-04  Données définitives     France              44192   \n",
       "4     2012-05  Données définitives     France              40433   \n",
       "...       ...                  ...        ...                ...   \n",
       "1344  2021-07  Données consolidées     France              40555   \n",
       "1357  2021-08  Données consolidées     France              39162   \n",
       "1370  2021-09  Données consolidées     France              38505   \n",
       "1383  2021-10  Données consolidées     France              41695   \n",
       "1396  2021-11  Données consolidées     France              44284   \n",
       "\n",
       "      Production nucléaire  Production thermique totale  \\\n",
       "0                  42811.0                         5399   \n",
       "1                  38661.0                         8721   \n",
       "2                  37549.0                         5276   \n",
       "3                  33100.0                         3484   \n",
       "4                  29058.0                         1772   \n",
       "...                    ...                          ...   \n",
       "1344               28449.0                         1605   \n",
       "1357               29010.0                          957   \n",
       "1370               29001.0                         2197   \n",
       "1383               30658.0                         3621   \n",
       "1396               30370.0                         5726   \n",
       "\n",
       "      Production thermique charbon  Production thermique fioul  \\\n",
       "0                            741.0                         691   \n",
       "1                           2511.0                        1309   \n",
       "2                           1435.0                         666   \n",
       "3                           1655.0                         486   \n",
       "4                            854.0                         368   \n",
       "...                            ...                         ...   \n",
       "1344                          54.0                         159   \n",
       "1357                          70.0                         166   \n",
       "1370                         498.0                         146   \n",
       "1383                         600.0                         180   \n",
       "1396                         566.0                         192   \n",
       "\n",
       "      Production thermique gaz  Production hydraulique  ...  \\\n",
       "0                         3967                    6741  ...   \n",
       "1                         4901                    5244  ...   \n",
       "2                         3175                    3894  ...   \n",
       "3                         1343                    5302  ...   \n",
       "4                          549                    7706  ...   \n",
       "...                        ...                     ...  ...   \n",
       "1344                      1392                    5626  ...   \n",
       "1357                       720                    4408  ...   \n",
       "1370                      1552                    3417  ...   \n",
       "1383                      2840                    3092  ...   \n",
       "1396                      4966                    4026  ...   \n",
       "\n",
       "      Production bioénergies  Consommation totale  Solde exportateur  \\\n",
       "0                        514                51086             5371.0   \n",
       "1                        454                54476             -715.0   \n",
       "2                        531                43156             4888.0   \n",
       "3                        405                40176             3447.0   \n",
       "4                        469                35257             4425.0   \n",
       "...                      ...                  ...                ...   \n",
       "1344                     892                32959             7268.0   \n",
       "1357                     857                31184             7600.0   \n",
       "1370                     815                32350             5764.0   \n",
       "1383                     812                36762             4291.0   \n",
       "1396                     825                44458             -812.0   \n",
       "\n",
       "      Echanges export  Echanges import  Echanges avec le Royaume-Uni  \\\n",
       "0              7043.0           1672.0                         929.0   \n",
       "1              4504.0           5220.0                        -798.0   \n",
       "2              7042.0           2153.0                         583.0   \n",
       "3              5762.0           2314.0                         547.0   \n",
       "4              6391.0           1965.0                         693.0   \n",
       "...               ...              ...                           ...   \n",
       "1344           9252.0           2080.0                        1907.0   \n",
       "1357           9266.0           1698.0                        1878.0   \n",
       "1370           2118.0           6126.0                        1114.0   \n",
       "1383           2745.0           4155.0                         464.0   \n",
       "1396           6062.0          -1111.0                        -160.0   \n",
       "\n",
       "      Echanges avec l'Espagne  Echanges avec l'Italie  \\\n",
       "0                       724.0                  1581.0   \n",
       "1                      -309.0                  1244.0   \n",
       "2                       330.0                  1742.0   \n",
       "3                        -9.0                  1271.0   \n",
       "4                       251.0                  1341.0   \n",
       "...                       ...                     ...   \n",
       "1344                   1316.0                  2090.0   \n",
       "1357                   1837.0                  2090.0   \n",
       "1370                   1433.0                  2126.0   \n",
       "1383                    861.0                  2141.0   \n",
       "1396                   -841.0                  1045.0   \n",
       "\n",
       "      Echanges avec la Suisse  Echanges avec l'Allemagne et la Belgique  \n",
       "0                      2195.0                                     -59.0  \n",
       "1                      1579.0                                   -2430.0  \n",
       "2                      2235.0                                      -1.0  \n",
       "3                      1670.0                                     -31.0  \n",
       "4                      1060.0                                    1079.0  \n",
       "...                       ...                                       ...  \n",
       "1344                   1353.0                                       NaN  \n",
       "1357                   1393.0                                       NaN  \n",
       "1370                   1468.0                                       NaN  \n",
       "1383                   1873.0                                       NaN  \n",
       "1396                   1513.0                                       NaN  \n",
       "\n",
       "[119 rows x 22 columns]"
      ]
     },
     "execution_count": 3,
     "metadata": {},
     "output_type": "execute_result"
    }
   ],
   "source": [
    "data0 = pd.read_csv(\"energie.csv\", sep = ';')\n",
    "data=data0.query('Territoire==\"France\"')\n",
    "data"
   ]
  },
  {
   "cell_type": "code",
   "execution_count": null,
   "id": "707b5e70",
   "metadata": {},
   "outputs": [],
   "source": []
  },
  {
   "cell_type": "code",
   "execution_count": 4,
   "id": "f26347d2",
   "metadata": {
    "ExecuteTime": {
     "end_time": "2025-03-14T12:58:36.432122Z",
     "start_time": "2025-03-14T12:58:36.420121Z"
    }
   },
   "outputs": [],
   "source": [
    "data.index=data.Mois"
   ]
  },
  {
   "cell_type": "code",
   "execution_count": null,
   "id": "bd86ff2f",
   "metadata": {},
   "outputs": [],
   "source": []
  },
  {
   "cell_type": "code",
   "execution_count": 5,
   "id": "92f26304",
   "metadata": {
    "ExecuteTime": {
     "end_time": "2025-03-14T12:58:36.948455Z",
     "start_time": "2025-03-14T12:58:36.436579Z"
    }
   },
   "outputs": [
    {
     "data": {
      "text/plain": [
       "<Axes: xlabel='Mois'>"
      ]
     },
     "execution_count": 5,
     "metadata": {},
     "output_type": "execute_result"
    },
    {
     "data": {
      "image/png": "[encoded data removed]",
      "text/plain": [
       "<Figure size 720x432 with 1 Axes>"
      ]
     },
     "metadata": {
      "needs_background": "light"
     },
     "output_type": "display_data"
    }
   ],
   "source": [
    "y=data[\"Consommation totale\"]\n",
    "y.plot(figsize=(10,6))"
   ]
  },
  {
   "cell_type": "code",
   "execution_count": null,
   "id": "72b1de1e",
   "metadata": {},
   "outputs": [],
   "source": []
  },
  {
   "cell_type": "code",
   "execution_count": 50,
   "id": "771c8bcc",
   "metadata": {
    "ExecuteTime": {
     "end_time": "2025-03-14T13:19:22.986187Z",
     "start_time": "2025-03-14T13:19:22.877213Z"
    }
   },
   "outputs": [
    {
     "data": {
      "application/vnd.plotly.v1+json": {
       "config": {
        "plotlyServerURL": "https://plot.ly"
       },
       "data": [
        {
         "hovertemplate": "variable=Production totale<br>Mois=%{x}<br>value=%{y}<extra></extra>",
         "legendgroup": "Production totale",
         "line": {
          "color": "#636efa",
          "dash": "solid"
         },
         "marker": {
          "symbol": "circle"
         },
         "mode": "lines",
         "name": "Production totale",
         "orientation": "v",
         "showlegend": true,
         "type": "scatter",
         "x": [
          "2012-01",
          "2012-02",
          "2012-03",
          "2012-04",
          "2012-05",
          "2012-06",
          "2012-07",
          "2012-08",
          "2012-09",
          "2012-10",
          "2012-11",
          "2012-12",
          "2013-01",
          "2013-02",
          "2013-03",
          "2013-04",
          "2013-05",
          "2013-06",
          "2013-07",
          "2013-08",
          "2013-09",
          "2013-10",
          "2013-11",
          "2013-12",
          "2014-01",
          "2014-02",
          "2014-03",
          "2014-04",
          "2014-05",
          "2014-06",
          "2014-07",
          "2014-08",
          "2014-09",
          "2014-10",
          "2014-11",
          "2014-12",
          "2015-01",
          "2015-02",
          "2015-03",
          "2015-04",
          "2015-05",
          "2015-06",
          "2015-07",
          "2015-08",
          "2015-09",
          "2015-10",
          "2015-11",
          "2015-12",
          "2016-01",
          "2016-02",
          "2016-03",
          "2016-04",
          "2016-05",
          "2016-06",
          "2016-07",
          "2016-08",
          "2016-09",
          "2016-10",
          "2016-11",
          "2016-12",
          "2017-01",
          "2017-02",
          "2017-03",
          "2017-04",
          "2017-05",
          "2017-06",
          "2017-07",
          "2017-08",
          "2017-09",
          "2017-10",
          "2017-11",
          "2017-12",
          "2018-01",
          "2018-02",
          "2018-03",
          "2018-04",
          "2018-05",
          "2018-06",
          "2018-07",
          "2018-08",
          "2018-09",
          "2018-10",
          "2018-11",
          "2018-12",
          "2019-01",
          "2019-02",
          "2019-03",
          "2019-04",
          "2019-05",
          "2019-06",
          "2019-07",
          "2019-08",
          "2019-09",
          "2019-10",
          "2019-11",
          "2019-12",
          "2020-01",
          "2020-02",
          "2020-03",
          "2020-04",
          "2020-05",
          "2020-06",
          "2020-07",
          "2020-08",
          "2020-09",
          "2020-10",
          "2020-11",
          "2020-12",
          "2021-01",
          "2021-02",
          "2021-03",
          "2021-04",
          "2021-05",
          "2021-06",
          "2021-07",
          "2021-08",
          "2021-09",
          "2021-10",
          "2021-11"
         ],
         "xaxis": "x",
         "y": [
          57177,
          54419,
          48583,
          44192,
          40433,
          37518,
          37910,
          36339,
          38035,
          42987,
          49228,
          54715,
          57739,
          52257,
          51882,
          44117,
          43377,
          39337,
          40850,
          38428,
          38604,
          41761,
          48527,
          53564,
          55975,
          49555,
          48290,
          40826,
          41872,
          39366,
          42722,
          39407,
          39183,
          41312,
          47114,
          54731,
          58310,
          52143,
          50683,
          41509,
          40641,
          39927,
          41695,
          38939,
          39078,
          44511,
          47560,
          51764,
          55982,
          51979,
          52037,
          43190,
          40641,
          40033,
          38447,
          36034,
          36431,
          39917,
          45494,
          51225,
          57222,
          48028,
          49750,
          42574,
          41560,
          37373,
          38905,
          37164,
          38655,
          39700,
          44983,
          53317,
          56775,
          53770,
          52502,
          42741,
          42744,
          40737,
          41261,
          37283,
          38868,
          42356,
          46318,
          53394,
          55923,
          50241,
          50483,
          42747,
          43680,
          40239,
          40596,
          37640,
          37616,
          41143,
          45926,
          51229,
          54667,
          50756,
          48020,
          36883,
          37664,
          34501,
          34489,
          33546,
          32171,
          41726,
          45127,
          50575,
          55421,
          46951,
          47598,
          39562,
          41433,
          39246,
          40555,
          39162,
          38505,
          41695,
          44284
         ],
         "yaxis": "y"
        },
        {
         "hovertemplate": "variable=Production nucléaire<br>Mois=%{x}<br>value=%{y}<extra></extra>",
         "legendgroup": "Production nucléaire",
         "line": {
          "color": "#EF553B",
          "dash": "solid"
         },
         "marker": {
          "symbol": "circle"
         },
         "mode": "lines",
         "name": "Production nucléaire",
         "orientation": "v",
         "showlegend": true,
         "type": "scatter",
         "x": [
          "2012-01",
          "2012-02",
          "2012-03",
          "2012-04",
          "2012-05",
          "2012-06",
          "2012-07",
          "2012-08",
          "2012-09",
          "2012-10",
          "2012-11",
          "2012-12",
          "2013-01",
          "2013-02",
          "2013-03",
          "2013-04",
          "2013-05",
          "2013-06",
          "2013-07",
          "2013-08",
          "2013-09",
          "2013-10",
          "2013-11",
          "2013-12",
          "2014-01",
          "2014-02",
          "2014-03",
          "2014-04",
          "2014-05",
          "2014-06",
          "2014-07",
          "2014-08",
          "2014-09",
          "2014-10",
          "2014-11",
          "2014-12",
          "2015-01",
          "2015-02",
          "2015-03",
          "2015-04",
          "2015-05",
          "2015-06",
          "2015-07",
          "2015-08",
          "2015-09",
          "2015-10",
          "2015-11",
          "2015-12",
          "2016-01",
          "2016-02",
          "2016-03",
          "2016-04",
          "2016-05",
          "2016-06",
          "2016-07",
          "2016-08",
          "2016-09",
          "2016-10",
          "2016-11",
          "2016-12",
          "2017-01",
          "2017-02",
          "2017-03",
          "2017-04",
          "2017-05",
          "2017-06",
          "2017-07",
          "2017-08",
          "2017-09",
          "2017-10",
          "2017-11",
          "2017-12",
          "2018-01",
          "2018-02",
          "2018-03",
          "2018-04",
          "2018-05",
          "2018-06",
          "2018-07",
          "2018-08",
          "2018-09",
          "2018-10",
          "2018-11",
          "2018-12",
          "2019-01",
          "2019-02",
          "2019-03",
          "2019-04",
          "2019-05",
          "2019-06",
          "2019-07",
          "2019-08",
          "2019-09",
          "2019-10",
          "2019-11",
          "2019-12",
          "2020-01",
          "2020-02",
          "2020-03",
          "2020-04",
          "2020-05",
          "2020-06",
          "2020-07",
          "2020-08",
          "2020-09",
          "2020-10",
          "2020-11",
          "2020-12",
          "2021-01",
          "2021-02",
          "2021-03",
          "2021-04",
          "2021-05",
          "2021-06",
          "2021-07",
          "2021-08",
          "2021-09",
          "2021-10",
          "2021-11"
         ],
         "xaxis": "x",
         "y": [
          42811,
          38661,
          37549,
          33100,
          29058,
          26562,
          28818,
          28314,
          30130,
          32848,
          37119,
          39912,
          42406,
          36754,
          36785,
          31497,
          31171,
          28619,
          30694,
          29908,
          29758,
          31105,
          34630,
          40422,
          42697,
          36396,
          35797,
          31208,
          31713,
          30994,
          33394,
          30989,
          31938,
          32803,
          36290,
          41633,
          43792,
          37483,
          36915,
          31187,
          30329,
          30719,
          33272,
          31994,
          30643,
          34489,
          35681,
          40288,
          41588,
          37323,
          37177,
          31057,
          29441,
          28641,
          28342,
          27114,
          26478,
          29020,
          31149,
          36649,
          40491,
          33689,
          34272,
          31752,
          30136,
          26884,
          28159,
          28585,
          29345,
          28053,
          30334,
          37382,
          40793,
          36409,
          35678,
          30592,
          30581,
          28624,
          29958,
          27294,
          30099,
          31613,
          32658,
          38890,
          40157,
          36089,
          35497,
          31756,
          31668,
          28560,
          29195,
          27721,
          27533,
          29162,
          29133,
          32985,
          37352,
          33178,
          30624,
          26823,
          24714,
          21334,
          22499,
          22876,
          21739,
          28271,
          31565,
          34432,
          37176,
          30337,
          31695,
          27209,
          27574,
          27716,
          28449,
          29010,
          29001,
          30658,
          30370
         ],
         "yaxis": "y"
        }
       ],
       "layout": {
        "autosize": true,
        "legend": {
         "title": {
          "text": "variable"
         },
         "tracegroupgap": 0
        },
        "margin": {
         "t": 60
        },
        "template": {
         "data": {
          "bar": [
           {
            "error_x": {
             "color": "#2a3f5f"
            },
            "error_y": {
             "color": "#2a3f5f"
            },
            "marker": {
             "line": {
              "color": "#E5ECF6",
              "width": 0.5
             },
             "pattern": {
              "fillmode": "overlay",
              "size": 10,
              "solidity": 0.2
             }
            },
            "type": "bar"
           }
          ],
          "barpolar": [
           {
            "marker": {
             "line": {
              "color": "#E5ECF6",
              "width": 0.5
             },
             "pattern": {
              "fillmode": "overlay",
              "size": 10,
              "solidity": 0.2
             }
            },
            "type": "barpolar"
           }
          ],
          "carpet": [
           {
            "aaxis": {
             "endlinecolor": "#2a3f5f",
             "gridcolor": "white",
             "linecolor": "white",
             "minorgridcolor": "white",
             "startlinecolor": "#2a3f5f"
            },
            "baxis": {
             "endlinecolor": "#2a3f5f",
             "gridcolor": "white",
             "linecolor": "white",
             "minorgridcolor": "white",
             "startlinecolor": "#2a3f5f"
            },
            "type": "carpet"
           }
          ],
          "choropleth": [
           {
            "colorbar": {
             "outlinewidth": 0,
             "ticks": ""
            },
            "type": "choropleth"
           }
          ],
          "contour": [
           {
            "colorbar": {
             "outlinewidth": 0,
             "ticks": ""
            },
            "colorscale": [
             [
              0,
              "#0d0887"
             ],
             [
              0.1111111111111111,
              "#46039f"
             ],
             [
              0.2222222222222222,
              "#7201a8"
             ],
             [
              0.3333333333333333,
              "#9c179e"
             ],
             [
              0.4444444444444444,
              "#bd3786"
             ],
             [
              0.5555555555555556,
              "#d8576b"
             ],
             [
              0.6666666666666666,
              "#ed7953"
             ],
             [
              0.7777777777777778,
              "#fb9f3a"
             ],
             [
              0.8888888888888888,
              "#fdca26"
             ],
             [
              1,
              "#f0f921"
             ]
            ],
            "type": "contour"
           }
          ],
          "contourcarpet": [
           {
            "colorbar": {
             "outlinewidth": 0,
             "ticks": ""
            },
            "type": "contourcarpet"
           }
          ],
          "heatmap": [
           {
            "colorbar": {
             "outlinewidth": 0,
             "ticks": ""
            },
            "colorscale": [
             [
              0,
              "#0d0887"
             ],
             [
              0.1111111111111111,
              "#46039f"
             ],
             [
              0.2222222222222222,
              "#7201a8"
             ],
             [
              0.3333333333333333,
              "#9c179e"
             ],
             [
              0.4444444444444444,
              "#bd3786"
             ],
             [
              0.5555555555555556,
              "#d8576b"
             ],
             [
              0.6666666666666666,
              "#ed7953"
             ],
             [
              0.7777777777777778,
              "#fb9f3a"
             ],
             [
              0.8888888888888888,
              "#fdca26"
             ],
             [
              1,
              "#f0f921"
             ]
            ],
            "type": "heatmap"
           }
          ],
          "heatmapgl": [
           {
            "colorbar": {
             "outlinewidth": 0,
             "ticks": ""
            },
            "colorscale": [
             [
              0,
              "#0d0887"
             ],
             [
              0.1111111111111111,
              "#46039f"
             ],
             [
              0.2222222222222222,
              "#7201a8"
             ],
             [
              0.3333333333333333,
              "#9c179e"
             ],
             [
              0.4444444444444444,
              "#bd3786"
             ],
             [
              0.5555555555555556,
              "#d8576b"
             ],
             [
              0.6666666666666666,
              "#ed7953"
             ],
             [
              0.7777777777777778,
              "#fb9f3a"
             ],
             [
              0.8888888888888888,
              "#fdca26"
             ],
             [
              1,
              "#f0f921"
             ]
            ],
            "type": "heatmapgl"
           }
          ],
          "histogram": [
           {
            "marker": {
             "pattern": {
              "fillmode": "overlay",
              "size": 10,
              "solidity": 0.2
             }
            },
            "type": "histogram"
           }
          ],
          "histogram2d": [
           {
            "colorbar": {
             "outlinewidth": 0,
             "ticks": ""
            },
            "colorscale": [
             [
              0,
              "#0d0887"
             ],
             [
              0.1111111111111111,
              "#46039f"
             ],
             [
              0.2222222222222222,
              "#7201a8"
             ],
             [
              0.3333333333333333,
              "#9c179e"
             ],
             [
              0.4444444444444444,
              "#bd3786"
             ],
             [
              0.5555555555555556,
              "#d8576b"
             ],
             [
              0.6666666666666666,
              "#ed7953"
             ],
             [
              0.7777777777777778,
              "#fb9f3a"
             ],
             [
              0.8888888888888888,
              "#fdca26"
             ],
             [
              1,
              "#f0f921"
             ]
            ],
            "type": "histogram2d"
           }
          ],
          "histogram2dcontour": [
           {
            "colorbar": {
             "outlinewidth": 0,
             "ticks": ""
            },
            "colorscale": [
             [
              0,
              "#0d0887"
             ],
             [
              0.1111111111111111,
              "#46039f"
             ],
             [
              0.2222222222222222,
              "#7201a8"
             ],
             [
              0.3333333333333333,
              "#9c179e"
             ],
             [
              0.4444444444444444,
              "#bd3786"
             ],
             [
              0.5555555555555556,
              "#d8576b"
             ],
             [
              0.6666666666666666,
              "#ed7953"
             ],
             [
              0.7777777777777778,
              "#fb9f3a"
             ],
             [
              0.8888888888888888,
              "#fdca26"
             ],
             [
              1,
              "#f0f921"
             ]
            ],
            "type": "histogram2dcontour"
           }
          ],
          "mesh3d": [
           {
            "colorbar": {
             "outlinewidth": 0,
             "ticks": ""
            },
            "type": "mesh3d"
           }
          ],
          "parcoords": [
           {
            "line": {
             "colorbar": {
              "outlinewidth": 0,
              "ticks": ""
             }
            },
            "type": "parcoords"
           }
          ],
          "pie": [
           {
            "automargin": true,
            "type": "pie"
           }
          ],
          "scatter": [
           {
            "fillpattern": {
             "fillmode": "overlay",
             "size": 10,
             "solidity": 0.2
            },
            "type": "scatter"
           }
          ],
          "scatter3d": [
           {
            "line": {
             "colorbar": {
              "outlinewidth": 0,
              "ticks": ""
             }
            },
            "marker": {
             "colorbar": {
              "outlinewidth": 0,
              "ticks": ""
             }
            },
            "type": "scatter3d"
           }
          ],
          "scattercarpet": [
           {
            "marker": {
             "colorbar": {
              "outlinewidth": 0,
              "ticks": ""
             }
            },
            "type": "scattercarpet"
           }
          ],
          "scattergeo": [
           {
            "marker": {
             "colorbar": {
              "outlinewidth": 0,
              "ticks": ""
             }
            },
            "type": "scattergeo"
           }
          ],
          "scattergl": [
           {
            "marker": {
             "colorbar": {
              "outlinewidth": 0,
              "ticks": ""
             }
            },
            "type": "scattergl"
           }
          ],
          "scattermapbox": [
           {
            "marker": {
             "colorbar": {
              "outlinewidth": 0,
              "ticks": ""
             }
            },
            "type": "scattermapbox"
           }
          ],
          "scatterpolar": [
           {
            "marker": {
             "colorbar": {
              "outlinewidth": 0,
              "ticks": ""
             }
            },
            "type": "scatterpolar"
           }
          ],
          "scatterpolargl": [
           {
            "marker": {
             "colorbar": {
              "outlinewidth": 0,
              "ticks": ""
             }
            },
            "type": "scatterpolargl"
           }
          ],
          "scatterternary": [
           {
            "marker": {
             "colorbar": {
              "outlinewidth": 0,
              "ticks": ""
             }
            },
            "type": "scatterternary"
           }
          ],
          "surface": [
           {
            "colorbar": {
             "outlinewidth": 0,
             "ticks": ""
            },
            "colorscale": [
             [
              0,
              "#0d0887"
             ],
             [
              0.1111111111111111,
              "#46039f"
             ],
             [
              0.2222222222222222,
              "#7201a8"
             ],
             [
              0.3333333333333333,
              "#9c179e"
             ],
             [
              0.4444444444444444,
              "#bd3786"
             ],
             [
              0.5555555555555556,
              "#d8576b"
             ],
             [
              0.6666666666666666,
              "#ed7953"
             ],
             [
              0.7777777777777778,
              "#fb9f3a"
             ],
             [
              0.8888888888888888,
              "#fdca26"
             ],
             [
              1,
              "#f0f921"
             ]
            ],
            "type": "surface"
           }
          ],
          "table": [
           {
            "cells": {
             "fill": {
              "color": "#EBF0F8"
             },
             "line": {
              "color": "white"
             }
            },
            "header": {
             "fill": {
              "color": "#C8D4E3"
             },
             "line": {
              "color": "white"
             }
            },
            "type": "table"
           }
          ]
         },
         "layout": {
          "annotationdefaults": {
           "arrowcolor": "#2a3f5f",
           "arrowhead": 0,
           "arrowwidth": 1
          },
          "autotypenumbers": "strict",
          "coloraxis": {
           "colorbar": {
            "outlinewidth": 0,
            "ticks": ""
           }
          },
          "colorscale": {
           "diverging": [
            [
             0,
             "#8e0152"
            ],
            [
             0.1,
             "#c51b7d"
            ],
            [
             0.2,
             "#de77ae"
            ],
            [
             0.3,
             "#f1b6da"
            ],
            [
             0.4,
             "#fde0ef"
            ],
            [
             0.5,
             "#f7f7f7"
            ],
            [
             0.6,
             "#e6f5d0"
            ],
            [
             0.7,
             "#b8e186"
            ],
            [
             0.8,
             "#7fbc41"
            ],
            [
             0.9,
             "#4d9221"
            ],
            [
             1,
             "#276419"
            ]
           ],
           "sequential": [
            [
             0,
             "#0d0887"
            ],
            [
             0.1111111111111111,
             "#46039f"
            ],
            [
             0.2222222222222222,
             "#7201a8"
            ],
            [
             0.3333333333333333,
             "#9c179e"
            ],
            [
             0.4444444444444444,
             "#bd3786"
            ],
            [
             0.5555555555555556,
             "#d8576b"
            ],
            [
             0.6666666666666666,
             "#ed7953"
            ],
            [
             0.7777777777777778,
             "#fb9f3a"
            ],
            [
             0.8888888888888888,
             "#fdca26"
            ],
            [
             1,
             "#f0f921"
            ]
           ],
           "sequentialminus": [
            [
             0,
             "#0d0887"
            ],
            [
             0.1111111111111111,
             "#46039f"
            ],
            [
             0.2222222222222222,
             "#7201a8"
            ],
            [
             0.3333333333333333,
             "#9c179e"
            ],
            [
             0.4444444444444444,
             "#bd3786"
            ],
            [
             0.5555555555555556,
             "#d8576b"
            ],
            [
             0.6666666666666666,
             "#ed7953"
            ],
            [
             0.7777777777777778,
             "#fb9f3a"
            ],
            [
             0.8888888888888888,
             "#fdca26"
            ],
            [
             1,
             "#f0f921"
            ]
           ]
          },
          "colorway": [
           "#636efa",
           "#EF553B",
           "#00cc96",
           "#ab63fa",
           "#FFA15A",
           "#19d3f3",
           "#FF6692",
           "#B6E880",
           "#FF97FF",
           "#FECB52"
          ],
          "font": {
           "color": "#2a3f5f"
          },
          "geo": {
           "bgcolor": "white",
           "lakecolor": "white",
           "landcolor": "#E5ECF6",
           "showlakes": true,
           "showland": true,
           "subunitcolor": "white"
          },
          "hoverlabel": {
           "align": "left"
          },
          "hovermode": "closest",
          "mapbox": {
           "style": "light"
          },
          "paper_bgcolor": "white",
          "plot_bgcolor": "#E5ECF6",
          "polar": {
           "angularaxis": {
            "gridcolor": "white",
            "linecolor": "white",
            "ticks": ""
           },
           "bgcolor": "#E5ECF6",
           "radialaxis": {
            "gridcolor": "white",
            "linecolor": "white",
            "ticks": ""
           }
          },
          "scene": {
           "xaxis": {
            "backgroundcolor": "#E5ECF6",
            "gridcolor": "white",
            "gridwidth": 2,
            "linecolor": "white",
            "showbackground": true,
            "ticks": "",
            "zerolinecolor": "white"
           },
           "yaxis": {
            "backgroundcolor": "#E5ECF6",
            "gridcolor": "white",
            "gridwidth": 2,
            "linecolor": "white",
            "showbackground": true,
            "ticks": "",
            "zerolinecolor": "white"
           },
           "zaxis": {
            "backgroundcolor": "#E5ECF6",
            "gridcolor": "white",
            "gridwidth": 2,
            "linecolor": "white",
            "showbackground": true,
            "ticks": "",
            "zerolinecolor": "white"
           }
          },
          "shapedefaults": {
           "line": {
            "color": "#2a3f5f"
           }
          },
          "ternary": {
           "aaxis": {
            "gridcolor": "white",
            "linecolor": "white",
            "ticks": ""
           },
           "baxis": {
            "gridcolor": "white",
            "linecolor": "white",
            "ticks": ""
           },
           "bgcolor": "#E5ECF6",
           "caxis": {
            "gridcolor": "white",
            "linecolor": "white",
            "ticks": ""
           }
          },
          "title": {
           "x": 0.05
          },
          "xaxis": {
           "automargin": true,
           "gridcolor": "white",
           "linecolor": "white",
           "ticks": "",
           "title": {
            "standoff": 15
           },
           "zerolinecolor": "white",
           "zerolinewidth": 2
          },
          "yaxis": {
           "automargin": true,
           "gridcolor": "white",
           "linecolor": "white",
           "ticks": "",
           "title": {
            "standoff": 15
           },
           "zerolinecolor": "white",
           "zerolinewidth": 2
          }
         }
        },
        "xaxis": {
         "anchor": "y",
         "autorange": true,
         "domain": [
          0,
          1
         ],
         "range": [
          "2012-01-01",
          "2021-11-01"
         ],
         "title": {
          "text": "Mois"
         },
         "type": "date"
        },
        "yaxis": {
         "anchor": "x",
         "autorange": true,
         "domain": [
          0,
          1
         ],
         "range": [
          19279.777777777777,
          60364.22222222222
         ],
         "title": {
          "text": "value"
         },
         "type": "linear"
        }
       }
      },
      "image/png": "[encoded data removed]",
      "text/html": [
       "<div>                            <div id=\"21c607d2-3e4e-41c7-8141-14989587ea81\" class=\"plotly-graph-div\" style=\"height:525px; width:100%;\"></div>            <script type=\"text/javascript\">                require([\"plotly\"], function(Plotly) {                    window.PLOTLYENV=window.PLOTLYENV || {};                                    if (document.getElementById(\"21c607d2-3e4e-41c7-8141-14989587ea81\")) {                    Plotly.newPlot(                        \"21c607d2-3e4e-41c7-8141-14989587ea81\",                        [{\"hovertemplate\":\"variable=Production totale\\u003cbr\\u003eMois=%{x}\\u003cbr\\u003evalue=%{y}\\u003cextra\\u003e\\u003c\\u002fextra\\u003e\",\"legendgroup\":\"Production totale\",\"line\":{\"color\":\"#636efa\",\"dash\":\"solid\"},\"marker\":{\"symbol\":\"circle\"},\"mode\":\"lines\",\"name\":\"Production totale\",\"orientation\":\"v\",\"showlegend\":true,\"x\":[\"2012-01\",\"2012-02\",\"2012-03\",\"2012-04\",\"2012-05\",\"2012-06\",\"2012-07\",\"2012-08\",\"2012-09\",\"2012-10\",\"2012-11\",\"2012-12\",\"2013-01\",\"2013-02\",\"2013-03\",\"2013-04\",\"2013-05\",\"2013-06\",\"2013-07\",\"2013-08\",\"2013-09\",\"2013-10\",\"2013-11\",\"2013-12\",\"2014-01\",\"2014-02\",\"2014-03\",\"2014-04\",\"2014-05\",\"2014-06\",\"2014-07\",\"2014-08\",\"2014-09\",\"2014-10\",\"2014-11\",\"2014-12\",\"2015-01\",\"2015-02\",\"2015-03\",\"2015-04\",\"2015-05\",\"2015-06\",\"2015-07\",\"2015-08\",\"2015-09\",\"2015-10\",\"2015-11\",\"2015-12\",\"2016-01\",\"2016-02\",\"2016-03\",\"2016-04\",\"2016-05\",\"2016-06\",\"2016-07\",\"2016-08\",\"2016-09\",\"2016-10\",\"2016-11\",\"2016-12\",\"2017-01\",\"2017-02\",\"2017-03\",\"2017-04\",\"2017-05\",\"2017-06\",\"2017-07\",\"2017-08\",\"2017-09\",\"2017-10\",\"2017-11\",\"2017-12\",\"2018-01\",\"2018-02\",\"2018-03\",\"2018-04\",\"2018-05\",\"2018-06\",\"2018-07\",\"2018-08\",\"2018-09\",\"2018-10\",\"2018-11\",\"2018-12\",\"2019-01\",\"2019-02\",\"2019-03\",\"2019-04\",\"2019-05\",\"2019-06\",\"2019-07\",\"2019-08\",\"2019-09\",\"2019-10\",\"2019-11\",\"2019-12\",\"2020-01\",\"2020-02\",\"2020-03\",\"2020-04\",\"2020-05\",\"2020-06\",\"2020-07\",\"2020-08\",\"2020-09\",\"2020-10\",\"2020-11\",\"2020-12\",\"2021-01\",\"2021-02\",\"2021-03\",\"2021-04\",\"2021-05\",\"2021-06\",\"2021-07\",\"2021-08\",\"2021-09\",\"2021-10\",\"2021-11\"],\"xaxis\":\"x\",\"y\":[57177.0,54419.0,48583.0,44192.0,40433.0,37518.0,37910.0,36339.0,38035.0,42987.0,49228.0,54715.0,57739.0,52257.0,51882.0,44117.0,43377.0,39337.0,40850.0,38428.0,38604.0,41761.0,48527.0,53564.0,55975.0,49555.0,48290.0,40826.0,41872.0,39366.0,42722.0,39407.0,39183.0,41312.0,47114.0,54731.0,58310.0,52143.0,50683.0,41509.0,40641.0,39927.0,41695.0,38939.0,39078.0,44511.0,47560.0,51764.0,55982.0,51979.0,52037.0,43190.0,40641.0,40033.0,38447.0,36034.0,36431.0,39917.0,45494.0,51225.0,57222.0,48028.0,49750.0,42574.0,41560.0,37373.0,38905.0,37164.0,38655.0,39700.0,44983.0,53317.0,56775.0,53770.0,52502.0,42741.0,42744.0,40737.0,41261.0,37283.0,38868.0,42356.0,46318.0,53394.0,55923.0,50241.0,50483.0,42747.0,43680.0,40239.0,40596.0,37640.0,37616.0,41143.0,45926.0,51229.0,54667.0,50756.0,48020.0,36883.0,37664.0,34501.0,34489.0,33546.0,32171.0,41726.0,45127.0,50575.0,55421.0,46951.0,47598.0,39562.0,41433.0,39246.0,40555.0,39162.0,38505.0,41695.0,44284.0],\"yaxis\":\"y\",\"type\":\"scatter\"},{\"hovertemplate\":\"variable=Production nucléaire\\u003cbr\\u003eMois=%{x}\\u003cbr\\u003evalue=%{y}\\u003cextra\\u003e\\u003c\\u002fextra\\u003e\",\"legendgroup\":\"Production nucléaire\",\"line\":{\"color\":\"#EF553B\",\"dash\":\"solid\"},\"marker\":{\"symbol\":\"circle\"},\"mode\":\"lines\",\"name\":\"Production nucléaire\",\"orientation\":\"v\",\"showlegend\":true,\"x\":[\"2012-01\",\"2012-02\",\"2012-03\",\"2012-04\",\"2012-05\",\"2012-06\",\"2012-07\",\"2012-08\",\"2012-09\",\"2012-10\",\"2012-11\",\"2012-12\",\"2013-01\",\"2013-02\",\"2013-03\",\"2013-04\",\"2013-05\",\"2013-06\",\"2013-07\",\"2013-08\",\"2013-09\",\"2013-10\",\"2013-11\",\"2013-12\",\"2014-01\",\"2014-02\",\"2014-03\",\"2014-04\",\"2014-05\",\"2014-06\",\"2014-07\",\"2014-08\",\"2014-09\",\"2014-10\",\"2014-11\",\"2014-12\",\"2015-01\",\"2015-02\",\"2015-03\",\"2015-04\",\"2015-05\",\"2015-06\",\"2015-07\",\"2015-08\",\"2015-09\",\"2015-10\",\"2015-11\",\"2015-12\",\"2016-01\",\"2016-02\",\"2016-03\",\"2016-04\",\"2016-05\",\"2016-06\",\"2016-07\",\"2016-08\",\"2016-09\",\"2016-10\",\"2016-11\",\"2016-12\",\"2017-01\",\"2017-02\",\"2017-03\",\"2017-04\",\"2017-05\",\"2017-06\",\"2017-07\",\"2017-08\",\"2017-09\",\"2017-10\",\"2017-11\",\"2017-12\",\"2018-01\",\"2018-02\",\"2018-03\",\"2018-04\",\"2018-05\",\"2018-06\",\"2018-07\",\"2018-08\",\"2018-09\",\"2018-10\",\"2018-11\",\"2018-12\",\"2019-01\",\"2019-02\",\"2019-03\",\"2019-04\",\"2019-05\",\"2019-06\",\"2019-07\",\"2019-08\",\"2019-09\",\"2019-10\",\"2019-11\",\"2019-12\",\"2020-01\",\"2020-02\",\"2020-03\",\"2020-04\",\"2020-05\",\"2020-06\",\"2020-07\",\"2020-08\",\"2020-09\",\"2020-10\",\"2020-11\",\"2020-12\",\"2021-01\",\"2021-02\",\"2021-03\",\"2021-04\",\"2021-05\",\"2021-06\",\"2021-07\",\"2021-08\",\"2021-09\",\"2021-10\",\"2021-11\"],\"xaxis\":\"x\",\"y\":[42811.0,38661.0,37549.0,33100.0,29058.0,26562.0,28818.0,28314.0,30130.0,32848.0,37119.0,39912.0,42406.0,36754.0,36785.0,31497.0,31171.0,28619.0,30694.0,29908.0,29758.0,31105.0,34630.0,40422.0,42697.0,36396.0,35797.0,31208.0,31713.0,30994.0,33394.0,30989.0,31938.0,32803.0,36290.0,41633.0,43792.0,37483.0,36915.0,31187.0,30329.0,30719.0,33272.0,31994.0,30643.0,34489.0,35681.0,40288.0,41588.0,37323.0,37177.0,31057.0,29441.0,28641.0,28342.0,27114.0,26478.0,29020.0,31149.0,36649.0,40491.0,33689.0,34272.0,31752.0,30136.0,26884.0,28159.0,28585.0,29345.0,28053.0,30334.0,37382.0,40793.0,36409.0,35678.0,30592.0,30581.0,28624.0,29958.0,27294.0,30099.0,31613.0,32658.0,38890.0,40157.0,36089.0,35497.0,31756.0,31668.0,28560.0,29195.0,27721.0,27533.0,29162.0,29133.0,32985.0,37352.0,33178.0,30624.0,26823.0,24714.0,21334.0,22499.0,22876.0,21739.0,28271.0,31565.0,34432.0,37176.0,30337.0,31695.0,27209.0,27574.0,27716.0,28449.0,29010.0,29001.0,30658.0,30370.0],\"yaxis\":\"y\",\"type\":\"scatter\"}],                        {\"template\":{\"data\":{\"histogram2dcontour\":[{\"type\":\"histogram2dcontour\",\"colorbar\":{\"outlinewidth\":0,\"ticks\":\"\"},\"colorscale\":[[0.0,\"#0d0887\"],[0.1111111111111111,\"#46039f\"],[0.2222222222222222,\"#7201a8\"],[0.3333333333333333,\"#9c179e\"],[0.4444444444444444,\"#bd3786\"],[0.5555555555555556,\"#d8576b\"],[0.6666666666666666,\"#ed7953\"],[0.7777777777777778,\"#fb9f3a\"],[0.8888888888888888,\"#fdca26\"],[1.0,\"#f0f921\"]]}],\"choropleth\":[{\"type\":\"choropleth\",\"colorbar\":{\"outlinewidth\":0,\"ticks\":\"\"}}],\"histogram2d\":[{\"type\":\"histogram2d\",\"colorbar\":{\"outlinewidth\":0,\"ticks\":\"\"},\"colorscale\":[[0.0,\"#0d0887\"],[0.1111111111111111,\"#46039f\"],[0.2222222222222222,\"#7201a8\"],[0.3333333333333333,\"#9c179e\"],[0.4444444444444444,\"#bd3786\"],[0.5555555555555556,\"#d8576b\"],[0.6666666666666666,\"#ed7953\"],[0.7777777777777778,\"#fb9f3a\"],[0.8888888888888888,\"#fdca26\"],[1.0,\"#f0f921\"]]}],\"heatmap\":[{\"type\":\"heatmap\",\"colorbar\":{\"outlinewidth\":0,\"ticks\":\"\"},\"colorscale\":[[0.0,\"#0d0887\"],[0.1111111111111111,\"#46039f\"],[0.2222222222222222,\"#7201a8\"],[0.3333333333333333,\"#9c179e\"],[0.4444444444444444,\"#bd3786\"],[0.5555555555555556,\"#d8576b\"],[0.6666666666666666,\"#ed7953\"],[0.7777777777777778,\"#fb9f3a\"],[0.8888888888888888,\"#fdca26\"],[1.0,\"#f0f921\"]]}],\"heatmapgl\":[{\"type\":\"heatmapgl\",\"colorbar\":{\"outlinewidth\":0,\"ticks\":\"\"},\"colorscale\":[[0.0,\"#0d0887\"],[0.1111111111111111,\"#46039f\"],[0.2222222222222222,\"#7201a8\"],[0.3333333333333333,\"#9c179e\"],[0.4444444444444444,\"#bd3786\"],[0.5555555555555556,\"#d8576b\"],[0.6666666666666666,\"#ed7953\"],[0.7777777777777778,\"#fb9f3a\"],[0.8888888888888888,\"#fdca26\"],[1.0,\"#f0f921\"]]}],\"contourcarpet\":[{\"type\":\"contourcarpet\",\"colorbar\":{\"outlinewidth\":0,\"ticks\":\"\"}}],\"contour\":[{\"type\":\"contour\",\"colorbar\":{\"outlinewidth\":0,\"ticks\":\"\"},\"colorscale\":[[0.0,\"#0d0887\"],[0.1111111111111111,\"#46039f\"],[0.2222222222222222,\"#7201a8\"],[0.3333333333333333,\"#9c179e\"],[0.4444444444444444,\"#bd3786\"],[0.5555555555555556,\"#d8576b\"],[0.6666666666666666,\"#ed7953\"],[0.7777777777777778,\"#fb9f3a\"],[0.8888888888888888,\"#fdca26\"],[1.0,\"#f0f921\"]]}],\"surface\":[{\"type\":\"surface\",\"colorbar\":{\"outlinewidth\":0,\"ticks\":\"\"},\"colorscale\":[[0.0,\"#0d0887\"],[0.1111111111111111,\"#46039f\"],[0.2222222222222222,\"#7201a8\"],[0.3333333333333333,\"#9c179e\"],[0.4444444444444444,\"#bd3786\"],[0.5555555555555556,\"#d8576b\"],[0.6666666666666666,\"#ed7953\"],[0.7777777777777778,\"#fb9f3a\"],[0.8888888888888888,\"#fdca26\"],[1.0,\"#f0f921\"]]}],\"mesh3d\":[{\"type\":\"mesh3d\",\"colorbar\":{\"outlinewidth\":0,\"ticks\":\"\"}}],\"scatter\":[{\"fillpattern\":{\"fillmode\":\"overlay\",\"size\":10,\"solidity\":0.2},\"type\":\"scatter\"}],\"parcoords\":[{\"type\":\"parcoords\",\"line\":{\"colorbar\":{\"outlinewidth\":0,\"ticks\":\"\"}}}],\"scatterpolargl\":[{\"type\":\"scatterpolargl\",\"marker\":{\"colorbar\":{\"outlinewidth\":0,\"ticks\":\"\"}}}],\"bar\":[{\"error_x\":{\"color\":\"#2a3f5f\"},\"error_y\":{\"color\":\"#2a3f5f\"},\"marker\":{\"line\":{\"color\":\"#E5ECF6\",\"width\":0.5},\"pattern\":{\"fillmode\":\"overlay\",\"size\":10,\"solidity\":0.2}},\"type\":\"bar\"}],\"scattergeo\":[{\"type\":\"scattergeo\",\"marker\":{\"colorbar\":{\"outlinewidth\":0,\"ticks\":\"\"}}}],\"scatterpolar\":[{\"type\":\"scatterpolar\",\"marker\":{\"colorbar\":{\"outlinewidth\":0,\"ticks\":\"\"}}}],\"histogram\":[{\"marker\":{\"pattern\":{\"fillmode\":\"overlay\",\"size\":10,\"solidity\":0.2}},\"type\":\"histogram\"}],\"scattergl\":[{\"type\":\"scattergl\",\"marker\":{\"colorbar\":{\"outlinewidth\":0,\"ticks\":\"\"}}}],\"scatter3d\":[{\"type\":\"scatter3d\",\"line\":{\"colorbar\":{\"outlinewidth\":0,\"ticks\":\"\"}},\"marker\":{\"colorbar\":{\"outlinewidth\":0,\"ticks\":\"\"}}}],\"scattermapbox\":[{\"type\":\"scattermapbox\",\"marker\":{\"colorbar\":{\"outlinewidth\":0,\"ticks\":\"\"}}}],\"scatterternary\":[{\"type\":\"scatterternary\",\"marker\":{\"colorbar\":{\"outlinewidth\":0,\"ticks\":\"\"}}}],\"scattercarpet\":[{\"type\":\"scattercarpet\",\"marker\":{\"colorbar\":{\"outlinewidth\":0,\"ticks\":\"\"}}}],\"carpet\":[{\"aaxis\":{\"endlinecolor\":\"#2a3f5f\",\"gridcolor\":\"white\",\"linecolor\":\"white\",\"minorgridcolor\":\"white\",\"startlinecolor\":\"#2a3f5f\"},\"baxis\":{\"endlinecolor\":\"#2a3f5f\",\"gridcolor\":\"white\",\"linecolor\":\"white\",\"minorgridcolor\":\"white\",\"startlinecolor\":\"#2a3f5f\"},\"type\":\"carpet\"}],\"table\":[{\"cells\":{\"fill\":{\"color\":\"#EBF0F8\"},\"line\":{\"color\":\"white\"}},\"header\":{\"fill\":{\"color\":\"#C8D4E3\"},\"line\":{\"color\":\"white\"}},\"type\":\"table\"}],\"barpolar\":[{\"marker\":{\"line\":{\"color\":\"#E5ECF6\",\"width\":0.5},\"pattern\":{\"fillmode\":\"overlay\",\"size\":10,\"solidity\":0.2}},\"type\":\"barpolar\"}],\"pie\":[{\"automargin\":true,\"type\":\"pie\"}]},\"layout\":{\"autotypenumbers\":\"strict\",\"colorway\":[\"#636efa\",\"#EF553B\",\"#00cc96\",\"#ab63fa\",\"#FFA15A\",\"#19d3f3\",\"#FF6692\",\"#B6E880\",\"#FF97FF\",\"#FECB52\"],\"font\":{\"color\":\"#2a3f5f\"},\"hovermode\":\"closest\",\"hoverlabel\":{\"align\":\"left\"},\"paper_bgcolor\":\"white\",\"plot_bgcolor\":\"#E5ECF6\",\"polar\":{\"bgcolor\":\"#E5ECF6\",\"angularaxis\":{\"gridcolor\":\"white\",\"linecolor\":\"white\",\"ticks\":\"\"},\"radialaxis\":{\"gridcolor\":\"white\",\"linecolor\":\"white\",\"ticks\":\"\"}},\"ternary\":{\"bgcolor\":\"#E5ECF6\",\"aaxis\":{\"gridcolor\":\"white\",\"linecolor\":\"white\",\"ticks\":\"\"},\"baxis\":{\"gridcolor\":\"white\",\"linecolor\":\"white\",\"ticks\":\"\"},\"caxis\":{\"gridcolor\":\"white\",\"linecolor\":\"white\",\"ticks\":\"\"}},\"coloraxis\":{\"colorbar\":{\"outlinewidth\":0,\"ticks\":\"\"}},\"colorscale\":{\"sequential\":[[0.0,\"#0d0887\"],[0.1111111111111111,\"#46039f\"],[0.2222222222222222,\"#7201a8\"],[0.3333333333333333,\"#9c179e\"],[0.4444444444444444,\"#bd3786\"],[0.5555555555555556,\"#d8576b\"],[0.6666666666666666,\"#ed7953\"],[0.7777777777777778,\"#fb9f3a\"],[0.8888888888888888,\"#fdca26\"],[1.0,\"#f0f921\"]],\"sequentialminus\":[[0.0,\"#0d0887\"],[0.1111111111111111,\"#46039f\"],[0.2222222222222222,\"#7201a8\"],[0.3333333333333333,\"#9c179e\"],[0.4444444444444444,\"#bd3786\"],[0.5555555555555556,\"#d8576b\"],[0.6666666666666666,\"#ed7953\"],[0.7777777777777778,\"#fb9f3a\"],[0.8888888888888888,\"#fdca26\"],[1.0,\"#f0f921\"]],\"diverging\":[[0,\"#8e0152\"],[0.1,\"#c51b7d\"],[0.2,\"#de77ae\"],[0.3,\"#f1b6da\"],[0.4,\"#fde0ef\"],[0.5,\"#f7f7f7\"],[0.6,\"#e6f5d0\"],[0.7,\"#b8e186\"],[0.8,\"#7fbc41\"],[0.9,\"#4d9221\"],[1,\"#276419\"]]},\"xaxis\":{\"gridcolor\":\"white\",\"linecolor\":\"white\",\"ticks\":\"\",\"title\":{\"standoff\":15},\"zerolinecolor\":\"white\",\"automargin\":true,\"zerolinewidth\":2},\"yaxis\":{\"gridcolor\":\"white\",\"linecolor\":\"white\",\"ticks\":\"\",\"title\":{\"standoff\":15},\"zerolinecolor\":\"white\",\"automargin\":true,\"zerolinewidth\":2},\"scene\":{\"xaxis\":{\"backgroundcolor\":\"#E5ECF6\",\"gridcolor\":\"white\",\"linecolor\":\"white\",\"showbackground\":true,\"ticks\":\"\",\"zerolinecolor\":\"white\",\"gridwidth\":2},\"yaxis\":{\"backgroundcolor\":\"#E5ECF6\",\"gridcolor\":\"white\",\"linecolor\":\"white\",\"showbackground\":true,\"ticks\":\"\",\"zerolinecolor\":\"white\",\"gridwidth\":2},\"zaxis\":{\"backgroundcolor\":\"#E5ECF6\",\"gridcolor\":\"white\",\"linecolor\":\"white\",\"showbackground\":true,\"ticks\":\"\",\"zerolinecolor\":\"white\",\"gridwidth\":2}},\"shapedefaults\":{\"line\":{\"color\":\"#2a3f5f\"}},\"annotationdefaults\":{\"arrowcolor\":\"#2a3f5f\",\"arrowhead\":0,\"arrowwidth\":1},\"geo\":{\"bgcolor\":\"white\",\"landcolor\":\"#E5ECF6\",\"subunitcolor\":\"white\",\"showland\":true,\"showlakes\":true,\"lakecolor\":\"white\"},\"title\":{\"x\":0.05},\"mapbox\":{\"style\":\"light\"}}},\"xaxis\":{\"anchor\":\"y\",\"domain\":[0.0,1.0],\"title\":{\"text\":\"Mois\"}},\"yaxis\":{\"anchor\":\"x\",\"domain\":[0.0,1.0],\"title\":{\"text\":\"value\"}},\"legend\":{\"title\":{\"text\":\"variable\"},\"tracegroupgap\":0},\"margin\":{\"t\":60}},                        {\"responsive\": true}                    ).then(function(){\n",
       "                            \n",
       "var gd = document.getElementById('21c607d2-3e4e-41c7-8141-14989587ea81');\n",
       "var x = new MutationObserver(function (mutations, observer) {{\n",
       "        var display = window.getComputedStyle(gd).display;\n",
       "        if (!display || display === 'none') {{\n",
       "            console.log([gd, 'removed!']);\n",
       "            Plotly.purge(gd);\n",
       "            observer.disconnect();\n",
       "        }}\n",
       "}});\n",
       "\n",
       "// Listen for the removal of the full notebook cells\n",
       "var notebookContainer = gd.closest('#notebook-container');\n",
       "if (notebookContainer) {{\n",
       "    x.observe(notebookContainer, {childList: true});\n",
       "}}\n",
       "\n",
       "// Listen for the clearing of the current output cell\n",
       "var outputEl = gd.closest('.output');\n",
       "if (outputEl) {{\n",
       "    x.observe(outputEl, {childList: true});\n",
       "}}\n",
       "\n",
       "                        })                };                });            </script>        </div>"
      ]
     },
     "metadata": {},
     "output_type": "display_data"
    }
   ],
   "source": [
    "import plotly.express as px\n",
    "data3=data[[\"Production totale\",\"Production nucléaire\"]]\n",
    "fig = px.line(data3, facet_col_wrap=1)\n",
    "fig.update_yaxes(matches=None)\n",
    "fig.show()"
   ]
  },
  {
   "cell_type": "code",
   "execution_count": 51,
   "id": "cfdf657b",
   "metadata": {
    "ExecuteTime": {
     "end_time": "2025-03-14T13:20:08.336114Z",
     "start_time": "2025-03-14T13:20:08.304329Z"
    }
   },
   "outputs": [
    {
     "data": {
      "text/html": [
       "<div>\n",
       "<style scoped>\n",
       "    .dataframe tbody tr th:only-of-type {\n",
       "        vertical-align: middle;\n",
       "    }\n",
       "\n",
       "    .dataframe tbody tr th {\n",
       "        vertical-align: top;\n",
       "    }\n",
       "\n",
       "    .dataframe thead th {\n",
       "        text-align: right;\n",
       "    }\n",
       "</style>\n",
       "<table border=\"1\" class=\"dataframe\">\n",
       "  <thead>\n",
       "    <tr style=\"text-align: right;\">\n",
       "      <th></th>\n",
       "      <th>Production totale</th>\n",
       "      <th>Production nucléaire</th>\n",
       "    </tr>\n",
       "  </thead>\n",
       "  <tbody>\n",
       "    <tr>\n",
       "      <th>Production totale</th>\n",
       "      <td>1.000000</td>\n",
       "      <td>0.932793</td>\n",
       "    </tr>\n",
       "    <tr>\n",
       "      <th>Production nucléaire</th>\n",
       "      <td>0.932793</td>\n",
       "      <td>1.000000</td>\n",
       "    </tr>\n",
       "  </tbody>\n",
       "</table>\n",
       "</div>"
      ],
      "text/plain": [
       "                      Production totale  Production nucléaire\n",
       "Production totale              1.000000              0.932793\n",
       "Production nucléaire           0.932793              1.000000"
      ]
     },
     "execution_count": 51,
     "metadata": {},
     "output_type": "execute_result"
    }
   ],
   "source": [
    "data[[\"Production totale\",\"Production nucléaire\"]].corr()"
   ]
  },
  {
   "cell_type": "markdown",
   "id": "b3170df3",
   "metadata": {},
   "source": [
    "## Modele Sarima"
   ]
  },
  {
   "cell_type": "code",
   "execution_count": null,
   "id": "f2a4ef8c",
   "metadata": {},
   "outputs": [],
   "source": []
  },
  {
   "cell_type": "raw",
   "id": "b295f63a",
   "metadata": {},
   "source": [
    "\n",
    "#autoarima python: librarie qui permet de choisir les meilleurs parametres pour (p,q,d)(P,D,Q,s) \n",
    "order=(p,d,q), \n",
    "p=nombre de mois du passé pris en compte pour le modele\n",
    "q=nombre de residus du passé prises en compte pour le modele\n",
    "d=le nombre de fois qu'on devrait deriver la serie pour la rendre stationnaire\n",
    "\n",
    "seasonal_order = (P,D,Q, S)\n",
    "P=nombre de mois du passé pris en compte pour le modele avec les donnees saisonnieres\n",
    "Q=nombre de residus du passé prises en compte pour le modele avec les donnees saisonnieres\n",
    "D=le nombre de fois qu'on devrait deriver la serie pour la rendre stationnaire avec les donnees saisonnieres\n",
    "S=Frequence de la serie temporelle"
   ]
  },
  {
   "cell_type": "markdown",
   "id": "e30de649",
   "metadata": {},
   "source": [
    "### Choix des parametres optimaux"
   ]
  },
  {
   "cell_type": "markdown",
   "id": "fe49d5d1",
   "metadata": {},
   "source": [
    "C'est une méthode qui recherche de façon exhaustive la meilleure combinaison des paramètres du modele SARIMAX avec les donnees d entree sur la consommation"
   ]
  },
  {
   "cell_type": "code",
   "execution_count": 7,
   "id": "ec8a538a",
   "metadata": {
    "ExecuteTime": {
     "end_time": "2025-03-14T12:59:32.372243Z",
     "start_time": "2025-03-14T12:58:44.226214Z"
    }
   },
   "outputs": [
    {
     "data": {
      "text/html": [
       "<style>#sk-container-id-1 {\n",
       "  /* Definition of color scheme common for light and dark mode */\n",
       "  --sklearn-color-text: black;\n",
       "  --sklearn-color-line: gray;\n",
       "  /* Definition of color scheme for unfitted estimators */\n",
       "  --sklearn-color-unfitted-level-0: #fff5e6;\n",
       "  --sklearn-color-unfitted-level-1: #f6e4d2;\n",
       "  --sklearn-color-unfitted-level-2: #ffe0b3;\n",
       "  --sklearn-color-unfitted-level-3: chocolate;\n",
       "  /* Definition of color scheme for fitted estimators */\n",
       "  --sklearn-color-fitted-level-0: #f0f8ff;\n",
       "  --sklearn-color-fitted-level-1: #d4ebff;\n",
       "  --sklearn-color-fitted-level-2: #b3dbfd;\n",
       "  --sklearn-color-fitted-level-3: cornflowerblue;\n",
       "\n",
       "  /* Specific color for light theme */\n",
       "  --sklearn-color-text-on-default-background: var(--sg-text-color, var(--theme-code-foreground, var(--jp-content-font-color1, black)));\n",
       "  --sklearn-color-background: var(--sg-background-color, var(--theme-background, var(--jp-layout-color0, white)));\n",
       "  --sklearn-color-border-box: var(--sg-text-color, var(--theme-code-foreground, var(--jp-content-font-color1, black)));\n",
       "  --sklearn-color-icon: #696969;\n",
       "\n",
       "  @media (prefers-color-scheme: dark) {\n",
       "    /* Redefinition of color scheme for dark theme */\n",
       "    --sklearn-color-text-on-default-background: var(--sg-text-color, var(--theme-code-foreground, var(--jp-content-font-color1, white)));\n",
       "    --sklearn-color-background: var(--sg-background-color, var(--theme-background, var(--jp-layout-color0, #111)));\n",
       "    --sklearn-color-border-box: var(--sg-text-color, var(--theme-code-foreground, var(--jp-content-font-color1, white)));\n",
       "    --sklearn-color-icon: #878787;\n",
       "  }\n",
       "}\n",
       "\n",
       "#sk-container-id-1 {\n",
       "  color: var(--sklearn-color-text);\n",
       "}\n",
       "\n",
       "#sk-container-id-1 pre {\n",
       "  padding: 0;\n",
       "}\n",
       "\n",
       "#sk-container-id-1 input.sk-hidden--visually {\n",
       "  border: 0;\n",
       "  clip: rect(1px 1px 1px 1px);\n",
       "  clip: rect(1px, 1px, 1px, 1px);\n",
       "  height: 1px;\n",
       "  margin: -1px;\n",
       "  overflow: hidden;\n",
       "  padding: 0;\n",
       "  position: absolute;\n",
       "  width: 1px;\n",
       "}\n",
       "\n",
       "#sk-container-id-1 div.sk-dashed-wrapped {\n",
       "  border: 1px dashed var(--sklearn-color-line);\n",
       "  margin: 0 0.4em 0.5em 0.4em;\n",
       "  box-sizing: border-box;\n",
       "  padding-bottom: 0.4em;\n",
       "  background-color: var(--sklearn-color-background);\n",
       "}\n",
       "\n",
       "#sk-container-id-1 div.sk-container {\n",
       "  /* jupyter's `normalize.less` sets `[hidden] { display: none; }`\n",
       "     but bootstrap.min.css set `[hidden] { display: none !important; }`\n",
       "     so we also need the `!important` here to be able to override the\n",
       "     default hidden behavior on the sphinx rendered scikit-learn.org.\n",
       "     See: https://github.com/scikit-learn/scikit-learn/issues/21755 */\n",
       "  display: inline-block !important;\n",
       "  position: relative;\n",
       "}\n",
       "\n",
       "#sk-container-id-1 div.sk-text-repr-fallback {\n",
       "  display: none;\n",
       "}\n",
       "\n",
       "div.sk-parallel-item,\n",
       "div.sk-serial,\n",
       "div.sk-item {\n",
       "  /* draw centered vertical line to link estimators */\n",
       "  background-image: linear-gradient(var(--sklearn-color-text-on-default-background), var(--sklearn-color-text-on-default-background));\n",
       "  background-size: 2px 100%;\n",
       "  background-repeat: no-repeat;\n",
       "  background-position: center center;\n",
       "}\n",
       "\n",
       "/* Parallel-specific style estimator block */\n",
       "\n",
       "#sk-container-id-1 div.sk-parallel-item::after {\n",
       "  content: \"\";\n",
       "  width: 100%;\n",
       "  border-bottom: 2px solid var(--sklearn-color-text-on-default-background);\n",
       "  flex-grow: 1;\n",
       "}\n",
       "\n",
       "#sk-container-id-1 div.sk-parallel {\n",
       "  display: flex;\n",
       "  align-items: stretch;\n",
       "  justify-content: center;\n",
       "  background-color: var(--sklearn-color-background);\n",
       "  position: relative;\n",
       "}\n",
       "\n",
       "#sk-container-id-1 div.sk-parallel-item {\n",
       "  display: flex;\n",
       "  flex-direction: column;\n",
       "}\n",
       "\n",
       "#sk-container-id-1 div.sk-parallel-item:first-child::after {\n",
       "  align-self: flex-end;\n",
       "  width: 50%;\n",
       "}\n",
       "\n",
       "#sk-container-id-1 div.sk-parallel-item:last-child::after {\n",
       "  align-self: flex-start;\n",
       "  width: 50%;\n",
       "}\n",
       "\n",
       "#sk-container-id-1 div.sk-parallel-item:only-child::after {\n",
       "  width: 0;\n",
       "}\n",
       "\n",
       "/* Serial-specific style estimator block */\n",
       "\n",
       "#sk-container-id-1 div.sk-serial {\n",
       "  display: flex;\n",
       "  flex-direction: column;\n",
       "  align-items: center;\n",
       "  background-color: var(--sklearn-color-background);\n",
       "  padding-right: 1em;\n",
       "  padding-left: 1em;\n",
       "}\n",
       "\n",
       "\n",
       "/* Toggleable style: style used for estimator/Pipeline/ColumnTransformer box that is\n",
       "clickable and can be expanded/collapsed.\n",
       "- Pipeline and ColumnTransformer use this feature and define the default style\n",
       "- Estimators will overwrite some part of the style using the `sk-estimator` class\n",
       "*/\n",
       "\n",
       "/* Pipeline and ColumnTransformer style (default) */\n",
       "\n",
       "#sk-container-id-1 div.sk-toggleable {\n",
       "  /* Default theme specific background. It is overwritten whether we have a\n",
       "  specific estimator or a Pipeline/ColumnTransformer */\n",
       "  background-color: var(--sklearn-color-background);\n",
       "}\n",
       "\n",
       "/* Toggleable label */\n",
       "#sk-container-id-1 label.sk-toggleable__label {\n",
       "  cursor: pointer;\n",
       "  display: block;\n",
       "  width: 100%;\n",
       "  margin-bottom: 0;\n",
       "  padding: 0.5em;\n",
       "  box-sizing: border-box;\n",
       "  text-align: center;\n",
       "}\n",
       "\n",
       "#sk-container-id-1 label.sk-toggleable__label-arrow:before {\n",
       "  /* Arrow on the left of the label */\n",
       "  content: \"▸\";\n",
       "  float: left;\n",
       "  margin-right: 0.25em;\n",
       "  color: var(--sklearn-color-icon);\n",
       "}\n",
       "\n",
       "#sk-container-id-1 label.sk-toggleable__label-arrow:hover:before {\n",
       "  color: var(--sklearn-color-text);\n",
       "}\n",
       "\n",
       "/* Toggleable content - dropdown */\n",
       "\n",
       "#sk-container-id-1 div.sk-toggleable__content {\n",
       "  max-height: 0;\n",
       "  max-width: 0;\n",
       "  overflow: hidden;\n",
       "  text-align: left;\n",
       "  /* unfitted */\n",
       "  background-color: var(--sklearn-color-unfitted-level-0);\n",
       "}\n",
       "\n",
       "#sk-container-id-1 div.sk-toggleable__content.fitted {\n",
       "  /* fitted */\n",
       "  background-color: var(--sklearn-color-fitted-level-0);\n",
       "}\n",
       "\n",
       "#sk-container-id-1 div.sk-toggleable__content pre {\n",
       "  margin: 0.2em;\n",
       "  border-radius: 0.25em;\n",
       "  color: var(--sklearn-color-text);\n",
       "  /* unfitted */\n",
       "  background-color: var(--sklearn-color-unfitted-level-0);\n",
       "}\n",
       "\n",
       "#sk-container-id-1 div.sk-toggleable__content.fitted pre {\n",
       "  /* unfitted */\n",
       "  background-color: var(--sklearn-color-fitted-level-0);\n",
       "}\n",
       "\n",
       "#sk-container-id-1 input.sk-toggleable__control:checked~div.sk-toggleable__content {\n",
       "  /* Expand drop-down */\n",
       "  max-height: 200px;\n",
       "  max-width: 100%;\n",
       "  overflow: auto;\n",
       "}\n",
       "\n",
       "#sk-container-id-1 input.sk-toggleable__control:checked~label.sk-toggleable__label-arrow:before {\n",
       "  content: \"▾\";\n",
       "}\n",
       "\n",
       "/* Pipeline/ColumnTransformer-specific style */\n",
       "\n",
       "#sk-container-id-1 div.sk-label input.sk-toggleable__control:checked~label.sk-toggleable__label {\n",
       "  color: var(--sklearn-color-text);\n",
       "  background-color: var(--sklearn-color-unfitted-level-2);\n",
       "}\n",
       "\n",
       "#sk-container-id-1 div.sk-label.fitted input.sk-toggleable__control:checked~label.sk-toggleable__label {\n",
       "  background-color: var(--sklearn-color-fitted-level-2);\n",
       "}\n",
       "\n",
       "/* Estimator-specific style */\n",
       "\n",
       "/* Colorize estimator box */\n",
       "#sk-container-id-1 div.sk-estimator input.sk-toggleable__control:checked~label.sk-toggleable__label {\n",
       "  /* unfitted */\n",
       "  background-color: var(--sklearn-color-unfitted-level-2);\n",
       "}\n",
       "\n",
       "#sk-container-id-1 div.sk-estimator.fitted input.sk-toggleable__control:checked~label.sk-toggleable__label {\n",
       "  /* fitted */\n",
       "  background-color: var(--sklearn-color-fitted-level-2);\n",
       "}\n",
       "\n",
       "#sk-container-id-1 div.sk-label label.sk-toggleable__label,\n",
       "#sk-container-id-1 div.sk-label label {\n",
       "  /* The background is the default theme color */\n",
       "  color: var(--sklearn-color-text-on-default-background);\n",
       "}\n",
       "\n",
       "/* On hover, darken the color of the background */\n",
       "#sk-container-id-1 div.sk-label:hover label.sk-toggleable__label {\n",
       "  color: var(--sklearn-color-text);\n",
       "  background-color: var(--sklearn-color-unfitted-level-2);\n",
       "}\n",
       "\n",
       "/* Label box, darken color on hover, fitted */\n",
       "#sk-container-id-1 div.sk-label.fitted:hover label.sk-toggleable__label.fitted {\n",
       "  color: var(--sklearn-color-text);\n",
       "  background-color: var(--sklearn-color-fitted-level-2);\n",
       "}\n",
       "\n",
       "/* Estimator label */\n",
       "\n",
       "#sk-container-id-1 div.sk-label label {\n",
       "  font-family: monospace;\n",
       "  font-weight: bold;\n",
       "  display: inline-block;\n",
       "  line-height: 1.2em;\n",
       "}\n",
       "\n",
       "#sk-container-id-1 div.sk-label-container {\n",
       "  text-align: center;\n",
       "}\n",
       "\n",
       "/* Estimator-specific */\n",
       "#sk-container-id-1 div.sk-estimator {\n",
       "  font-family: monospace;\n",
       "  border: 1px dotted var(--sklearn-color-border-box);\n",
       "  border-radius: 0.25em;\n",
       "  box-sizing: border-box;\n",
       "  margin-bottom: 0.5em;\n",
       "  /* unfitted */\n",
       "  background-color: var(--sklearn-color-unfitted-level-0);\n",
       "}\n",
       "\n",
       "#sk-container-id-1 div.sk-estimator.fitted {\n",
       "  /* fitted */\n",
       "  background-color: var(--sklearn-color-fitted-level-0);\n",
       "}\n",
       "\n",
       "/* on hover */\n",
       "#sk-container-id-1 div.sk-estimator:hover {\n",
       "  /* unfitted */\n",
       "  background-color: var(--sklearn-color-unfitted-level-2);\n",
       "}\n",
       "\n",
       "#sk-container-id-1 div.sk-estimator.fitted:hover {\n",
       "  /* fitted */\n",
       "  background-color: var(--sklearn-color-fitted-level-2);\n",
       "}\n",
       "\n",
       "/* Specification for estimator info (e.g. \"i\" and \"?\") */\n",
       "\n",
       "/* Common style for \"i\" and \"?\" */\n",
       "\n",
       ".sk-estimator-doc-link,\n",
       "a:link.sk-estimator-doc-link,\n",
       "a:visited.sk-estimator-doc-link {\n",
       "  float: right;\n",
       "  font-size: smaller;\n",
       "  line-height: 1em;\n",
       "  font-family: monospace;\n",
       "  background-color: var(--sklearn-color-background);\n",
       "  border-radius: 1em;\n",
       "  height: 1em;\n",
       "  width: 1em;\n",
       "  text-decoration: none !important;\n",
       "  margin-left: 1ex;\n",
       "  /* unfitted */\n",
       "  border: var(--sklearn-color-unfitted-level-1) 1pt solid;\n",
       "  color: var(--sklearn-color-unfitted-level-1);\n",
       "}\n",
       "\n",
       ".sk-estimator-doc-link.fitted,\n",
       "a:link.sk-estimator-doc-link.fitted,\n",
       "a:visited.sk-estimator-doc-link.fitted {\n",
       "  /* fitted */\n",
       "  border: var(--sklearn-color-fitted-level-1) 1pt solid;\n",
       "  color: var(--sklearn-color-fitted-level-1);\n",
       "}\n",
       "\n",
       "/* On hover */\n",
       "div.sk-estimator:hover .sk-estimator-doc-link:hover,\n",
       ".sk-estimator-doc-link:hover,\n",
       "div.sk-label-container:hover .sk-estimator-doc-link:hover,\n",
       ".sk-estimator-doc-link:hover {\n",
       "  /* unfitted */\n",
       "  background-color: var(--sklearn-color-unfitted-level-3);\n",
       "  color: var(--sklearn-color-background);\n",
       "  text-decoration: none;\n",
       "}\n",
       "\n",
       "div.sk-estimator.fitted:hover .sk-estimator-doc-link.fitted:hover,\n",
       ".sk-estimator-doc-link.fitted:hover,\n",
       "div.sk-label-container:hover .sk-estimator-doc-link.fitted:hover,\n",
       ".sk-estimator-doc-link.fitted:hover {\n",
       "  /* fitted */\n",
       "  background-color: var(--sklearn-color-fitted-level-3);\n",
       "  color: var(--sklearn-color-background);\n",
       "  text-decoration: none;\n",
       "}\n",
       "\n",
       "/* Span, style for the box shown on hovering the info icon */\n",
       ".sk-estimator-doc-link span {\n",
       "  display: none;\n",
       "  z-index: 9999;\n",
       "  position: relative;\n",
       "  font-weight: normal;\n",
       "  right: .2ex;\n",
       "  padding: .5ex;\n",
       "  margin: .5ex;\n",
       "  width: min-content;\n",
       "  min-width: 20ex;\n",
       "  max-width: 50ex;\n",
       "  color: var(--sklearn-color-text);\n",
       "  box-shadow: 2pt 2pt 4pt #999;\n",
       "  /* unfitted */\n",
       "  background: var(--sklearn-color-unfitted-level-0);\n",
       "  border: .5pt solid var(--sklearn-color-unfitted-level-3);\n",
       "}\n",
       "\n",
       ".sk-estimator-doc-link.fitted span {\n",
       "  /* fitted */\n",
       "  background: var(--sklearn-color-fitted-level-0);\n",
       "  border: var(--sklearn-color-fitted-level-3);\n",
       "}\n",
       "\n",
       ".sk-estimator-doc-link:hover span {\n",
       "  display: block;\n",
       "}\n",
       "\n",
       "/* \"?\"-specific style due to the `<a>` HTML tag */\n",
       "\n",
       "#sk-container-id-1 a.estimator_doc_link {\n",
       "  float: right;\n",
       "  font-size: 1rem;\n",
       "  line-height: 1em;\n",
       "  font-family: monospace;\n",
       "  background-color: var(--sklearn-color-background);\n",
       "  border-radius: 1rem;\n",
       "  height: 1rem;\n",
       "  width: 1rem;\n",
       "  text-decoration: none;\n",
       "  /* unfitted */\n",
       "  color: var(--sklearn-color-unfitted-level-1);\n",
       "  border: var(--sklearn-color-unfitted-level-1) 1pt solid;\n",
       "}\n",
       "\n",
       "#sk-container-id-1 a.estimator_doc_link.fitted {\n",
       "  /* fitted */\n",
       "  border: var(--sklearn-color-fitted-level-1) 1pt solid;\n",
       "  color: var(--sklearn-color-fitted-level-1);\n",
       "}\n",
       "\n",
       "/* On hover */\n",
       "#sk-container-id-1 a.estimator_doc_link:hover {\n",
       "  /* unfitted */\n",
       "  background-color: var(--sklearn-color-unfitted-level-3);\n",
       "  color: var(--sklearn-color-background);\n",
       "  text-decoration: none;\n",
       "}\n",
       "\n",
       "#sk-container-id-1 a.estimator_doc_link.fitted:hover {\n",
       "  /* fitted */\n",
       "  background-color: var(--sklearn-color-fitted-level-3);\n",
       "}\n",
       "</style><div id=\"sk-container-id-1\" class=\"sk-top-container\"><div class=\"sk-text-repr-fallback\"><pre> ARIMA(1,0,0)(2,0,0)[12] intercept</pre><b>In a Jupyter environment, please rerun this cell to show the HTML representation or trust the notebook. <br />On GitHub, the HTML representation is unable to render, please try loading this page with nbviewer.org.</b></div><div class=\"sk-container\" hidden><div class=\"sk-item\"><div class=\"sk-estimator fitted sk-toggleable\"><input class=\"sk-toggleable__control sk-hidden--visually\" id=\"sk-estimator-id-1\" type=\"checkbox\" checked><label for=\"sk-estimator-id-1\" class=\"sk-toggleable__label fitted sk-toggleable__label-arrow fitted\">&nbsp;ARIMA<span class=\"sk-estimator-doc-link fitted\">i<span>Fitted</span></span></label><div class=\"sk-toggleable__content fitted\"><pre> ARIMA(1,0,0)(2,0,0)[12] intercept</pre></div> </div></div></div></div>"
      ],
      "text/plain": [
       "ARIMA(order=(1, 0, 0), scoring_args={}, seasonal_order=(2, 0, 0, 12),\n",
       "      suppress_warnings=True)"
      ]
     },
     "execution_count": 7,
     "metadata": {},
     "output_type": "execute_result"
    }
   ],
   "source": [
    "#comment choisir les meilleurs parametres (p,d,q)(P,D,Q)(s) pour le modele\n",
    "\n",
    "import pmdarima   #(p,d,q)  #(P,D,Q, s)  \n",
    "pmdarima.arima.auto_arima(y,                          \n",
    "                          start_p=0, max_p=12, #chercher le meilleur parametre p entre 0 et 12\n",
    "                          start_q=0, max_q=12,\n",
    "                          start_d=0, max_d=12,  \n",
    "                          start_P=0, max_P=12,\n",
    "                          start_Q=0, max_Q=12,\n",
    "                          start_D=0, max_D=12,  \n",
    "                          m=12)"
   ]
  },
  {
   "cell_type": "code",
   "execution_count": 8,
   "id": "2c766a40",
   "metadata": {
    "ExecuteTime": {
     "end_time": "2025-03-14T12:59:32.387819Z",
     "start_time": "2025-03-14T12:59:32.376741Z"
    }
   },
   "outputs": [],
   "source": [
    "#cette recherche exhaustive me conseille de choisir que la consommation du dernier mois (p=1) et celles des deux dernieres annees (P=2)"
   ]
  },
  {
   "cell_type": "code",
   "execution_count": 9,
   "id": "8511ac46",
   "metadata": {
    "ExecuteTime": {
     "end_time": "2025-03-14T12:59:32.397925Z",
     "start_time": "2025-03-14T12:59:32.389843Z"
    }
   },
   "outputs": [],
   "source": [
    "#le meilleur modele en terme de precision pourrait etre le modele SARIMA avec les paremetres:\n",
    "#(p,d,q)(P,D,Q)(s)=(1,0,0)(2,0,0)[12]"
   ]
  },
  {
   "cell_type": "markdown",
   "id": "fbaf96e2",
   "metadata": {},
   "source": [
    "### Entrainer le modele"
   ]
  },
  {
   "cell_type": "code",
   "execution_count": 10,
   "id": "1488968a-4412-4307-9c55-b5951b3c1d49",
   "metadata": {
    "ExecuteTime": {
     "end_time": "2025-03-14T12:59:33.579014Z",
     "start_time": "2025-03-14T12:59:32.400930Z"
    }
   },
   "outputs": [
    {
     "data": {
      "text/html": [
       "<table class=\"simpletable\">\n",
       "<caption>SARIMAX Results</caption>\n",
       "<tr>\n",
       "  <th>Dep. Variable:</th>         <td>Consommation totale</td>      <th>  No. Observations:  </th>    <td>119</td>   \n",
       "</tr>\n",
       "<tr>\n",
       "  <th>Model:</th>           <td>SARIMAX(1, 0, 0)x(2, 0, 0, 12)</td> <th>  Log Likelihood     </th> <td>-1118.936</td>\n",
       "</tr>\n",
       "<tr>\n",
       "  <th>Date:</th>                   <td>Fri, 14 Mar 2025</td>        <th>  AIC                </th> <td>2245.872</td> \n",
       "</tr>\n",
       "<tr>\n",
       "  <th>Time:</th>                       <td>13:59:33</td>            <th>  BIC                </th> <td>2256.989</td> \n",
       "</tr>\n",
       "<tr>\n",
       "  <th>Sample:</th>                    <td>01-01-2012</td>           <th>  HQIC               </th> <td>2250.386</td> \n",
       "</tr>\n",
       "<tr>\n",
       "  <th></th>                          <td>- 11-01-2021</td>          <th>                     </th>     <td> </td>    \n",
       "</tr>\n",
       "<tr>\n",
       "  <th>Covariance Type:</th>               <td>opg</td>              <th>                     </th>     <td> </td>    \n",
       "</tr>\n",
       "</table>\n",
       "<table class=\"simpletable\">\n",
       "<tr>\n",
       "      <td></td>        <th>coef</th>     <th>std err</th>      <th>z</th>      <th>P>|z|</th>  <th>[0.025</th>    <th>0.975]</th>  \n",
       "</tr>\n",
       "<tr>\n",
       "  <th>ar.L1</th>    <td>    0.4981</td> <td>    0.063</td> <td>    7.888</td> <td> 0.000</td> <td>    0.374</td> <td>    0.622</td>\n",
       "</tr>\n",
       "<tr>\n",
       "  <th>ar.S.L12</th> <td>    0.3414</td> <td>    0.053</td> <td>    6.428</td> <td> 0.000</td> <td>    0.237</td> <td>    0.445</td>\n",
       "</tr>\n",
       "<tr>\n",
       "  <th>ar.S.L24</th> <td>    0.6549</td> <td>    0.053</td> <td>   12.341</td> <td> 0.000</td> <td>    0.551</td> <td>    0.759</td>\n",
       "</tr>\n",
       "<tr>\n",
       "  <th>sigma2</th>   <td> 5.204e+06</td> <td> 2.82e-09</td> <td> 1.85e+15</td> <td> 0.000</td> <td>  5.2e+06</td> <td>  5.2e+06</td>\n",
       "</tr>\n",
       "</table>\n",
       "<table class=\"simpletable\">\n",
       "<tr>\n",
       "  <th>Ljung-Box (L1) (Q):</th>     <td>1.91</td> <th>  Jarque-Bera (JB):  </th> <td>13.69</td>\n",
       "</tr>\n",
       "<tr>\n",
       "  <th>Prob(Q):</th>                <td>0.17</td> <th>  Prob(JB):          </th> <td>0.00</td> \n",
       "</tr>\n",
       "<tr>\n",
       "  <th>Heteroskedasticity (H):</th> <td>0.49</td> <th>  Skew:              </th> <td>-0.37</td>\n",
       "</tr>\n",
       "<tr>\n",
       "  <th>Prob(H) (two-sided):</th>    <td>0.03</td> <th>  Kurtosis:          </th> <td>4.49</td> \n",
       "</tr>\n",
       "</table><br/><br/>Warnings:<br/>[1] Covariance matrix calculated using the outer product of gradients (complex-step).<br/>[2] Covariance matrix is singular or near-singular, with condition number 9.07e+30. Standard errors may be unstable."
      ],
      "text/plain": [
       "<class 'statsmodels.iolib.summary.Summary'>\n",
       "\"\"\"\n",
       "                                     SARIMAX Results                                      \n",
       "==========================================================================================\n",
       "Dep. Variable:                Consommation totale   No. Observations:                  119\n",
       "Model:             SARIMAX(1, 0, 0)x(2, 0, 0, 12)   Log Likelihood               -1118.936\n",
       "Date:                            Fri, 14 Mar 2025   AIC                           2245.872\n",
       "Time:                                    13:59:33   BIC                           2256.989\n",
       "Sample:                                01-01-2012   HQIC                          2250.386\n",
       "                                     - 11-01-2021                                         \n",
       "Covariance Type:                              opg                                         \n",
       "==============================================================================\n",
       "                 coef    std err          z      P>|z|      [0.025      0.975]\n",
       "------------------------------------------------------------------------------\n",
       "ar.L1          0.4981      0.063      7.888      0.000       0.374       0.622\n",
       "ar.S.L12       0.3414      0.053      6.428      0.000       0.237       0.445\n",
       "ar.S.L24       0.6549      0.053     12.341      0.000       0.551       0.759\n",
       "sigma2      5.204e+06   2.82e-09   1.85e+15      0.000     5.2e+06     5.2e+06\n",
       "===================================================================================\n",
       "Ljung-Box (L1) (Q):                   1.91   Jarque-Bera (JB):                13.69\n",
       "Prob(Q):                              0.17   Prob(JB):                         0.00\n",
       "Heteroskedasticity (H):               0.49   Skew:                            -0.37\n",
       "Prob(H) (two-sided):                  0.03   Kurtosis:                         4.49\n",
       "===================================================================================\n",
       "\n",
       "Warnings:\n",
       "[1] Covariance matrix calculated using the outer product of gradients (complex-step).\n",
       "[2] Covariance matrix is singular or near-singular, with condition number 9.07e+30. Standard errors may be unstable.\n",
       "\"\"\""
      ]
     },
     "execution_count": 10,
     "metadata": {},
     "output_type": "execute_result"
    }
   ],
   "source": [
    "from statsmodels.tsa.statespace.sarimax import SARIMAX   \n",
    "\n",
    "#choix des parametres du modele\n",
    "p,d,q=1,0,0   # TENDANCE: on prends la conso du mois dernier( p=1)\n",
    "P,D,Q=2,0,0   # SAISONNALITE: on prends la conso des deux dernieres saisons (P=2)\n",
    "s=12\n",
    "#on instancie le modele SARIMA\n",
    "\n",
    "model = SARIMAX(y, order=(p,d,q), seasonal_order = (P,Q,D, s))\n",
    "#on entraine le modele\n",
    "results = model.fit()\n",
    "#les resultats fournis par le modele\n",
    "results.summary()"
   ]
  },
  {
   "cell_type": "markdown",
   "id": "345425f2",
   "metadata": {},
   "source": [
    "### Formulation interpretabilité"
   ]
  },
  {
   "cell_type": "raw",
   "id": "aab79da4",
   "metadata": {
    "ExecuteTime": {
     "end_time": "2024-05-11T14:05:54.397468Z",
     "start_time": "2024-05-11T14:05:54.387973Z"
    }
   },
   "source": [
    "y(t)= -0.6856*y(t-1)              #auto regression lag 1 : arL1   (le dernier mois pris en compte)\n",
    "      +0.98*fluctuations(t-1)     #Fluctuations à l'instant t-1\n",
    "      -0.03*y(t-12)+              #auto regression saisonality lag 12: y(t-12) (derniere saison)\n",
    "      -0.06*y(t-24)               #auto regression saisonality lag 12: y(t-24) (avant derniere saison)\n",
    "      +90                         #la constante"
   ]
  },
  {
   "cell_type": "markdown",
   "id": "9210fc25",
   "metadata": {},
   "source": [
    "### Validation du modele"
   ]
  },
  {
   "cell_type": "code",
   "execution_count": 11,
   "id": "b6b55ce8",
   "metadata": {
    "ExecuteTime": {
     "end_time": "2025-03-14T12:59:33.596805Z",
     "start_time": "2025-03-14T12:59:33.582298Z"
    }
   },
   "outputs": [
    {
     "data": {
      "text/plain": [
       "3.5688298570505533e-16"
      ]
     },
     "execution_count": 11,
     "metadata": {},
     "output_type": "execute_result"
    }
   ],
   "source": [
    "#regardons si les erreurs sont normales\n",
    "st.shapiro(results.resid)[1]"
   ]
  },
  {
   "cell_type": "code",
   "execution_count": 12,
   "id": "de59957a",
   "metadata": {
    "ExecuteTime": {
     "end_time": "2025-03-14T12:59:33.612185Z",
     "start_time": "2025-03-14T12:59:33.599811Z"
    }
   },
   "outputs": [],
   "source": [
    "#pvalue<5% donc les erreurs du modele ne sont pas normales\n",
    "#conclusion: il ne faut pas valider le modele à ce stade, il faut l'ameliorer!\n",
    "\n",
    "#IDEES:  1. recolter plus de données (MORE DATA)\n",
    "        #2. Changer de modele (en general choisir un plus plus compliqué: machine learning, deep learning, transformeur)\n",
    "        #3. Optimiser d'avantage les parametres du modele (Grid Search CV)\n",
    "        #4. Aller cherches les autres variables eXXXXXXogenes autres que le temps, la saisonnalité, bruit\n"
   ]
  },
  {
   "cell_type": "markdown",
   "id": "81cb342a",
   "metadata": {},
   "source": [
    "### Precision du modele"
   ]
  },
  {
   "cell_type": "code",
   "execution_count": 13,
   "id": "cb29c89d",
   "metadata": {
    "ExecuteTime": {
     "end_time": "2025-03-14T12:59:33.657932Z",
     "start_time": "2025-03-14T12:59:33.614491Z"
    }
   },
   "outputs": [],
   "source": [
    "predictions=results.forecast(steps=119,start_index = \"2012-01-31\")"
   ]
  },
  {
   "cell_type": "code",
   "execution_count": 14,
   "id": "cb83c7b6",
   "metadata": {
    "ExecuteTime": {
     "end_time": "2025-03-14T12:59:33.696343Z",
     "start_time": "2025-03-14T12:59:33.664578Z"
    }
   },
   "outputs": [
    {
     "data": {
      "text/html": [
       "<div>\n",
       "<style scoped>\n",
       "    .dataframe tbody tr th:only-of-type {\n",
       "        vertical-align: middle;\n",
       "    }\n",
       "\n",
       "    .dataframe tbody tr th {\n",
       "        vertical-align: top;\n",
       "    }\n",
       "\n",
       "    .dataframe thead th {\n",
       "        text-align: right;\n",
       "    }\n",
       "</style>\n",
       "<table border=\"1\" class=\"dataframe\">\n",
       "  <thead>\n",
       "    <tr style=\"text-align: right;\">\n",
       "      <th></th>\n",
       "      <th>reel</th>\n",
       "      <th>pred</th>\n",
       "      <th>erreur relative</th>\n",
       "    </tr>\n",
       "  </thead>\n",
       "  <tbody>\n",
       "    <tr>\n",
       "      <th>66</th>\n",
       "      <td>33877</td>\n",
       "      <td>31128.0</td>\n",
       "      <td>8.114650</td>\n",
       "    </tr>\n",
       "    <tr>\n",
       "      <th>58</th>\n",
       "      <td>44293</td>\n",
       "      <td>37004.0</td>\n",
       "      <td>16.456325</td>\n",
       "    </tr>\n",
       "    <tr>\n",
       "      <th>115</th>\n",
       "      <td>31184</td>\n",
       "      <td>32204.0</td>\n",
       "      <td>3.270908</td>\n",
       "    </tr>\n",
       "    <tr>\n",
       "      <th>47</th>\n",
       "      <td>44727</td>\n",
       "      <td>42554.0</td>\n",
       "      <td>4.858363</td>\n",
       "    </tr>\n",
       "    <tr>\n",
       "      <th>101</th>\n",
       "      <td>30763</td>\n",
       "      <td>32550.0</td>\n",
       "      <td>5.808926</td>\n",
       "    </tr>\n",
       "    <tr>\n",
       "      <th>69</th>\n",
       "      <td>36615</td>\n",
       "      <td>31874.0</td>\n",
       "      <td>12.948245</td>\n",
       "    </tr>\n",
       "    <tr>\n",
       "      <th>5</th>\n",
       "      <td>33219</td>\n",
       "      <td>32036.0</td>\n",
       "      <td>3.561215</td>\n",
       "    </tr>\n",
       "    <tr>\n",
       "      <th>71</th>\n",
       "      <td>51754</td>\n",
       "      <td>42167.0</td>\n",
       "      <td>18.524172</td>\n",
       "    </tr>\n",
       "    <tr>\n",
       "      <th>59</th>\n",
       "      <td>50670</td>\n",
       "      <td>41885.0</td>\n",
       "      <td>17.337675</td>\n",
       "    </tr>\n",
       "    <tr>\n",
       "      <th>110</th>\n",
       "      <td>43913</td>\n",
       "      <td>42303.0</td>\n",
       "      <td>3.666340</td>\n",
       "    </tr>\n",
       "    <tr>\n",
       "      <th>118</th>\n",
       "      <td>44458</td>\n",
       "      <td>36509.0</td>\n",
       "      <td>17.879797</td>\n",
       "    </tr>\n",
       "    <tr>\n",
       "      <th>39</th>\n",
       "      <td>36898</td>\n",
       "      <td>42775.0</td>\n",
       "      <td>15.927693</td>\n",
       "    </tr>\n",
       "    <tr>\n",
       "      <th>80</th>\n",
       "      <td>32683</td>\n",
       "      <td>30769.0</td>\n",
       "      <td>5.856256</td>\n",
       "    </tr>\n",
       "    <tr>\n",
       "      <th>27</th>\n",
       "      <td>36331</td>\n",
       "      <td>42439.0</td>\n",
       "      <td>16.812089</td>\n",
       "    </tr>\n",
       "    <tr>\n",
       "      <th>55</th>\n",
       "      <td>32132</td>\n",
       "      <td>32566.0</td>\n",
       "      <td>1.350678</td>\n",
       "    </tr>\n",
       "    <tr>\n",
       "      <th>100</th>\n",
       "      <td>30622</td>\n",
       "      <td>34179.0</td>\n",
       "      <td>11.615832</td>\n",
       "    </tr>\n",
       "    <tr>\n",
       "      <th>4</th>\n",
       "      <td>35257</td>\n",
       "      <td>33027.0</td>\n",
       "      <td>6.324985</td>\n",
       "    </tr>\n",
       "    <tr>\n",
       "      <th>38</th>\n",
       "      <td>45739</td>\n",
       "      <td>42838.0</td>\n",
       "      <td>6.342509</td>\n",
       "    </tr>\n",
       "    <tr>\n",
       "      <th>35</th>\n",
       "      <td>49350</td>\n",
       "      <td>41775.0</td>\n",
       "      <td>15.349544</td>\n",
       "    </tr>\n",
       "    <tr>\n",
       "      <th>44</th>\n",
       "      <td>33521</td>\n",
       "      <td>30961.0</td>\n",
       "      <td>7.637004</td>\n",
       "    </tr>\n",
       "  </tbody>\n",
       "</table>\n",
       "</div>"
      ],
      "text/plain": [
       "      reel     pred  erreur relative\n",
       "66   33877  31128.0         8.114650\n",
       "58   44293  37004.0        16.456325\n",
       "115  31184  32204.0         3.270908\n",
       "47   44727  42554.0         4.858363\n",
       "101  30763  32550.0         5.808926\n",
       "69   36615  31874.0        12.948245\n",
       "5    33219  32036.0         3.561215\n",
       "71   51754  42167.0        18.524172\n",
       "59   50670  41885.0        17.337675\n",
       "110  43913  42303.0         3.666340\n",
       "118  44458  36509.0        17.879797\n",
       "39   36898  42775.0        15.927693\n",
       "80   32683  30769.0         5.856256\n",
       "27   36331  42439.0        16.812089\n",
       "55   32132  32566.0         1.350678\n",
       "100  30622  34179.0        11.615832\n",
       "4    35257  33027.0         6.324985\n",
       "38   45739  42838.0         6.342509\n",
       "35   49350  41775.0        15.349544\n",
       "44   33521  30961.0         7.637004"
      ]
     },
     "execution_count": 14,
     "metadata": {},
     "output_type": "execute_result"
    }
   ],
   "source": [
    "resultats=pd.DataFrame()\n",
    "resultats[\"reel\"]=data[\"Consommation totale\"].values   #je stocke la realité\n",
    "resultats[\"pred\"]=predictions.round(0).values   #je stocke la prediction\n",
    "resultats[\"erreur relative\"]=abs((resultats[\"pred\"]-resultats[\"reel\"])/resultats[\"reel\"]*100)\n",
    "\n",
    "resultats.sample(20)\n"
   ]
  },
  {
   "cell_type": "code",
   "execution_count": 15,
   "id": "7f434bec",
   "metadata": {
    "ExecuteTime": {
     "end_time": "2025-03-14T12:59:33.746749Z",
     "start_time": "2025-03-14T12:59:33.702761Z"
    }
   },
   "outputs": [
    {
     "data": {
      "text/html": [
       "<div>\n",
       "<style scoped>\n",
       "    .dataframe tbody tr th:only-of-type {\n",
       "        vertical-align: middle;\n",
       "    }\n",
       "\n",
       "    .dataframe tbody tr th {\n",
       "        vertical-align: top;\n",
       "    }\n",
       "\n",
       "    .dataframe thead th {\n",
       "        text-align: right;\n",
       "    }\n",
       "</style>\n",
       "<table border=\"1\" class=\"dataframe\">\n",
       "  <thead>\n",
       "    <tr style=\"text-align: right;\">\n",
       "      <th></th>\n",
       "      <th>reel</th>\n",
       "      <th>pred</th>\n",
       "      <th>erreur relative</th>\n",
       "    </tr>\n",
       "  </thead>\n",
       "  <tbody>\n",
       "    <tr>\n",
       "      <th>count</th>\n",
       "      <td>119.000000</td>\n",
       "      <td>119.000000</td>\n",
       "      <td>119.000000</td>\n",
       "    </tr>\n",
       "    <tr>\n",
       "      <th>mean</th>\n",
       "      <td>39613.798319</td>\n",
       "      <td>37992.277311</td>\n",
       "      <td>8.704975</td>\n",
       "    </tr>\n",
       "    <tr>\n",
       "      <th>std</th>\n",
       "      <td>7050.614648</td>\n",
       "      <td>6690.632099</td>\n",
       "      <td>6.307358</td>\n",
       "    </tr>\n",
       "    <tr>\n",
       "      <th>min</th>\n",
       "      <td>30622.000000</td>\n",
       "      <td>30556.000000</td>\n",
       "      <td>0.084195</td>\n",
       "    </tr>\n",
       "    <tr>\n",
       "      <th>25%</th>\n",
       "      <td>33267.500000</td>\n",
       "      <td>32191.000000</td>\n",
       "      <td>3.368527</td>\n",
       "    </tr>\n",
       "    <tr>\n",
       "      <th>50%</th>\n",
       "      <td>37063.000000</td>\n",
       "      <td>35995.000000</td>\n",
       "      <td>7.785159</td>\n",
       "    </tr>\n",
       "    <tr>\n",
       "      <th>75%</th>\n",
       "      <td>44653.500000</td>\n",
       "      <td>42581.000000</td>\n",
       "      <td>13.166186</td>\n",
       "    </tr>\n",
       "    <tr>\n",
       "      <th>max</th>\n",
       "      <td>57406.000000</td>\n",
       "      <td>52154.000000</td>\n",
       "      <td>37.337726</td>\n",
       "    </tr>\n",
       "  </tbody>\n",
       "</table>\n",
       "</div>"
      ],
      "text/plain": [
       "               reel          pred  erreur relative\n",
       "count    119.000000    119.000000       119.000000\n",
       "mean   39613.798319  37992.277311         8.704975\n",
       "std     7050.614648   6690.632099         6.307358\n",
       "min    30622.000000  30556.000000         0.084195\n",
       "25%    33267.500000  32191.000000         3.368527\n",
       "50%    37063.000000  35995.000000         7.785159\n",
       "75%    44653.500000  42581.000000        13.166186\n",
       "max    57406.000000  52154.000000        37.337726"
      ]
     },
     "execution_count": 15,
     "metadata": {},
     "output_type": "execute_result"
    }
   ],
   "source": [
    "resultats.describe()"
   ]
  },
  {
   "cell_type": "code",
   "execution_count": 16,
   "id": "19ea0d71",
   "metadata": {
    "ExecuteTime": {
     "end_time": "2025-03-14T12:59:33.779999Z",
     "start_time": "2025-03-14T12:59:33.752192Z"
    }
   },
   "outputs": [
    {
     "name": "stdout",
     "output_type": "stream",
     "text": [
      "MAE =  3589.285714285714\n",
      "RMSE =  4502.256981156201\n",
      "MAPE =  9.260486164877427\n"
     ]
    }
   ],
   "source": [
    "\n",
    "mae = mean_absolute_error(resultats[\"reel\"], resultats[\"pred\"])\n",
    "mse = mean_squared_error(resultats[\"reel\"], resultats[\"pred\"])\n",
    "rmse = np.sqrt(mse)\n",
    "mape = np.mean(np.abs((resultats[\"reel\"]-resultats[\"pred\"]) / resultats[\"pred\"])) * 100\n",
    "\n",
    "print('MAE = ', mae)  #on comments des erreurs absolues de l ordre de 3589 sur les predictions\n",
    "print('RMSE = ', rmse) ##on comments des erreurs quadratiques de l ordre de 1769 sur les predictions\n",
    "print('MAPE = ', mape)   #On commets des erreurs relatives de 9%    (modele validé avec une precision de 91%)"
   ]
  },
  {
   "cell_type": "code",
   "execution_count": 17,
   "id": "f2cb5edd",
   "metadata": {
    "ExecuteTime": {
     "end_time": "2025-03-14T12:59:33.796040Z",
     "start_time": "2025-03-14T12:59:33.782041Z"
    }
   },
   "outputs": [],
   "source": [
    "#Le modele comment des erreurs de l'ordre de 9.11%, cependant il ne faut pas le valider car les erreurs generées restent anormales"
   ]
  },
  {
   "cell_type": "markdown",
   "id": "98edae69",
   "metadata": {},
   "source": [
    "### Modele general"
   ]
  },
  {
   "cell_type": "code",
   "execution_count": 18,
   "id": "73913c2f",
   "metadata": {
    "ExecuteTime": {
     "end_time": "2025-03-14T12:59:33.811645Z",
     "start_time": "2025-03-14T12:59:33.798646Z"
    }
   },
   "outputs": [
    {
     "data": {
      "text/plain": [
       "Mois\n",
       "2012-01    51086\n",
       "2012-02    54476\n",
       "2012-03    43156\n",
       "2012-04    40176\n",
       "2012-05    35257\n",
       "Name: Consommation totale, dtype: int64"
      ]
     },
     "execution_count": 18,
     "metadata": {},
     "output_type": "execute_result"
    }
   ],
   "source": [
    "\n",
    "target = data[\"Consommation totale\"]\n",
    "target.head()"
   ]
  },
  {
   "cell_type": "code",
   "execution_count": 19,
   "id": "417359ff",
   "metadata": {
    "ExecuteTime": {
     "end_time": "2025-03-14T12:59:33.830254Z",
     "start_time": "2025-03-14T12:59:33.814329Z"
    }
   },
   "outputs": [
    {
     "data": {
      "text/plain": [
       "Index(['Mois', 'Qualité', 'Territoire', 'Production totale',\n",
       "       'Production nucléaire', 'Production thermique totale',\n",
       "       'Production thermique charbon', 'Production thermique fioul',\n",
       "       'Production thermique gaz', 'Production hydraulique',\n",
       "       'Production éolien', 'Production solaire', 'Production bioénergies',\n",
       "       'Consommation totale', 'Solde exportateur', 'Echanges export',\n",
       "       'Echanges import', 'Echanges avec le Royaume-Uni',\n",
       "       'Echanges avec l'Espagne', 'Echanges avec l'Italie',\n",
       "       'Echanges avec la Suisse', 'Echanges avec l'Allemagne et la Belgique'],\n",
       "      dtype='object')"
      ]
     },
     "execution_count": 19,
     "metadata": {},
     "output_type": "execute_result"
    }
   ],
   "source": [
    "data.columns"
   ]
  },
  {
   "cell_type": "code",
   "execution_count": 20,
   "id": "626a6681",
   "metadata": {
    "ExecuteTime": {
     "end_time": "2025-03-14T12:59:33.846257Z",
     "start_time": "2025-03-14T12:59:33.833255Z"
    }
   },
   "outputs": [],
   "source": [
    " #variables EXOGENES (explicatives)\n",
    "#on prend que les variables qui causent la conso et qui ne creeraient pas d'instabilité à long terme (c'est à dire qui ne \"data driftent pas\")\n",
    "exog=data[['Production totale', #ok\n",
    "           'Production thermique totale', #ok\n",
    "           'Solde exportateur',  #ok\n",
    "           'Echanges export',  #ok\n",
    "           'Echanges import']].fillna(0)\n",
    "\n",
    "exog = data[[\"Production totale\",\"Production nucléaire\",\"Production thermique totale\",\"Production thermique charbon\"]]"
   ]
  },
  {
   "cell_type": "code",
   "execution_count": 21,
   "id": "edc5bcda",
   "metadata": {
    "ExecuteTime": {
     "end_time": "2025-03-14T12:59:33.862265Z",
     "start_time": "2025-03-14T12:59:33.848257Z"
    }
   },
   "outputs": [],
   "source": [
    "n=20 #on cache aux modeles les 20 derniers mois\n",
    "#on prends les 119-20 premieres donnees pour le train et 33 pour le test (vous pouvez aussi modifier cette repartition)\n",
    "train= target.head(119-n)\n",
    "test=target.tail(n)"
   ]
  },
  {
   "cell_type": "code",
   "execution_count": 22,
   "id": "5bbf5a16",
   "metadata": {
    "ExecuteTime": {
     "end_time": "2025-03-14T12:59:33.877804Z",
     "start_time": "2025-03-14T12:59:33.867289Z"
    }
   },
   "outputs": [],
   "source": [
    "#plus simple\n",
    "exog_train= exog.head(119-n) #les 100 premiers pour entrainer le modele\n",
    "exog_test=exog.tail(n)     #les 19 derniers pour tester le modele \n"
   ]
  },
  {
   "cell_type": "code",
   "execution_count": 23,
   "id": "00d4d300",
   "metadata": {
    "ExecuteTime": {
     "end_time": "2025-03-14T12:59:37.037941Z",
     "start_time": "2025-03-14T12:59:33.881965Z"
    }
   },
   "outputs": [
    {
     "data": {
      "text/html": [
       "<table class=\"simpletable\">\n",
       "<caption>SARIMAX Results</caption>\n",
       "<tr>\n",
       "  <th>Dep. Variable:</th>         <td>Consommation totale</td>      <th>  No. Observations:  </th>    <td>99</td>   \n",
       "</tr>\n",
       "<tr>\n",
       "  <th>Model:</th>           <td>SARIMAX(1, 0, 0)x(2, 0, 0, 12)</td> <th>  Log Likelihood     </th> <td>-822.560</td>\n",
       "</tr>\n",
       "<tr>\n",
       "  <th>Date:</th>                   <td>Fri, 14 Mar 2025</td>        <th>  AIC                </th> <td>1661.121</td>\n",
       "</tr>\n",
       "<tr>\n",
       "  <th>Time:</th>                       <td>13:59:37</td>            <th>  BIC                </th> <td>1681.882</td>\n",
       "</tr>\n",
       "<tr>\n",
       "  <th>Sample:</th>                    <td>01-01-2012</td>           <th>  HQIC               </th> <td>1669.521</td>\n",
       "</tr>\n",
       "<tr>\n",
       "  <th></th>                          <td>- 03-01-2020</td>          <th>                     </th>     <td> </td>   \n",
       "</tr>\n",
       "<tr>\n",
       "  <th>Covariance Type:</th>               <td>opg</td>              <th>                     </th>     <td> </td>   \n",
       "</tr>\n",
       "</table>\n",
       "<table class=\"simpletable\">\n",
       "<tr>\n",
       "                <td></td>                  <th>coef</th>     <th>std err</th>      <th>z</th>      <th>P>|z|</th>  <th>[0.025</th>    <th>0.975]</th>  \n",
       "</tr>\n",
       "<tr>\n",
       "  <th>Production totale</th>            <td>    0.8651</td> <td>    0.084</td> <td>   10.276</td> <td> 0.000</td> <td>    0.700</td> <td>    1.030</td>\n",
       "</tr>\n",
       "<tr>\n",
       "  <th>Production nucléaire</th>         <td>   -0.1011</td> <td>    0.110</td> <td>   -0.918</td> <td> 0.359</td> <td>   -0.317</td> <td>    0.115</td>\n",
       "</tr>\n",
       "<tr>\n",
       "  <th>Production thermique totale</th>  <td>    1.1046</td> <td>    0.126</td> <td>    8.764</td> <td> 0.000</td> <td>    0.858</td> <td>    1.352</td>\n",
       "</tr>\n",
       "<tr>\n",
       "  <th>Production thermique charbon</th> <td>    0.6259</td> <td>    0.363</td> <td>    1.723</td> <td> 0.085</td> <td>   -0.086</td> <td>    1.338</td>\n",
       "</tr>\n",
       "<tr>\n",
       "  <th>ar.L1</th>                        <td>    0.3238</td> <td>    0.098</td> <td>    3.301</td> <td> 0.001</td> <td>    0.132</td> <td>    0.516</td>\n",
       "</tr>\n",
       "<tr>\n",
       "  <th>ar.S.L12</th>                     <td>    0.1125</td> <td>    0.115</td> <td>    0.974</td> <td> 0.330</td> <td>   -0.114</td> <td>    0.339</td>\n",
       "</tr>\n",
       "<tr>\n",
       "  <th>ar.S.L24</th>                     <td>    0.1235</td> <td>    0.130</td> <td>    0.952</td> <td> 0.341</td> <td>   -0.131</td> <td>    0.378</td>\n",
       "</tr>\n",
       "<tr>\n",
       "  <th>sigma2</th>                       <td> 9.969e+05</td> <td> 5.49e-08</td> <td> 1.81e+13</td> <td> 0.000</td> <td> 9.97e+05</td> <td> 9.97e+05</td>\n",
       "</tr>\n",
       "</table>\n",
       "<table class=\"simpletable\">\n",
       "<tr>\n",
       "  <th>Ljung-Box (L1) (Q):</th>     <td>0.05</td> <th>  Jarque-Bera (JB):  </th> <td>0.81</td> \n",
       "</tr>\n",
       "<tr>\n",
       "  <th>Prob(Q):</th>                <td>0.82</td> <th>  Prob(JB):          </th> <td>0.67</td> \n",
       "</tr>\n",
       "<tr>\n",
       "  <th>Heteroskedasticity (H):</th> <td>1.53</td> <th>  Skew:              </th> <td>-0.11</td>\n",
       "</tr>\n",
       "<tr>\n",
       "  <th>Prob(H) (two-sided):</th>    <td>0.23</td> <th>  Kurtosis:          </th> <td>2.61</td> \n",
       "</tr>\n",
       "</table><br/><br/>Warnings:<br/>[1] Covariance matrix calculated using the outer product of gradients (complex-step).<br/>[2] Covariance matrix is singular or near-singular, with condition number 2.24e+29. Standard errors may be unstable."
      ],
      "text/plain": [
       "<class 'statsmodels.iolib.summary.Summary'>\n",
       "\"\"\"\n",
       "                                     SARIMAX Results                                      \n",
       "==========================================================================================\n",
       "Dep. Variable:                Consommation totale   No. Observations:                   99\n",
       "Model:             SARIMAX(1, 0, 0)x(2, 0, 0, 12)   Log Likelihood                -822.560\n",
       "Date:                            Fri, 14 Mar 2025   AIC                           1661.121\n",
       "Time:                                    13:59:37   BIC                           1681.882\n",
       "Sample:                                01-01-2012   HQIC                          1669.521\n",
       "                                     - 03-01-2020                                         \n",
       "Covariance Type:                              opg                                         \n",
       "================================================================================================\n",
       "                                   coef    std err          z      P>|z|      [0.025      0.975]\n",
       "------------------------------------------------------------------------------------------------\n",
       "Production totale                0.8651      0.084     10.276      0.000       0.700       1.030\n",
       "Production nucléaire            -0.1011      0.110     -0.918      0.359      -0.317       0.115\n",
       "Production thermique totale      1.1046      0.126      8.764      0.000       0.858       1.352\n",
       "Production thermique charbon     0.6259      0.363      1.723      0.085      -0.086       1.338\n",
       "ar.L1                            0.3238      0.098      3.301      0.001       0.132       0.516\n",
       "ar.S.L12                         0.1125      0.115      0.974      0.330      -0.114       0.339\n",
       "ar.S.L24                         0.1235      0.130      0.952      0.341      -0.131       0.378\n",
       "sigma2                        9.969e+05   5.49e-08   1.81e+13      0.000    9.97e+05    9.97e+05\n",
       "===================================================================================\n",
       "Ljung-Box (L1) (Q):                   0.05   Jarque-Bera (JB):                 0.81\n",
       "Prob(Q):                              0.82   Prob(JB):                         0.67\n",
       "Heteroskedasticity (H):               1.53   Skew:                            -0.11\n",
       "Prob(H) (two-sided):                  0.23   Kurtosis:                         2.61\n",
       "===================================================================================\n",
       "\n",
       "Warnings:\n",
       "[1] Covariance matrix calculated using the outer product of gradients (complex-step).\n",
       "[2] Covariance matrix is singular or near-singular, with condition number 2.24e+29. Standard errors may be unstable.\n",
       "\"\"\""
      ]
     },
     "execution_count": 23,
     "metadata": {},
     "output_type": "execute_result"
    }
   ],
   "source": [
    "p=1;P=2\n",
    "d=0;D=0\n",
    "q=0;Q=0\n",
    "s=12\n",
    "\n",
    "# define model configuration\n",
    "my_order = (p, d, q)\n",
    "my_seasonal_order = (P, D, Q, s) \n",
    "\n",
    "\n",
    "# define model configuration\n",
    "#my_order = (24, 0, 0) #pqd: appliquée à la seried e depart\n",
    "#my_seasonal_order = (0, 0, 0, 12) #PQD et S=saison (tres souvent c'est 12) appliquée à la SAISONNALITE\n",
    "\n",
    "\n",
    "\n",
    "# define model\n",
    "model5 = SARIMAX(train, #les donnees d entrainement\n",
    "                 exog=exog_train, #on prend en compte les variables eXogenes (productions)\n",
    "                 order=my_order,  #les hyperparametres (p,d,q)\n",
    "                 seasonal_order=my_seasonal_order)  ##les hyperparametres (P,D,Q,s)\n",
    "\n",
    "results5 = model5.fit()\n",
    "results5.summary()"
   ]
  },
  {
   "cell_type": "code",
   "execution_count": 24,
   "id": "a92945a0",
   "metadata": {
    "ExecuteTime": {
     "end_time": "2025-03-14T12:59:37.284973Z",
     "start_time": "2025-03-14T12:59:37.040941Z"
    }
   },
   "outputs": [
    {
     "data": {
      "text/plain": [
       "<Axes: ylabel='Density'>"
      ]
     },
     "execution_count": 24,
     "metadata": {},
     "output_type": "execute_result"
    },
    {
     "data": {
      "image/png": "[encoded data removed]",
      "text/plain": [
       "<Figure size 432x288 with 1 Axes>"
      ]
     },
     "metadata": {
      "needs_background": "light"
     },
     "output_type": "display_data"
    }
   ],
   "source": [
    "results5.resid.plot(kind=\"density\")"
   ]
  },
  {
   "cell_type": "code",
   "execution_count": 25,
   "id": "75007cdf",
   "metadata": {
    "ExecuteTime": {
     "end_time": "2025-03-14T12:59:37.299147Z",
     "start_time": "2025-03-14T12:59:37.287974Z"
    }
   },
   "outputs": [
    {
     "data": {
      "text/plain": [
       "ShapiroResult(statistic=0.993486225605011, pvalue=0.9183127284049988)"
      ]
     },
     "execution_count": 25,
     "metadata": {},
     "output_type": "execute_result"
    }
   ],
   "source": [
    "st.shapiro(results5.resid)\n",
    "#pvalue>5% donc on ne peut pas rejeter l'hypothese de normalité des residus\n",
    "#conslusion sur la base des statistiques: ON VALIDE LE MODELE"
   ]
  },
  {
   "cell_type": "code",
   "execution_count": 26,
   "id": "34f8ecce",
   "metadata": {
    "ExecuteTime": {
     "end_time": "2025-03-14T12:59:38.824307Z",
     "start_time": "2025-03-14T12:59:37.304565Z"
    }
   },
   "outputs": [
    {
     "data": {
      "image/png": "[encoded data removed]",
      "text/plain": [
       "<Figure size 1152x576 with 4 Axes>"
      ]
     },
     "execution_count": 26,
     "metadata": {},
     "output_type": "execute_result"
    },
    {
     "data": {
      "image/png": "[encoded data removed]",
      "text/plain": [
       "<Figure size 1152x576 with 4 Axes>"
      ]
     },
     "metadata": {
      "needs_background": "light"
     },
     "output_type": "display_data"
    }
   ],
   "source": [
    "results5.plot_diagnostics(figsize=(16,8))"
   ]
  },
  {
   "cell_type": "code",
   "execution_count": 27,
   "id": "9662b009",
   "metadata": {
    "ExecuteTime": {
     "end_time": "2025-03-14T12:59:38.905007Z",
     "start_time": "2025-03-14T12:59:38.832272Z"
    }
   },
   "outputs": [
    {
     "data": {
      "text/plain": [
       "2020-04-01    51530.392927\n",
       "2020-05-01    54017.383375\n",
       "2020-06-01    44635.498654\n",
       "2020-07-01    39498.688936\n",
       "2020-08-01    34440.802365\n",
       "                  ...     \n",
       "2029-10-01    34014.472706\n",
       "2029-11-01    32046.904536\n",
       "2029-12-01    33117.077038\n",
       "2030-01-01    37346.037370\n",
       "2030-02-01    41918.737034\n",
       "Freq: MS, Name: predicted_mean, Length: 119, dtype: float64"
      ]
     },
     "execution_count": 27,
     "metadata": {},
     "output_type": "execute_result"
    }
   ],
   "source": [
    "predictions=results5.forecast(steps=119,start_index = \"2012-01-31\", exog = exog)\n",
    "predictions"
   ]
  },
  {
   "cell_type": "code",
   "execution_count": 28,
   "id": "7c41bd34",
   "metadata": {
    "ExecuteTime": {
     "end_time": "2025-03-14T12:59:38.921716Z",
     "start_time": "2025-03-14T12:59:38.913715Z"
    }
   },
   "outputs": [],
   "source": [
    "yhatsarimax=predictions"
   ]
  },
  {
   "cell_type": "code",
   "execution_count": 29,
   "id": "291d6392",
   "metadata": {
    "ExecuteTime": {
     "end_time": "2025-03-14T12:59:39.240377Z",
     "start_time": "2025-03-14T12:59:38.925179Z"
    }
   },
   "outputs": [
    {
     "data": {
      "image/png": "[encoded data removed]",
      "text/plain": [
       "<Figure size 1008x432 with 1 Axes>"
      ]
     },
     "metadata": {
      "needs_background": "light"
     },
     "output_type": "display_data"
    }
   ],
   "source": [
    "predictions=results5.forecast(steps=119,start_index = \"2012-01-31\", exog = exog)\n",
    "predictions\n",
    "plt.figure(figsize=(14,6))\n",
    "plt.plot(target.values, label='Consommation totale REELLE', color='green')\n",
    "\n",
    "plt.plot(predictions.values, label='Consommation totale PREDICT ', color='red')\n",
    "\n",
    "plt.ylabel('Consommation totale (en GWh)')\n",
    "plt.xlabel('Temps')\n",
    "plt.title('Prédiction de la consommation energie au cours du temps par la méthode SARIAMX')\n",
    "plt.legend(loc='best')\n",
    "plt.show()"
   ]
  },
  {
   "cell_type": "code",
   "execution_count": 30,
   "id": "926ef15b",
   "metadata": {
    "ExecuteTime": {
     "end_time": "2025-03-14T12:59:39.255076Z",
     "start_time": "2025-03-14T12:59:39.242771Z"
    }
   },
   "outputs": [
    {
     "data": {
      "text/plain": [
       "0.9183127284049988"
      ]
     },
     "execution_count": 30,
     "metadata": {},
     "output_type": "execute_result"
    }
   ],
   "source": [
    "st.shapiro(results5.resid)[1]"
   ]
  },
  {
   "cell_type": "code",
   "execution_count": 31,
   "id": "5111a025",
   "metadata": {
    "ExecuteTime": {
     "end_time": "2025-03-14T12:59:39.265914Z",
     "start_time": "2025-03-14T12:59:39.258206Z"
    }
   },
   "outputs": [],
   "source": [
    "#pvalue>5%, on accepte la normalité. donc modele validé statistiquement!!!\n"
   ]
  },
  {
   "cell_type": "code",
   "execution_count": 32,
   "id": "3cb28aaf",
   "metadata": {
    "ExecuteTime": {
     "end_time": "2025-03-14T12:59:39.291115Z",
     "start_time": "2025-03-14T12:59:39.267224Z"
    }
   },
   "outputs": [
    {
     "data": {
      "text/plain": [
       "array([29879.39925692, 31482.32154175, 30455.98490659, 30711.47081529,\n",
       "       29667.05994718, 29074.93589044, 36045.44895686, 40834.22643403,\n",
       "       45850.81450542, 50984.53338775, 42215.93407844, 42700.73575017,\n",
       "       34965.69065999, 34427.9398371 , 32889.63915094, 34014.47270647,\n",
       "       32046.90453614, 33117.07703778, 37346.03736966, 41918.73703361])"
      ]
     },
     "execution_count": 32,
     "metadata": {},
     "output_type": "execute_result"
    }
   ],
   "source": [
    "y_pred5=predictions.values[-n:]\n",
    "y_pred5"
   ]
  },
  {
   "cell_type": "code",
   "execution_count": 33,
   "id": "0aba5c77",
   "metadata": {
    "ExecuteTime": {
     "end_time": "2025-03-14T12:59:39.308996Z",
     "start_time": "2025-03-14T12:59:39.293291Z"
    }
   },
   "outputs": [
    {
     "data": {
      "text/plain": [
       "array([30658, 30622, 30763, 32970, 31428, 32307, 38332, 39840, 47565,\n",
       "       52983, 43024, 43913, 37747, 35007, 32032, 32959, 31184, 32350,\n",
       "       36762, 44458], dtype=int64)"
      ]
     },
     "execution_count": 33,
     "metadata": {},
     "output_type": "execute_result"
    }
   ],
   "source": [
    "y_true5=target.values[-n:]\n",
    "y_true5"
   ]
  },
  {
   "cell_type": "code",
   "execution_count": 34,
   "id": "6f5a0fd4",
   "metadata": {
    "ExecuteTime": {
     "end_time": "2025-03-14T12:59:39.357090Z",
     "start_time": "2025-03-14T12:59:39.311994Z"
    }
   },
   "outputs": [
    {
     "name": "stdout",
     "output_type": "stream",
     "text": [
      "MAE =  1411.8996875499442\n",
      "MSE =  2670145.898628435\n",
      "RMSE =  1634.0581074822385\n",
      "MAPE =  3.9959847594083846\n"
     ]
    }
   ],
   "source": [
    "predictions=results5.forecast(steps=119,start_index = \"2012-01-31\", exog = exog)\n",
    "\n",
    "mae = mean_absolute_error(y_true5, y_pred5)\n",
    "mse = mean_squared_error(y_true5, y_pred5)\n",
    "rmse = np.sqrt(mse)\n",
    "mape = np.mean(np.abs((y_true5 - y_pred5) / y_pred5)) * 100\n",
    "\n",
    "print('MAE = ', mae)  #on comments des erreurs absolues de l ordre de 1514 sur les predictions\n",
    "print('MSE = ', mse)  #pas interessant à cause de l'echelle\n",
    "print('RMSE = ', rmse) ##on comments des erreurs quadratiques de l ordre de 1769 sur les predictions\n",
    "print('MAPE = ', mape)   #On commets des erreurs relatives de 0.59%    (modele validé avec une precision de 99.5%)"
   ]
  },
  {
   "cell_type": "code",
   "execution_count": 35,
   "id": "edb6c61a",
   "metadata": {
    "ExecuteTime": {
     "end_time": "2025-03-14T12:59:39.405205Z",
     "start_time": "2025-03-14T12:59:39.359976Z"
    }
   },
   "outputs": [
    {
     "data": {
      "text/html": [
       "<div>\n",
       "<style scoped>\n",
       "    .dataframe tbody tr th:only-of-type {\n",
       "        vertical-align: middle;\n",
       "    }\n",
       "\n",
       "    .dataframe tbody tr th {\n",
       "        vertical-align: top;\n",
       "    }\n",
       "\n",
       "    .dataframe thead th {\n",
       "        text-align: right;\n",
       "    }\n",
       "</style>\n",
       "<table border=\"1\" class=\"dataframe\">\n",
       "  <thead>\n",
       "    <tr style=\"text-align: right;\">\n",
       "      <th>Consommation totale</th>\n",
       "      <th>mean</th>\n",
       "      <th>mean_se</th>\n",
       "      <th>mean_ci_lower</th>\n",
       "      <th>mean_ci_upper</th>\n",
       "      <th>reel</th>\n",
       "    </tr>\n",
       "    <tr>\n",
       "      <th>Mois</th>\n",
       "      <th></th>\n",
       "      <th></th>\n",
       "      <th></th>\n",
       "      <th></th>\n",
       "      <th></th>\n",
       "    </tr>\n",
       "  </thead>\n",
       "  <tbody>\n",
       "    <tr>\n",
       "      <th>2012-01</th>\n",
       "      <td>51530.392927</td>\n",
       "      <td>998.444952</td>\n",
       "      <td>49573.476782</td>\n",
       "      <td>53487.309073</td>\n",
       "      <td>51086</td>\n",
       "    </tr>\n",
       "    <tr>\n",
       "      <th>2012-02</th>\n",
       "      <td>54017.383375</td>\n",
       "      <td>1049.489983</td>\n",
       "      <td>51960.420806</td>\n",
       "      <td>56074.345943</td>\n",
       "      <td>54476</td>\n",
       "    </tr>\n",
       "    <tr>\n",
       "      <th>2012-03</th>\n",
       "      <td>44635.498654</td>\n",
       "      <td>1054.699604</td>\n",
       "      <td>42568.325416</td>\n",
       "      <td>46702.671892</td>\n",
       "      <td>43156</td>\n",
       "    </tr>\n",
       "    <tr>\n",
       "      <th>2012-04</th>\n",
       "      <td>39498.688936</td>\n",
       "      <td>1055.244409</td>\n",
       "      <td>37430.447898</td>\n",
       "      <td>41566.929973</td>\n",
       "      <td>40176</td>\n",
       "    </tr>\n",
       "    <tr>\n",
       "      <th>2012-05</th>\n",
       "      <td>34440.802365</td>\n",
       "      <td>1055.301523</td>\n",
       "      <td>32372.449388</td>\n",
       "      <td>36509.155343</td>\n",
       "      <td>35257</td>\n",
       "    </tr>\n",
       "    <tr>\n",
       "      <th>...</th>\n",
       "      <td>...</td>\n",
       "      <td>...</td>\n",
       "      <td>...</td>\n",
       "      <td>...</td>\n",
       "      <td>...</td>\n",
       "    </tr>\n",
       "    <tr>\n",
       "      <th>2021-07</th>\n",
       "      <td>34014.472706</td>\n",
       "      <td>1072.321174</td>\n",
       "      <td>31912.761826</td>\n",
       "      <td>36116.183587</td>\n",
       "      <td>32959</td>\n",
       "    </tr>\n",
       "    <tr>\n",
       "      <th>2021-08</th>\n",
       "      <td>32046.904536</td>\n",
       "      <td>1072.321174</td>\n",
       "      <td>29945.193655</td>\n",
       "      <td>34148.615417</td>\n",
       "      <td>31184</td>\n",
       "    </tr>\n",
       "    <tr>\n",
       "      <th>2021-09</th>\n",
       "      <td>33117.077038</td>\n",
       "      <td>1072.321174</td>\n",
       "      <td>31015.366157</td>\n",
       "      <td>35218.787919</td>\n",
       "      <td>32350</td>\n",
       "    </tr>\n",
       "    <tr>\n",
       "      <th>2021-10</th>\n",
       "      <td>37346.037370</td>\n",
       "      <td>1072.321174</td>\n",
       "      <td>35244.326489</td>\n",
       "      <td>39447.748251</td>\n",
       "      <td>36762</td>\n",
       "    </tr>\n",
       "    <tr>\n",
       "      <th>2021-11</th>\n",
       "      <td>41918.737034</td>\n",
       "      <td>1072.321174</td>\n",
       "      <td>39817.026153</td>\n",
       "      <td>44020.447915</td>\n",
       "      <td>44458</td>\n",
       "    </tr>\n",
       "  </tbody>\n",
       "</table>\n",
       "<p>119 rows × 5 columns</p>\n",
       "</div>"
      ],
      "text/plain": [
       "Consommation totale          mean      mean_se  mean_ci_lower  mean_ci_upper  \\\n",
       "Mois                                                                           \n",
       "2012-01              51530.392927   998.444952   49573.476782   53487.309073   \n",
       "2012-02              54017.383375  1049.489983   51960.420806   56074.345943   \n",
       "2012-03              44635.498654  1054.699604   42568.325416   46702.671892   \n",
       "2012-04              39498.688936  1055.244409   37430.447898   41566.929973   \n",
       "2012-05              34440.802365  1055.301523   32372.449388   36509.155343   \n",
       "...                           ...          ...            ...            ...   \n",
       "2021-07              34014.472706  1072.321174   31912.761826   36116.183587   \n",
       "2021-08              32046.904536  1072.321174   29945.193655   34148.615417   \n",
       "2021-09              33117.077038  1072.321174   31015.366157   35218.787919   \n",
       "2021-10              37346.037370  1072.321174   35244.326489   39447.748251   \n",
       "2021-11              41918.737034  1072.321174   39817.026153   44020.447915   \n",
       "\n",
       "Consommation totale   reel  \n",
       "Mois                        \n",
       "2012-01              51086  \n",
       "2012-02              54476  \n",
       "2012-03              43156  \n",
       "2012-04              40176  \n",
       "2012-05              35257  \n",
       "...                    ...  \n",
       "2021-07              32959  \n",
       "2021-08              31184  \n",
       "2021-09              32350  \n",
       "2021-10              36762  \n",
       "2021-11              44458  \n",
       "\n",
       "[119 rows x 5 columns]"
      ]
     },
     "execution_count": 35,
     "metadata": {},
     "output_type": "execute_result"
    }
   ],
   "source": [
    "predictions=results5.get_forecast(steps=119,start_index = \"2012-01-31\", exog = exog).summary_frame()\n",
    "predictions.index=exog.index\n",
    "predictions[\"reel\"]=y\n",
    "predictions"
   ]
  },
  {
   "cell_type": "raw",
   "id": "fcca7bf9",
   "metadata": {},
   "source": [
    "AU 2021-08-31 la consommation sera dde 32077.838265, cepandant il faut s'attendre à 95% à un resultat entre 27000 et 37155"
   ]
  },
  {
   "cell_type": "code",
   "execution_count": 36,
   "id": "e75fd9e0",
   "metadata": {
    "ExecuteTime": {
     "end_time": "2025-03-14T12:59:40.134413Z",
     "start_time": "2025-03-14T12:59:39.409173Z"
    }
   },
   "outputs": [
    {
     "data": {
      "image/png": "[encoded data removed]",
      "text/plain": [
       "<Figure size 720x360 with 1 Axes>"
      ]
     },
     "metadata": {
      "needs_background": "light"
     },
     "output_type": "display_data"
    }
   ],
   "source": [
    "import matplotlib.pyplot as plt\n",
    "plt.rcParams[\"figure.figsize\"] = (10,5)\n",
    "plt.plot(predictions[['reel']], label='Consommation reel', color='green')\n",
    "plt.plot(predictions[['mean']], label='Consommation predict', color='red')\n",
    "\n",
    "plt.plot(predictions[['mean_ci_lower', 'mean_ci_upper']], label='Consommation conf', color='blue')\n",
    "#plt.vlines(x = 100, ymin =target.min()*1.2, ymax = 0.8*target.max(), colors = 'blue',linestyles = \"solid\",linewidth=10)\n",
    "plt.ylabel('Consommation totale (en GWh)')\n",
    "plt.xlabel('Temps')\n",
    "plt.title('Prédiction de la consommation energie au cours du temps par la méthode SARIAMX')\n",
    "plt.legend(loc='best')\n",
    "plt.xticks(rotation=90)\n",
    "# Sélectionner les index des dates à afficher tous les 4 points\n",
    "plt.xticks(ticks=predictions.index[::4], labels=predictions.index[::4], rotation=90)\n",
    "\n",
    "# Ajouter la légende\n",
    "plt.legend(loc='best')\n",
    "\n",
    "# Afficher le graphique\n",
    "plt.show()"
   ]
  },
  {
   "cell_type": "markdown",
   "id": "ddb98a85",
   "metadata": {},
   "source": [
    "## Modele en production"
   ]
  },
  {
   "cell_type": "code",
   "execution_count": 42,
   "id": "a7e5f906",
   "metadata": {
    "ExecuteTime": {
     "end_time": "2025-03-14T13:02:47.739141Z",
     "start_time": "2025-03-14T13:02:27.429207Z"
    }
   },
   "outputs": [
    {
     "name": "stdout",
     "output_type": "stream",
     "text": [
      "Training SARIMAX for Production totale...\n",
      "Training SARIMAX for Production nucléaire...\n",
      "Training SARIMAX for Production thermique totale...\n",
      "Training SARIMAX for Production thermique charbon...\n"
     ]
    },
    {
     "data": {
      "text/plain": [
       "2020-12-01    48056.947766\n",
       "2021-01-01    48108.323737\n",
       "2021-02-01    43178.362408\n",
       "2021-03-01    42112.735745\n",
       "2021-04-01    34302.510851\n",
       "2021-05-01    33960.592717\n",
       "2021-06-01    31485.583371\n",
       "2021-07-01    31942.628854\n",
       "2021-08-01    33005.764190\n",
       "2021-09-01    30488.196387\n",
       "2021-10-01    36960.152540\n",
       "2021-11-01    40138.590648\n",
       "Freq: MS, Name: predicted_mean, dtype: float64"
      ]
     },
     "execution_count": 42,
     "metadata": {},
     "output_type": "execute_result"
    }
   ],
   "source": [
    "import pandas as pd\n",
    "import numpy as np\n",
    "from statsmodels.tsa.statespace.sarimax import SARIMAX\n",
    "\n",
    "# Définition des données exogènes et de la cible\n",
    "exog = data[[\"Production totale\", \"Production nucléaire\", \"Production thermique totale\", \"Production thermique charbon\"]]\n",
    "target = data[\"Consommation totale\"]\n",
    "\n",
    "n = 12  # Nombre d'observations pour le test\n",
    "\n",
    "# Séparer les données en train et test\n",
    "train = target.head(119 - n)\n",
    "test = target.tail(n)\n",
    "\n",
    "exog_train = exog.head(119 - n)\n",
    "exog_test = exog.tail(n)\n",
    "\n",
    "# Paramètres du modèle SARIMAX\n",
    "p, d, q = 24, 0, 0  # Ordre du modèle\n",
    "P, D, Q, s = 0, 0, 0, 12  # Ordre saisonnier\n",
    "\n",
    "# Dictionnaire pour stocker les modèles et prédictions des variables exogènes\n",
    "predicted_exog = {}\n",
    "\n",
    "# Boucle pour entraîner un modèle univarié SARIMAX sur chaque variable exogène\n",
    "for var in exog.columns:\n",
    "    print(f\"Training SARIMAX for {var}...\")\n",
    "    \n",
    "    # Définir et entraîner le modèle SARIMAX sur la variable exogène\n",
    "    model_exog = SARIMAX(exog_train[var], \n",
    "                         order=(p, d, q), \n",
    "                         seasonal_order=(P, D, Q, s))\n",
    "                         #exog=None)\n",
    "    \n",
    "    results_exog = model_exog.fit()\n",
    "    \n",
    "    # Prédire la variable exogène\n",
    "    predicted_exog[var] = results_exog.forecast(steps=n)\n",
    "\n",
    "# Convertir les prédictions en DataFrame\n",
    "predicted_exog_df = pd.DataFrame(predicted_exog, index=exog_test.index)\n",
    "\n",
    "# Définition du modèle SARIMAX pour la consommation avec les prédictions des variables exogènes\n",
    "model5 = SARIMAX(train,\n",
    "                 exog=exog_train,  # Entraînement avec les données historiques\n",
    "                 order=(p, d, q),\n",
    "                 seasonal_order=(P, D, Q, s))\n",
    "\n",
    "# Entraînement du modèle\n",
    "results5 = model5.fit()\n",
    "\n",
    "# Prédiction de la consommation en utilisant les prédictions des variables exogènes\n",
    "predictions = results5.forecast(steps=n, exog=predicted_exog_df)\n",
    "\n",
    "# Affichage des résultats\n",
    "predictions\n"
   ]
  },
  {
   "cell_type": "code",
   "execution_count": 43,
   "id": "4ea7f9b3",
   "metadata": {
    "ExecuteTime": {
     "end_time": "2025-03-14T13:08:36.288461Z",
     "start_time": "2025-03-14T13:08:36.259988Z"
    }
   },
   "outputs": [
    {
     "data": {
      "text/html": [
       "<div>\n",
       "<style scoped>\n",
       "    .dataframe tbody tr th:only-of-type {\n",
       "        vertical-align: middle;\n",
       "    }\n",
       "\n",
       "    .dataframe tbody tr th {\n",
       "        vertical-align: top;\n",
       "    }\n",
       "\n",
       "    .dataframe thead th {\n",
       "        text-align: right;\n",
       "    }\n",
       "</style>\n",
       "<table border=\"1\" class=\"dataframe\">\n",
       "  <thead>\n",
       "    <tr style=\"text-align: right;\">\n",
       "      <th></th>\n",
       "      <th>reel</th>\n",
       "      <th>pred</th>\n",
       "    </tr>\n",
       "    <tr>\n",
       "      <th>Mois</th>\n",
       "      <th></th>\n",
       "      <th></th>\n",
       "    </tr>\n",
       "  </thead>\n",
       "  <tbody>\n",
       "    <tr>\n",
       "      <th>2020-12</th>\n",
       "      <td>47565</td>\n",
       "      <td>48056.947766</td>\n",
       "    </tr>\n",
       "    <tr>\n",
       "      <th>2021-01</th>\n",
       "      <td>52983</td>\n",
       "      <td>48108.323737</td>\n",
       "    </tr>\n",
       "    <tr>\n",
       "      <th>2021-02</th>\n",
       "      <td>43024</td>\n",
       "      <td>43178.362408</td>\n",
       "    </tr>\n",
       "    <tr>\n",
       "      <th>2021-03</th>\n",
       "      <td>43913</td>\n",
       "      <td>42112.735745</td>\n",
       "    </tr>\n",
       "    <tr>\n",
       "      <th>2021-04</th>\n",
       "      <td>37747</td>\n",
       "      <td>34302.510851</td>\n",
       "    </tr>\n",
       "    <tr>\n",
       "      <th>2021-05</th>\n",
       "      <td>35007</td>\n",
       "      <td>33960.592717</td>\n",
       "    </tr>\n",
       "    <tr>\n",
       "      <th>2021-06</th>\n",
       "      <td>32032</td>\n",
       "      <td>31485.583371</td>\n",
       "    </tr>\n",
       "    <tr>\n",
       "      <th>2021-07</th>\n",
       "      <td>32959</td>\n",
       "      <td>31942.628854</td>\n",
       "    </tr>\n",
       "    <tr>\n",
       "      <th>2021-08</th>\n",
       "      <td>31184</td>\n",
       "      <td>33005.764190</td>\n",
       "    </tr>\n",
       "    <tr>\n",
       "      <th>2021-09</th>\n",
       "      <td>32350</td>\n",
       "      <td>30488.196387</td>\n",
       "    </tr>\n",
       "    <tr>\n",
       "      <th>2021-10</th>\n",
       "      <td>36762</td>\n",
       "      <td>36960.152540</td>\n",
       "    </tr>\n",
       "    <tr>\n",
       "      <th>2021-11</th>\n",
       "      <td>44458</td>\n",
       "      <td>40138.590648</td>\n",
       "    </tr>\n",
       "  </tbody>\n",
       "</table>\n",
       "</div>"
      ],
      "text/plain": [
       "          reel          pred\n",
       "Mois                        \n",
       "2020-12  47565  48056.947766\n",
       "2021-01  52983  48108.323737\n",
       "2021-02  43024  43178.362408\n",
       "2021-03  43913  42112.735745\n",
       "2021-04  37747  34302.510851\n",
       "2021-05  35007  33960.592717\n",
       "2021-06  32032  31485.583371\n",
       "2021-07  32959  31942.628854\n",
       "2021-08  31184  33005.764190\n",
       "2021-09  32350  30488.196387\n",
       "2021-10  36762  36960.152540\n",
       "2021-11  44458  40138.590648"
      ]
     },
     "execution_count": 43,
     "metadata": {},
     "output_type": "execute_result"
    }
   ],
   "source": [
    "result=pd.DataFrame()\n",
    "result.index=exog_test.index\n",
    "result[\"reel\"]=test\n",
    "result[\"pred\"]=predictions\n",
    "result"
   ]
  },
  {
   "cell_type": "code",
   "execution_count": 44,
   "id": "b1dffe4e",
   "metadata": {
    "ExecuteTime": {
     "end_time": "2025-03-14T13:08:46.928328Z",
     "start_time": "2025-03-14T13:08:46.899856Z"
    }
   },
   "outputs": [
    {
     "data": {
      "text/html": [
       "<div>\n",
       "<style scoped>\n",
       "    .dataframe tbody tr th:only-of-type {\n",
       "        vertical-align: middle;\n",
       "    }\n",
       "\n",
       "    .dataframe tbody tr th {\n",
       "        vertical-align: top;\n",
       "    }\n",
       "\n",
       "    .dataframe thead th {\n",
       "        text-align: right;\n",
       "    }\n",
       "</style>\n",
       "<table border=\"1\" class=\"dataframe\">\n",
       "  <thead>\n",
       "    <tr style=\"text-align: right;\">\n",
       "      <th></th>\n",
       "      <th>reel</th>\n",
       "      <th>pred</th>\n",
       "      <th>erreur</th>\n",
       "    </tr>\n",
       "    <tr>\n",
       "      <th>Mois</th>\n",
       "      <th></th>\n",
       "      <th></th>\n",
       "      <th></th>\n",
       "    </tr>\n",
       "  </thead>\n",
       "  <tbody>\n",
       "    <tr>\n",
       "      <th>2020-12</th>\n",
       "      <td>47565</td>\n",
       "      <td>48056.947766</td>\n",
       "      <td>1.023677</td>\n",
       "    </tr>\n",
       "    <tr>\n",
       "      <th>2021-01</th>\n",
       "      <td>52983</td>\n",
       "      <td>48108.323737</td>\n",
       "      <td>-10.132709</td>\n",
       "    </tr>\n",
       "    <tr>\n",
       "      <th>2021-02</th>\n",
       "      <td>43024</td>\n",
       "      <td>43178.362408</td>\n",
       "      <td>0.357499</td>\n",
       "    </tr>\n",
       "    <tr>\n",
       "      <th>2021-03</th>\n",
       "      <td>43913</td>\n",
       "      <td>42112.735745</td>\n",
       "      <td>-4.274869</td>\n",
       "    </tr>\n",
       "    <tr>\n",
       "      <th>2021-04</th>\n",
       "      <td>37747</td>\n",
       "      <td>34302.510851</td>\n",
       "      <td>-10.041507</td>\n",
       "    </tr>\n",
       "    <tr>\n",
       "      <th>2021-05</th>\n",
       "      <td>35007</td>\n",
       "      <td>33960.592717</td>\n",
       "      <td>-3.081240</td>\n",
       "    </tr>\n",
       "    <tr>\n",
       "      <th>2021-06</th>\n",
       "      <td>32032</td>\n",
       "      <td>31485.583371</td>\n",
       "      <td>-1.735450</td>\n",
       "    </tr>\n",
       "    <tr>\n",
       "      <th>2021-07</th>\n",
       "      <td>32959</td>\n",
       "      <td>31942.628854</td>\n",
       "      <td>-3.181864</td>\n",
       "    </tr>\n",
       "    <tr>\n",
       "      <th>2021-08</th>\n",
       "      <td>31184</td>\n",
       "      <td>33005.764190</td>\n",
       "      <td>5.519533</td>\n",
       "    </tr>\n",
       "    <tr>\n",
       "      <th>2021-09</th>\n",
       "      <td>32350</td>\n",
       "      <td>30488.196387</td>\n",
       "      <td>-6.106637</td>\n",
       "    </tr>\n",
       "    <tr>\n",
       "      <th>2021-10</th>\n",
       "      <td>36762</td>\n",
       "      <td>36960.152540</td>\n",
       "      <td>0.536125</td>\n",
       "    </tr>\n",
       "    <tr>\n",
       "      <th>2021-11</th>\n",
       "      <td>44458</td>\n",
       "      <td>40138.590648</td>\n",
       "      <td>-10.761238</td>\n",
       "    </tr>\n",
       "  </tbody>\n",
       "</table>\n",
       "</div>"
      ],
      "text/plain": [
       "          reel          pred     erreur\n",
       "Mois                                   \n",
       "2020-12  47565  48056.947766   1.023677\n",
       "2021-01  52983  48108.323737 -10.132709\n",
       "2021-02  43024  43178.362408   0.357499\n",
       "2021-03  43913  42112.735745  -4.274869\n",
       "2021-04  37747  34302.510851 -10.041507\n",
       "2021-05  35007  33960.592717  -3.081240\n",
       "2021-06  32032  31485.583371  -1.735450\n",
       "2021-07  32959  31942.628854  -3.181864\n",
       "2021-08  31184  33005.764190   5.519533\n",
       "2021-09  32350  30488.196387  -6.106637\n",
       "2021-10  36762  36960.152540   0.536125\n",
       "2021-11  44458  40138.590648 -10.761238"
      ]
     },
     "execution_count": 44,
     "metadata": {},
     "output_type": "execute_result"
    }
   ],
   "source": [
    "result[\"erreur\"]=(result[\"pred\"]-result[\"reel\"])/result[\"pred\"]*100\n",
    "result"
   ]
  },
  {
   "cell_type": "code",
   "execution_count": 46,
   "id": "8ac207d1",
   "metadata": {
    "ExecuteTime": {
     "end_time": "2025-03-14T13:09:07.984981Z",
     "start_time": "2025-03-14T13:09:07.972506Z"
    }
   },
   "outputs": [
    {
     "data": {
      "text/plain": [
       "count    12.000000\n",
       "mean      4.729362\n",
       "std       3.826100\n",
       "min       0.357499\n",
       "25%       1.557507\n",
       "50%       3.728367\n",
       "75%       7.090355\n",
       "max      10.761238\n",
       "Name: erreur, dtype: float64"
      ]
     },
     "execution_count": 46,
     "metadata": {},
     "output_type": "execute_result"
    }
   ],
   "source": [
    "result.erreur.abs().describe()"
   ]
  },
  {
   "cell_type": "code",
   "execution_count": 47,
   "id": "ec4c1708",
   "metadata": {
    "ExecuteTime": {
     "end_time": "2025-03-14T13:09:09.590950Z",
     "start_time": "2025-03-14T13:09:09.273459Z"
    }
   },
   "outputs": [
    {
     "data": {
      "image/png": "[encoded data removed]",
      "text/plain": [
       "<Figure size 720x360 with 1 Axes>"
      ]
     },
     "metadata": {
      "needs_background": "light"
     },
     "output_type": "display_data"
    }
   ],
   "source": [
    "import matplotlib.pyplot as plt\n",
    "plt.rcParams[\"figure.figsize\"] = (10,5)\n",
    "plt.plot(test, label='Consommation reel', color='green')\n",
    "\n",
    "plt.plot(predictions.values, label='Consommation conf', color='blue')\n",
    "\n",
    "plt.ylabel('Consommation totale (en GWh)')\n",
    "plt.xlabel('Temps')\n",
    "plt.title('Prédiction de la consommation energie au cours du temps par la méthode SARIAMX')\n",
    "plt.legend(loc='best')\n",
    "plt.xticks(rotation=90)\n",
    "# Sélectionner les index des dates à afficher tous les 4 points\n",
    "#plt.xticks(ticks=predictions.index[::4], labels=predictions.index[::4], rotation=90)\n",
    "\n",
    "# Ajouter la légende\n",
    "plt.legend(loc='best')\n",
    "\n",
    "# Afficher le graphique\n",
    "plt.show()"
   ]
  },
  {
   "cell_type": "code",
   "execution_count": 49,
   "id": "31b75396",
   "metadata": {
    "ExecuteTime": {
     "end_time": "2025-03-14T13:10:12.348613Z",
     "start_time": "2025-03-14T13:10:12.314362Z"
    }
   },
   "outputs": [
    {
     "data": {
      "text/plain": [
       "Production totale                4.590488\n",
       "Production nucléaire             6.238557\n",
       "Production thermique totale     35.704388\n",
       "Production thermique charbon    98.505199\n",
       "dtype: float64"
      ]
     },
     "execution_count": 49,
     "metadata": {},
     "output_type": "execute_result"
    }
   ],
   "source": [
    "erreur=(predicted_exog_df-exog_test)/exog_test*100\n",
    "erreur.abs().mean()"
   ]
  },
  {
   "cell_type": "code",
   "execution_count": null,
   "id": "a8cac4b9",
   "metadata": {},
   "outputs": [],
   "source": [
    "#Les modeles avec prod thermique et charbon ne sont pas precis donc on ne va pas utiliser ces 2 variables exogenes (cours: X1 est une bonne variable explicative si:\n",
    "                               # elle cause Y, elle datadrifte pas, elle est previsible)"
   ]
  },
  {
   "cell_type": "markdown",
   "id": "e2460d1f",
   "metadata": {},
   "source": [
    "### prediction pour d autres dates"
   ]
  },
  {
   "cell_type": "code",
   "execution_count": null,
   "id": "fcb2c4a6",
   "metadata": {},
   "outputs": [],
   "source": []
  },
  {
   "cell_type": "code",
   "execution_count": 52,
   "id": "797abcd3",
   "metadata": {
    "ExecuteTime": {
     "end_time": "2025-03-14T13:22:32.792568Z",
     "start_time": "2025-03-14T13:22:19.028090Z"
    }
   },
   "outputs": [
    {
     "name": "stdout",
     "output_type": "stream",
     "text": [
      "Training SARIMAX for Production totale...\n",
      "Training SARIMAX for Production nucléaire...\n"
     ]
    },
    {
     "data": {
      "text/plain": [
       "2020-12-01    48472.281963\n",
       "2021-01-01    48096.633049\n",
       "2021-02-01    43977.058629\n",
       "2021-03-01    41642.860456\n",
       "2021-04-01    33178.133382\n",
       "2021-05-01    34935.903053\n",
       "2021-06-01    33301.830496\n",
       "2021-07-01    31723.914156\n",
       "2021-08-01    34332.746283\n",
       "2021-09-01    31875.567571\n",
       "2021-10-01    38795.786520\n",
       "2021-11-01    40622.565942\n",
       "2021-12-01    48487.198696\n",
       "2022-01-01    47855.626228\n",
       "2022-02-01    43544.031727\n",
       "2022-03-01    40701.777501\n",
       "2022-04-01    33916.742744\n",
       "2022-05-01    34773.616943\n",
       "2022-06-01    32769.003652\n",
       "2022-07-01    31281.968952\n",
       "2022-08-01    33967.171274\n",
       "2022-09-01    30863.321935\n",
       "2022-10-01    38728.883615\n",
       "2022-11-01    39960.712323\n",
       "2022-12-01    47465.750265\n",
       "2023-01-01    48436.973212\n",
       "2023-02-01    44042.292354\n",
       "2023-03-01    41916.035785\n",
       "2023-04-01    34677.694822\n",
       "2023-05-01    34776.077786\n",
       "2023-06-01    34580.443373\n",
       "2023-07-01    32509.944854\n",
       "2023-08-01    34655.493397\n",
       "2023-09-01    31263.310085\n",
       "2023-10-01    38896.235309\n",
       "2023-11-01    40535.286123\n",
       "Freq: MS, Name: predicted_mean, dtype: float64"
      ]
     },
     "execution_count": 52,
     "metadata": {},
     "output_type": "execute_result"
    }
   ],
   "source": [
    "import pandas as pd\n",
    "import numpy as np\n",
    "from statsmodels.tsa.statespace.sarimax import SARIMAX\n",
    "\n",
    "# Définition des données exogènes et de la cible\n",
    "exog = data[[\"Production totale\", \"Production nucléaire\"]]\n",
    "target = data[\"Consommation totale\"]\n",
    "\n",
    "n = 12  # Nombre d'observations pour le test\n",
    "\n",
    "# Séparer les données en train et test\n",
    "train = target.head(119 - n)\n",
    "test = target.tail(n)\n",
    "\n",
    "exog_train = exog.head(119 - n)\n",
    "exog_test = exog.tail(n)\n",
    "\n",
    "# Paramètres du modèle SARIMAX\n",
    "p, d, q = 24, 0, 0  # Ordre du modèle\n",
    "P, D, Q, s = 0, 0, 0, 12  # Ordre saisonnier\n",
    "NBMOIS=24 # pour faire des predictions sur les 24 prochains MOIS\n",
    "# Dictionnaire pour stocker les modèles et prédictions des variables exogènes\n",
    "predicted_exog = {}\n",
    "\n",
    "# Boucle pour entraîner un modèle univarié SARIMAX sur chaque variable exogène\n",
    "for var in exog.columns:\n",
    "    print(f\"Training SARIMAX for {var}...\")\n",
    "    \n",
    "    # Définir et entraîner le modèle SARIMAX sur la variable exogène\n",
    "    model_exog = SARIMAX(exog_train[var], \n",
    "                         order=(p, d, q), \n",
    "                         seasonal_order=(P, D, Q, s))\n",
    "                         #exog=None)\n",
    "    \n",
    "    results_exog = model_exog.fit()\n",
    "    \n",
    "    # Prédire la variable exogène\n",
    "    predicted_exog[var] = results_exog.forecast(steps=n+NBMOIS)  #APPLIVCATION\n",
    "\n",
    "# Convertir les prédictions en DataFrame\n",
    "predicted_exog_df = pd.DataFrame(predicted_exog)\n",
    "\n",
    "# Définition du modèle SARIMAX pour la consommation avec les prédictions des variables exogènes\n",
    "model5 = SARIMAX(train,\n",
    "                 exog=exog_train,  # Entraînement avec les données historiques\n",
    "                 order=(p, d, q),\n",
    "                 seasonal_order=(P, D, Q, s))\n",
    "\n",
    "# Entraînement du modèle\n",
    "results5 = model5.fit()\n",
    "\n",
    "# Prédiction de la consommation en utilisant les prédictions des variables exogènes\n",
    "predictions = results5.forecast(steps=n+NBMOIS, exog=predicted_exog_df)\n",
    "\n",
    "# Affichage des résultats\n",
    "predictions\n"
   ]
  },
  {
   "cell_type": "code",
   "execution_count": 53,
   "id": "f687b843",
   "metadata": {
    "ExecuteTime": {
     "end_time": "2025-03-14T13:22:39.522673Z",
     "start_time": "2025-03-14T13:22:39.172459Z"
    }
   },
   "outputs": [
    {
     "data": {
      "image/png": "[encoded data removed]",
      "text/plain": [
       "<Figure size 720x360 with 1 Axes>"
      ]
     },
     "metadata": {
      "needs_background": "light"
     },
     "output_type": "display_data"
    }
   ],
   "source": [
    "import matplotlib.pyplot as plt\n",
    "import pandas as pd\n",
    "\n",
    "plt.rcParams[\"figure.figsize\"] = (10,5)\n",
    "\n",
    "# Vérifier si l'index des prédictions est de type datetime, sinon le convertir\n",
    "if not isinstance(predictions.index, pd.DatetimeIndex):\n",
    "    predictions.index = pd.to_datetime(predictions.index)\n",
    "\n",
    "# Vérifier également pour test (éviter d'éventuels conflits)\n",
    "if not isinstance(test.index, pd.DatetimeIndex):\n",
    "    test.index = pd.to_datetime(test.index)\n",
    "\n",
    "# Tracer les séries temporelles\n",
    "plt.plot(test.index, test.values, label='Consommation réelle', color='green')\n",
    "plt.plot(predictions.index, predictions.values, label='Consommation conf', color='blue')\n",
    "\n",
    "# Ajouter des titres et légendes\n",
    "plt.ylabel('Consommation totale (en GWh)')\n",
    "plt.xlabel('Temps')\n",
    "plt.title('Prédiction de la consommation d\\'énergie au cours du temps par la méthode SARIAMX')\n",
    "plt.legend(loc='best')\n",
    "\n",
    "# Mettre les dates des prédictions sur l'axe X en s'assurant qu'elles sont sous un format valide\n",
    "plt.xticks(ticks=predictions.index[::2], labels=predictions.index[::2].strftime('%Y-%m-%d'), rotation=90)\n",
    "\n",
    "# Afficher le graphique\n",
    "plt.show()\n"
   ]
  },
  {
   "cell_type": "code",
   "execution_count": 54,
   "id": "3e56dbd4",
   "metadata": {
    "ExecuteTime": {
     "end_time": "2025-03-14T13:23:48.802498Z",
     "start_time": "2025-03-14T13:23:48.780792Z"
    }
   },
   "outputs": [
    {
     "data": {
      "text/plain": [
       "2020-12-01    48472.281963\n",
       "2021-01-01    48096.633049\n",
       "2021-02-01    43977.058629\n",
       "2021-03-01    41642.860456\n",
       "2021-04-01    33178.133382\n",
       "2021-05-01    34935.903053\n",
       "2021-06-01    33301.830496\n",
       "2021-07-01    31723.914156\n",
       "2021-08-01    34332.746283\n",
       "2021-09-01    31875.567571\n",
       "2021-10-01    38795.786520\n",
       "2021-11-01    40622.565942\n",
       "2021-12-01    48487.198696\n",
       "2022-01-01    47855.626228\n",
       "2022-02-01    43544.031727\n",
       "2022-03-01    40701.777501\n",
       "2022-04-01    33916.742744\n",
       "2022-05-01    34773.616943\n",
       "2022-06-01    32769.003652\n",
       "2022-07-01    31281.968952\n",
       "2022-08-01    33967.171274\n",
       "2022-09-01    30863.321935\n",
       "2022-10-01    38728.883615\n",
       "2022-11-01    39960.712323\n",
       "2022-12-01    47465.750265\n",
       "2023-01-01    48436.973212\n",
       "2023-02-01    44042.292354\n",
       "2023-03-01    41916.035785\n",
       "2023-04-01    34677.694822\n",
       "2023-05-01    34776.077786\n",
       "2023-06-01    34580.443373\n",
       "2023-07-01    32509.944854\n",
       "2023-08-01    34655.493397\n",
       "2023-09-01    31263.310085\n",
       "2023-10-01    38896.235309\n",
       "2023-11-01    40535.286123\n",
       "Freq: MS, Name: predicted_mean, dtype: float64"
      ]
     },
     "execution_count": 54,
     "metadata": {},
     "output_type": "execute_result"
    }
   ],
   "source": [
    "predictions"
   ]
  },
  {
   "cell_type": "code",
   "execution_count": 58,
   "id": "102b9ff4",
   "metadata": {
    "ExecuteTime": {
     "end_time": "2025-03-14T13:27:02.622492Z",
     "start_time": "2025-03-14T13:27:02.576299Z"
    }
   },
   "outputs": [
    {
     "data": {
      "text/html": [
       "<div>\n",
       "<style scoped>\n",
       "    .dataframe tbody tr th:only-of-type {\n",
       "        vertical-align: middle;\n",
       "    }\n",
       "\n",
       "    .dataframe tbody tr th {\n",
       "        vertical-align: top;\n",
       "    }\n",
       "\n",
       "    .dataframe thead th {\n",
       "        text-align: right;\n",
       "    }\n",
       "</style>\n",
       "<table border=\"1\" class=\"dataframe\">\n",
       "  <thead>\n",
       "    <tr style=\"text-align: right;\">\n",
       "      <th></th>\n",
       "      <th>Mois</th>\n",
       "      <th>Qualité</th>\n",
       "      <th>Territoire</th>\n",
       "      <th>Production totale</th>\n",
       "      <th>Production nucléaire</th>\n",
       "      <th>Production thermique totale</th>\n",
       "      <th>Production thermique charbon</th>\n",
       "      <th>Production thermique fioul</th>\n",
       "      <th>Production thermique gaz</th>\n",
       "      <th>Production hydraulique</th>\n",
       "      <th>...</th>\n",
       "      <th>Consommation totale</th>\n",
       "      <th>Solde exportateur</th>\n",
       "      <th>Echanges export</th>\n",
       "      <th>Echanges import</th>\n",
       "      <th>Echanges avec le Royaume-Uni</th>\n",
       "      <th>Echanges avec l'Espagne</th>\n",
       "      <th>Echanges avec l'Italie</th>\n",
       "      <th>Echanges avec la Suisse</th>\n",
       "      <th>Echanges avec l'Allemagne et la Belgique</th>\n",
       "      <th>annee</th>\n",
       "    </tr>\n",
       "    <tr>\n",
       "      <th>Mois</th>\n",
       "      <th></th>\n",
       "      <th></th>\n",
       "      <th></th>\n",
       "      <th></th>\n",
       "      <th></th>\n",
       "      <th></th>\n",
       "      <th></th>\n",
       "      <th></th>\n",
       "      <th></th>\n",
       "      <th></th>\n",
       "      <th></th>\n",
       "      <th></th>\n",
       "      <th></th>\n",
       "      <th></th>\n",
       "      <th></th>\n",
       "      <th></th>\n",
       "      <th></th>\n",
       "      <th></th>\n",
       "      <th></th>\n",
       "      <th></th>\n",
       "      <th></th>\n",
       "    </tr>\n",
       "  </thead>\n",
       "  <tbody>\n",
       "    <tr>\n",
       "      <th>2012-01</th>\n",
       "      <td>2012-01</td>\n",
       "      <td>Données définitives</td>\n",
       "      <td>France</td>\n",
       "      <td>57177</td>\n",
       "      <td>42811.0</td>\n",
       "      <td>5399</td>\n",
       "      <td>741.0</td>\n",
       "      <td>691</td>\n",
       "      <td>3967</td>\n",
       "      <td>6741</td>\n",
       "      <td>...</td>\n",
       "      <td>51086</td>\n",
       "      <td>5371.0</td>\n",
       "      <td>7043.0</td>\n",
       "      <td>1672.0</td>\n",
       "      <td>929.0</td>\n",
       "      <td>724.0</td>\n",
       "      <td>1581.0</td>\n",
       "      <td>2195.0</td>\n",
       "      <td>-59.0</td>\n",
       "      <td>2012</td>\n",
       "    </tr>\n",
       "    <tr>\n",
       "      <th>2012-02</th>\n",
       "      <td>2012-02</td>\n",
       "      <td>Données définitives</td>\n",
       "      <td>France</td>\n",
       "      <td>54419</td>\n",
       "      <td>38661.0</td>\n",
       "      <td>8721</td>\n",
       "      <td>2511.0</td>\n",
       "      <td>1309</td>\n",
       "      <td>4901</td>\n",
       "      <td>5244</td>\n",
       "      <td>...</td>\n",
       "      <td>54476</td>\n",
       "      <td>-715.0</td>\n",
       "      <td>4504.0</td>\n",
       "      <td>5220.0</td>\n",
       "      <td>-798.0</td>\n",
       "      <td>-309.0</td>\n",
       "      <td>1244.0</td>\n",
       "      <td>1579.0</td>\n",
       "      <td>-2430.0</td>\n",
       "      <td>2012</td>\n",
       "    </tr>\n",
       "    <tr>\n",
       "      <th>2012-03</th>\n",
       "      <td>2012-03</td>\n",
       "      <td>Données définitives</td>\n",
       "      <td>France</td>\n",
       "      <td>48583</td>\n",
       "      <td>37549.0</td>\n",
       "      <td>5276</td>\n",
       "      <td>1435.0</td>\n",
       "      <td>666</td>\n",
       "      <td>3175</td>\n",
       "      <td>3894</td>\n",
       "      <td>...</td>\n",
       "      <td>43156</td>\n",
       "      <td>4888.0</td>\n",
       "      <td>7042.0</td>\n",
       "      <td>2153.0</td>\n",
       "      <td>583.0</td>\n",
       "      <td>330.0</td>\n",
       "      <td>1742.0</td>\n",
       "      <td>2235.0</td>\n",
       "      <td>-1.0</td>\n",
       "      <td>2012</td>\n",
       "    </tr>\n",
       "    <tr>\n",
       "      <th>2012-04</th>\n",
       "      <td>2012-04</td>\n",
       "      <td>Données définitives</td>\n",
       "      <td>France</td>\n",
       "      <td>44192</td>\n",
       "      <td>33100.0</td>\n",
       "      <td>3484</td>\n",
       "      <td>1655.0</td>\n",
       "      <td>486</td>\n",
       "      <td>1343</td>\n",
       "      <td>5302</td>\n",
       "      <td>...</td>\n",
       "      <td>40176</td>\n",
       "      <td>3447.0</td>\n",
       "      <td>5762.0</td>\n",
       "      <td>2314.0</td>\n",
       "      <td>547.0</td>\n",
       "      <td>-9.0</td>\n",
       "      <td>1271.0</td>\n",
       "      <td>1670.0</td>\n",
       "      <td>-31.0</td>\n",
       "      <td>2012</td>\n",
       "    </tr>\n",
       "    <tr>\n",
       "      <th>2012-05</th>\n",
       "      <td>2012-05</td>\n",
       "      <td>Données définitives</td>\n",
       "      <td>France</td>\n",
       "      <td>40433</td>\n",
       "      <td>29058.0</td>\n",
       "      <td>1772</td>\n",
       "      <td>854.0</td>\n",
       "      <td>368</td>\n",
       "      <td>549</td>\n",
       "      <td>7706</td>\n",
       "      <td>...</td>\n",
       "      <td>35257</td>\n",
       "      <td>4425.0</td>\n",
       "      <td>6391.0</td>\n",
       "      <td>1965.0</td>\n",
       "      <td>693.0</td>\n",
       "      <td>251.0</td>\n",
       "      <td>1341.0</td>\n",
       "      <td>1060.0</td>\n",
       "      <td>1079.0</td>\n",
       "      <td>2012</td>\n",
       "    </tr>\n",
       "    <tr>\n",
       "      <th>...</th>\n",
       "      <td>...</td>\n",
       "      <td>...</td>\n",
       "      <td>...</td>\n",
       "      <td>...</td>\n",
       "      <td>...</td>\n",
       "      <td>...</td>\n",
       "      <td>...</td>\n",
       "      <td>...</td>\n",
       "      <td>...</td>\n",
       "      <td>...</td>\n",
       "      <td>...</td>\n",
       "      <td>...</td>\n",
       "      <td>...</td>\n",
       "      <td>...</td>\n",
       "      <td>...</td>\n",
       "      <td>...</td>\n",
       "      <td>...</td>\n",
       "      <td>...</td>\n",
       "      <td>...</td>\n",
       "      <td>...</td>\n",
       "      <td>...</td>\n",
       "    </tr>\n",
       "    <tr>\n",
       "      <th>2021-07</th>\n",
       "      <td>2021-07</td>\n",
       "      <td>Données consolidées</td>\n",
       "      <td>France</td>\n",
       "      <td>40555</td>\n",
       "      <td>28449.0</td>\n",
       "      <td>1605</td>\n",
       "      <td>54.0</td>\n",
       "      <td>159</td>\n",
       "      <td>1392</td>\n",
       "      <td>5626</td>\n",
       "      <td>...</td>\n",
       "      <td>32959</td>\n",
       "      <td>7268.0</td>\n",
       "      <td>9252.0</td>\n",
       "      <td>2080.0</td>\n",
       "      <td>1907.0</td>\n",
       "      <td>1316.0</td>\n",
       "      <td>2090.0</td>\n",
       "      <td>1353.0</td>\n",
       "      <td>NaN</td>\n",
       "      <td>2021</td>\n",
       "    </tr>\n",
       "    <tr>\n",
       "      <th>2021-08</th>\n",
       "      <td>2021-08</td>\n",
       "      <td>Données consolidées</td>\n",
       "      <td>France</td>\n",
       "      <td>39162</td>\n",
       "      <td>29010.0</td>\n",
       "      <td>957</td>\n",
       "      <td>70.0</td>\n",
       "      <td>166</td>\n",
       "      <td>720</td>\n",
       "      <td>4408</td>\n",
       "      <td>...</td>\n",
       "      <td>31184</td>\n",
       "      <td>7600.0</td>\n",
       "      <td>9266.0</td>\n",
       "      <td>1698.0</td>\n",
       "      <td>1878.0</td>\n",
       "      <td>1837.0</td>\n",
       "      <td>2090.0</td>\n",
       "      <td>1393.0</td>\n",
       "      <td>NaN</td>\n",
       "      <td>2021</td>\n",
       "    </tr>\n",
       "    <tr>\n",
       "      <th>2021-09</th>\n",
       "      <td>2021-09</td>\n",
       "      <td>Données consolidées</td>\n",
       "      <td>France</td>\n",
       "      <td>38505</td>\n",
       "      <td>29001.0</td>\n",
       "      <td>2197</td>\n",
       "      <td>498.0</td>\n",
       "      <td>146</td>\n",
       "      <td>1552</td>\n",
       "      <td>3417</td>\n",
       "      <td>...</td>\n",
       "      <td>32350</td>\n",
       "      <td>5764.0</td>\n",
       "      <td>2118.0</td>\n",
       "      <td>6126.0</td>\n",
       "      <td>1114.0</td>\n",
       "      <td>1433.0</td>\n",
       "      <td>2126.0</td>\n",
       "      <td>1468.0</td>\n",
       "      <td>NaN</td>\n",
       "      <td>2021</td>\n",
       "    </tr>\n",
       "    <tr>\n",
       "      <th>2021-10</th>\n",
       "      <td>2021-10</td>\n",
       "      <td>Données consolidées</td>\n",
       "      <td>France</td>\n",
       "      <td>41695</td>\n",
       "      <td>30658.0</td>\n",
       "      <td>3621</td>\n",
       "      <td>600.0</td>\n",
       "      <td>180</td>\n",
       "      <td>2840</td>\n",
       "      <td>3092</td>\n",
       "      <td>...</td>\n",
       "      <td>36762</td>\n",
       "      <td>4291.0</td>\n",
       "      <td>2745.0</td>\n",
       "      <td>4155.0</td>\n",
       "      <td>464.0</td>\n",
       "      <td>861.0</td>\n",
       "      <td>2141.0</td>\n",
       "      <td>1873.0</td>\n",
       "      <td>NaN</td>\n",
       "      <td>2021</td>\n",
       "    </tr>\n",
       "    <tr>\n",
       "      <th>2021-11</th>\n",
       "      <td>2021-11</td>\n",
       "      <td>Données consolidées</td>\n",
       "      <td>France</td>\n",
       "      <td>44284</td>\n",
       "      <td>30370.0</td>\n",
       "      <td>5726</td>\n",
       "      <td>566.0</td>\n",
       "      <td>192</td>\n",
       "      <td>4966</td>\n",
       "      <td>4026</td>\n",
       "      <td>...</td>\n",
       "      <td>44458</td>\n",
       "      <td>-812.0</td>\n",
       "      <td>6062.0</td>\n",
       "      <td>-1111.0</td>\n",
       "      <td>-160.0</td>\n",
       "      <td>-841.0</td>\n",
       "      <td>1045.0</td>\n",
       "      <td>1513.0</td>\n",
       "      <td>NaN</td>\n",
       "      <td>2021</td>\n",
       "    </tr>\n",
       "  </tbody>\n",
       "</table>\n",
       "<p>119 rows × 23 columns</p>\n",
       "</div>"
      ],
      "text/plain": [
       "            Mois              Qualité Territoire  Production totale  \\\n",
       "Mois                                                                  \n",
       "2012-01  2012-01  Données définitives     France              57177   \n",
       "2012-02  2012-02  Données définitives     France              54419   \n",
       "2012-03  2012-03  Données définitives     France              48583   \n",
       "2012-04  2012-04  Données définitives     France              44192   \n",
       "2012-05  2012-05  Données définitives     France              40433   \n",
       "...          ...                  ...        ...                ...   \n",
       "2021-07  2021-07  Données consolidées     France              40555   \n",
       "2021-08  2021-08  Données consolidées     France              39162   \n",
       "2021-09  2021-09  Données consolidées     France              38505   \n",
       "2021-10  2021-10  Données consolidées     France              41695   \n",
       "2021-11  2021-11  Données consolidées     France              44284   \n",
       "\n",
       "         Production nucléaire  Production thermique totale  \\\n",
       "Mois                                                         \n",
       "2012-01               42811.0                         5399   \n",
       "2012-02               38661.0                         8721   \n",
       "2012-03               37549.0                         5276   \n",
       "2012-04               33100.0                         3484   \n",
       "2012-05               29058.0                         1772   \n",
       "...                       ...                          ...   \n",
       "2021-07               28449.0                         1605   \n",
       "2021-08               29010.0                          957   \n",
       "2021-09               29001.0                         2197   \n",
       "2021-10               30658.0                         3621   \n",
       "2021-11               30370.0                         5726   \n",
       "\n",
       "         Production thermique charbon  Production thermique fioul  \\\n",
       "Mois                                                                \n",
       "2012-01                         741.0                         691   \n",
       "2012-02                        2511.0                        1309   \n",
       "2012-03                        1435.0                         666   \n",
       "2012-04                        1655.0                         486   \n",
       "2012-05                         854.0                         368   \n",
       "...                               ...                         ...   \n",
       "2021-07                          54.0                         159   \n",
       "2021-08                          70.0                         166   \n",
       "2021-09                         498.0                         146   \n",
       "2021-10                         600.0                         180   \n",
       "2021-11                         566.0                         192   \n",
       "\n",
       "         Production thermique gaz  Production hydraulique  ...  \\\n",
       "Mois                                                       ...   \n",
       "2012-01                      3967                    6741  ...   \n",
       "2012-02                      4901                    5244  ...   \n",
       "2012-03                      3175                    3894  ...   \n",
       "2012-04                      1343                    5302  ...   \n",
       "2012-05                       549                    7706  ...   \n",
       "...                           ...                     ...  ...   \n",
       "2021-07                      1392                    5626  ...   \n",
       "2021-08                       720                    4408  ...   \n",
       "2021-09                      1552                    3417  ...   \n",
       "2021-10                      2840                    3092  ...   \n",
       "2021-11                      4966                    4026  ...   \n",
       "\n",
       "         Consommation totale  Solde exportateur  Echanges export  \\\n",
       "Mois                                                               \n",
       "2012-01                51086             5371.0           7043.0   \n",
       "2012-02                54476             -715.0           4504.0   \n",
       "2012-03                43156             4888.0           7042.0   \n",
       "2012-04                40176             3447.0           5762.0   \n",
       "2012-05                35257             4425.0           6391.0   \n",
       "...                      ...                ...              ...   \n",
       "2021-07                32959             7268.0           9252.0   \n",
       "2021-08                31184             7600.0           9266.0   \n",
       "2021-09                32350             5764.0           2118.0   \n",
       "2021-10                36762             4291.0           2745.0   \n",
       "2021-11                44458             -812.0           6062.0   \n",
       "\n",
       "         Echanges import  Echanges avec le Royaume-Uni  \\\n",
       "Mois                                                     \n",
       "2012-01           1672.0                         929.0   \n",
       "2012-02           5220.0                        -798.0   \n",
       "2012-03           2153.0                         583.0   \n",
       "2012-04           2314.0                         547.0   \n",
       "2012-05           1965.0                         693.0   \n",
       "...                  ...                           ...   \n",
       "2021-07           2080.0                        1907.0   \n",
       "2021-08           1698.0                        1878.0   \n",
       "2021-09           6126.0                        1114.0   \n",
       "2021-10           4155.0                         464.0   \n",
       "2021-11          -1111.0                        -160.0   \n",
       "\n",
       "         Echanges avec l'Espagne  Echanges avec l'Italie  \\\n",
       "Mois                                                       \n",
       "2012-01                    724.0                  1581.0   \n",
       "2012-02                   -309.0                  1244.0   \n",
       "2012-03                    330.0                  1742.0   \n",
       "2012-04                     -9.0                  1271.0   \n",
       "2012-05                    251.0                  1341.0   \n",
       "...                          ...                     ...   \n",
       "2021-07                   1316.0                  2090.0   \n",
       "2021-08                   1837.0                  2090.0   \n",
       "2021-09                   1433.0                  2126.0   \n",
       "2021-10                    861.0                  2141.0   \n",
       "2021-11                   -841.0                  1045.0   \n",
       "\n",
       "         Echanges avec la Suisse  Echanges avec l'Allemagne et la Belgique  \\\n",
       "Mois                                                                         \n",
       "2012-01                   2195.0                                     -59.0   \n",
       "2012-02                   1579.0                                   -2430.0   \n",
       "2012-03                   2235.0                                      -1.0   \n",
       "2012-04                   1670.0                                     -31.0   \n",
       "2012-05                   1060.0                                    1079.0   \n",
       "...                          ...                                       ...   \n",
       "2021-07                   1353.0                                       NaN   \n",
       "2021-08                   1393.0                                       NaN   \n",
       "2021-09                   1468.0                                       NaN   \n",
       "2021-10                   1873.0                                       NaN   \n",
       "2021-11                   1513.0                                       NaN   \n",
       "\n",
       "         annee  \n",
       "Mois            \n",
       "2012-01   2012  \n",
       "2012-02   2012  \n",
       "2012-03   2012  \n",
       "2012-04   2012  \n",
       "2012-05   2012  \n",
       "...        ...  \n",
       "2021-07   2021  \n",
       "2021-08   2021  \n",
       "2021-09   2021  \n",
       "2021-10   2021  \n",
       "2021-11   2021  \n",
       "\n",
       "[119 rows x 23 columns]"
      ]
     },
     "execution_count": 58,
     "metadata": {},
     "output_type": "execute_result"
    }
   ],
   "source": [
    "data[\"annee\"]=data[\"Mois\"].str[0:4]\n",
    "data"
   ]
  },
  {
   "cell_type": "code",
   "execution_count": 62,
   "id": "10f41bea",
   "metadata": {
    "ExecuteTime": {
     "end_time": "2025-03-14T13:28:09.576200Z",
     "start_time": "2025-03-14T13:28:09.251165Z"
    }
   },
   "outputs": [
    {
     "data": {
      "text/plain": [
       "<Axes: xlabel='annee'>"
      ]
     },
     "execution_count": 62,
     "metadata": {},
     "output_type": "execute_result"
    },
    {
     "data": {
      "image/png": "[encoded data removed]",
      "text/plain": [
       "<Figure size 720x360 with 1 Axes>"
      ]
     },
     "metadata": {
      "needs_background": "light"
     },
     "output_type": "display_data"
    }
   ],
   "source": [
    "data.groupby(\"annee\").sum()[\"Consommation totale\"].plot(kind=\"bar\")"
   ]
  },
  {
   "cell_type": "code",
   "execution_count": null,
   "id": "81f1f552",
   "metadata": {},
   "outputs": [],
   "source": []
  }
 ],
 "metadata": {
  "kernelspec": {
   "display_name": "Python 3 (ipykernel)",
   "language": "python",
   "name": "python3"
  },
  "language_info": {
   "codemirror_mode": {
    "name": "ipython",
    "version": 3
   },
   "file_extension": ".py",
   "mimetype": "text/x-python",
   "name": "python",
   "nbconvert_exporter": "python",
   "pygments_lexer": "ipython3",
   "version": "3.12.4"
  },
  "toc": {
   "base_numbering": 1,
   "nav_menu": {},
   "number_sections": true,
   "sideBar": true,
   "skip_h1_title": true,
   "title_cell": "Table of Contents",
   "title_sidebar": "Contents",
   "toc_cell": false,
   "toc_position": {
    "height": "432.4px",
    "left": "128px",
    "top": "221.21px",
    "width": "245.75px"
   },
   "toc_section_display": true,
   "toc_window_display": true
  }
 },
 "nbformat": 4,
 "nbformat_minor": 5
}
