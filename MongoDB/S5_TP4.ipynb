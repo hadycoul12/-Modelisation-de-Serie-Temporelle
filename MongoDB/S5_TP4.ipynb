{
 "cells": [
  {
   "cell_type": "code",
   "execution_count": 9,
   "id": "15ecafe3",
   "metadata": {},
   "outputs": [],
   "source": [
    "# Importer les dépendances\n",
    "from fastapi import FastAPI, Depends, HTTPException\n",
    "from fastapi.responses import JSONResponse\n",
    "import nest_asyncio\n",
    "import uvicorn\n",
    "import spacy\n",
    "import pandas as pd\n",
    "from pymongo import MongoClient\n",
    "from pprint import pprint\n",
    "import fr_core_news_md\n",
    "from collections import defaultdict, Counter\n",
    "import matplotlib.pyplot as plt\n"
   ]
  },
  {
   "cell_type": "code",
   "execution_count": null,
   "metadata": {},
   "outputs": [],
   "source": []
  },
  {
   "cell_type": "markdown",
   "metadata": {
    "id": "a7uY4mEI_Jqa"
   },
   "source": [
    "## TP4\n",
    "\n",
    "### Partie 1 : Création de requêtes dans MongoDb\n",
    "\n",
    "**Remarque importante :** Cette étape est nécessaire, avant la création d'une api qui questionne une base de données, toujours commencer par créer les requêtes vers la base de données en dehors de l'api pour comprendre la structure et vérifier les données, ensuite passer au script api.\n",
    "* Pour cette partie :       \n",
    "  * Créer les connexions vers MongoDb avec pymongo\n",
    "  * Utiliser la collection mflix et le document movies pour la suite des requêtes :\n",
    "    * Récupérer les 10 premiers films\n",
    "    * Compter le nombre de films existants dans la base de données\n",
    "    * Filtrer sur les filmes avec genres = \"Western\" (Un film peut avoir plusieurs genres, nous récupérons donc tous les films ou le tag \"Western\" apparait)\n",
    "    * Filtrer sur les films donc l'année, year = \"2000\"\n",
    "    * Trier sur les films dont genres = \"Comedy\" et year = \"2000\"\n",
    "    * Lister les directeurs uniques dans moovies (directors)\n",
    "    * Récupérer les informations du film \"A Corner in Wheat\"\n",
    "\n"
   ]
  },
  {
   "cell_type": "markdown",
   "metadata": {
    "id": "UHtMhEeL_XRR"
   },
   "source": [
    "### Partie 2 : :Création de l'api et des points de terminaison :\n",
    "\n",
    "**Remarque importante** requêtes précédentes vont vous aider à construire l'api, mais attention parfois le code doit être modifié/adapté/ajusté pour être utilisé avec FastAPI\n"
   ]
  },
  {
   "cell_type": "markdown",
   "metadata": {
    "id": "fe2t0hlr_EVS"
   },
   "source": [
    "0. Commencez toujours par un point de terminaison pour dire \"Hello\" !\n",
    "\n",
    "1. Concevez un point de terminaison `/movies/` qui récupère les 10 premiers films.`\n",
    "\n",
    "2. Créez un point de terminaison `/movies/count/` pour compter le nombre total de films disponibles dans la base de données.\n",
    "\n",
    "3. Implémentez un endpoint pour trier par genre ?\n",
    "\n",
    "4. Implémentez un endpoint pour trier par année ?\n",
    "\n",
    "5. Implémentez un endpoint pour trier par genre et année en même temps ?\n",
    "\n",
    "6. Implémentez un point de terminaison `/movies/directors/` pour obtenir une liste de réalisateurs uniques présents dans la collection de films.\n",
    "\n",
    "7. Développez un point de terminaison `/movies/{movie_title}` pour récupérer des informations détaillées sur un film spécifique.\n",
    "- Comment gérerez-vous les cas où le titre du film fourni dans l URL ne correspond à aucun film dans la collection ? Suggestion : ajouter une condition pour gérer ce cas particulier.\n",
    "\n",
    "8. Créer une documentation avec une description et documentation des endpoints.\n",
    "\n",
    "9. Concevez un point de terminaison `/info` pour fournir des informations générales sur l API.\n",
    "- Quel type d informations serait utile à inclure dans cette réponse pour aider les utilisateurs ?\n",
    "\n",
    "10. Créez un point de terminaison `/statistics` pour présenter des informations statistiques sur les données des films. Suggestion : Calculer la durée moyenne de tous les films avec la variable runtime.\n",
    "\n"
   ]
  },
  {
   "cell_type": "markdown",
   "metadata": {
    "id": "_zJOuXsUKzTy"
   },
   "source": [
    "**URL's pour tester** Ces urls sont une aide et mises à disposition pour vérifier vos endpoints avant de passer à la partie 3 !\n",
    "\n",
    "  * http://localhost:4000/\n",
    "  * http://localhost:4000/movies/\n",
    "  * http://localhost:4000/movies/count/\n",
    "  * http://localhost:4000/movies/sort_by_genre/?genres_to_search=Western\n",
    "  * http://localhost:4000/movies/sort_by_year/?year=2000\n",
    "  * http://localhost:4000/movies/sort_by_genre_and_year/?genres_to_search=Western&year=1903\n",
    "  * http://localhost:4000/A Corner in Wheat\n",
    "  * http://localhost:4000/info\n",
    "  * http://localhost:4000/statistics"
   ]
  },
  {
   "cell_type": "markdown",
   "metadata": {
    "id": "kGyu4-ZiJnkE"
   },
   "source": [
    "### Partie 3 :"
   ]
  },
  {
   "cell_type": "markdown",
   "metadata": {
    "id": "taH61VgfLOlZ"
   },
   "source": [
    "Après avoir tester les url's et vérfier que tous les endpoints fonctionnent, créer un script python , un chatbot pour requêter les différents endpoints et intéragir avec votre utilisateur!\n"
   ]
  },
  {
   "cell_type": "code",
   "execution_count": null,
   "metadata": {
    "colab": {
     "base_uri": "https://localhost:8080/",
     "height": 53
    },
    "executionInfo": {
     "elapsed": 306,
     "status": "ok",
     "timestamp": 1705256418870,
     "user": {
      "displayName": "Sabrine Bendimerad",
      "userId": "07144662482362552682"
     },
     "user_tz": -60
    },
    "id": "_9FigUL4Jmxm",
    "outputId": "09c10528-d567-4418-b818-da8ff3a0d9bf"
   },
   "outputs": [
    {
     "data": {
      "application/vnd.google.colaboratory.intrinsic+json": {
       "type": "string"
      },
      "text/plain": [
       "'\\nimport requests\\n#Exemple pour le endpoint 0 \\nbase_url = \"http://localhost:4000\"\\nendpoint  = \"/\"\\nurl = f\"{base_url}{endpoint}\"\\n\\nresponse = requests.get(url)\\nprint(\"Response:\", response.json())'"
      ]
     },
     "execution_count": 6,
     "metadata": {},
     "output_type": "execute_result"
    }
   ],
   "source": [
    "import requests\n",
    "#Exemple pour le endpoint 0\n",
    "base_url = \"http://localhost:4000\"\n",
    "endpoint  = \"/\"\n",
    "url = f\"{base_url}{endpoint}\"\n",
    "\n",
    "response = requests.get(url)\n",
    "print(\"Response:\", response.json())"
   ]
  }
 ],
 "metadata": {
  "colab": {
   "authorship_tag": "ABX9TyNI1F4WrAvdcY+zy7d69HVB",
   "provenance": []
  },
  "kernelspec": {
   "display_name": "Python 3 (ipykernel)",
   "language": "python",
   "name": "python3"
  },
  "language_info": {
   "codemirror_mode": {
    "name": "ipython",
    "version": 3
   },
   "file_extension": ".py",
   "mimetype": "text/x-python",
   "name": "python",
   "nbconvert_exporter": "python",
   "pygments_lexer": "ipython3",
   "version": "3.9.12"
  },
  "toc": {
   "base_numbering": 1,
   "nav_menu": {},
   "number_sections": true,
   "sideBar": true,
   "skip_h1_title": true,
   "title_cell": "Table of Contents",
   "title_sidebar": "Contents",
   "toc_cell": false,
   "toc_position": {
    "height": "calc(100% - 180px)",
    "left": "10px",
    "top": "150px",
    "width": "224.201px"
   },
   "toc_section_display": true,
   "toc_window_display": true
  }
 },
 "nbformat": 4,
 "nbformat_minor": 1
}
